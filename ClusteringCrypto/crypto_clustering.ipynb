{
  "nbformat": 4,
  "nbformat_minor": 0,
  "metadata": {
    "file_extension": ".py",
    "kernelspec": {
      "display_name": "Python 3",
      "language": "python",
      "name": "python3"
    },
    "language_info": {
      "codemirror_mode": {
        "name": "ipython",
        "version": 3
      },
      "file_extension": ".py",
      "mimetype": "text/x-python",
      "name": "python",
      "nbconvert_exporter": "python",
      "pygments_lexer": "ipython3",
      "version": "3.7.3"
    },
    "mimetype": "text/x-python",
    "name": "python",
    "npconvert_exporter": "python",
    "pygments_lexer": "ipython3",
    "version": 3,
    "colab": {
      "name": "crypto_clustering.ipynb",
      "provenance": [],
      "collapsed_sections": []
    }
  },
  "cells": [
    {
      "cell_type": "markdown",
      "metadata": {
        "id": "JxbJT0M762Gu"
      },
      "source": [
        "# Clustering Crypto"
      ]
    },
    {
      "cell_type": "code",
      "metadata": {
        "colab": {
          "base_uri": "https://localhost:8080/"
        },
        "id": "3NoBnmFj7DxZ",
        "outputId": "d9f5c28c-d8ba-4de1-de5a-f2f7cf1bc9b1"
      },
      "source": [
        "from google.colab import drive\n",
        "drive.mount('/content/drive')"
      ],
      "execution_count": 2,
      "outputs": [
        {
          "output_type": "stream",
          "text": [
            "Mounted at /content/drive\n"
          ],
          "name": "stdout"
        }
      ]
    },
    {
      "cell_type": "code",
      "metadata": {
        "id": "0Pz4gldQ62G0"
      },
      "source": [
        "# Initial imports\n",
        "import requests\n",
        "import pandas as pd\n",
        "from pathlib import Path\n",
        "import matplotlib.pyplot as plt\n",
        "#import hvplot.pandas\n",
        "import plotly.express as px\n",
        "from sklearn.preprocessing import StandardScaler, MinMaxScaler\n",
        "from sklearn.decomposition import PCA\n",
        "from sklearn.cluster import KMeans\n",
        "from sklearn.preprocessing import LabelEncoder\n",
        "from sklearn.compose import ColumnTransformer \n",
        "from sklearn.preprocessing import StandardScaler\n",
        "from sklearn.preprocessing import OneHotEncoder"
      ],
      "execution_count": 1,
      "outputs": []
    },
    {
      "cell_type": "markdown",
      "metadata": {
        "id": "mSbyfWNK62G1"
      },
      "source": [
        "### Fetching Cryptocurrency Data"
      ]
    },
    {
      "cell_type": "code",
      "metadata": {
        "colab": {
          "base_uri": "https://localhost:8080/",
          "height": 204
        },
        "id": "cGaywrkU62G2",
        "outputId": "ab08d6bd-3cf1-47b4-b6d5-8dc9870e820f"
      },
      "source": [
        "# Alternatively, use the provided csv file:\n",
        "file_path = Path(\"/content/drive/MyDrive/Colab Notebooks/ClassWork/13-AWS/Assignment/Instructions/Starter_Files/Resources/crypto_data.csv\")\n",
        "\n",
        "# Create a DataFrame\n",
        "crypto_df = pd.read_csv(file_path, index_col=0)\n",
        "crypto_df.head()"
      ],
      "execution_count": 3,
      "outputs": [
        {
          "output_type": "execute_result",
          "data": {
            "text/html": [
              "<div>\n",
              "<style scoped>\n",
              "    .dataframe tbody tr th:only-of-type {\n",
              "        vertical-align: middle;\n",
              "    }\n",
              "\n",
              "    .dataframe tbody tr th {\n",
              "        vertical-align: top;\n",
              "    }\n",
              "\n",
              "    .dataframe thead th {\n",
              "        text-align: right;\n",
              "    }\n",
              "</style>\n",
              "<table border=\"1\" class=\"dataframe\">\n",
              "  <thead>\n",
              "    <tr style=\"text-align: right;\">\n",
              "      <th></th>\n",
              "      <th>CoinName</th>\n",
              "      <th>Algorithm</th>\n",
              "      <th>IsTrading</th>\n",
              "      <th>ProofType</th>\n",
              "      <th>TotalCoinsMined</th>\n",
              "      <th>TotalCoinSupply</th>\n",
              "    </tr>\n",
              "  </thead>\n",
              "  <tbody>\n",
              "    <tr>\n",
              "      <th>42</th>\n",
              "      <td>42 Coin</td>\n",
              "      <td>Scrypt</td>\n",
              "      <td>True</td>\n",
              "      <td>PoW/PoS</td>\n",
              "      <td>4.199995e+01</td>\n",
              "      <td>42</td>\n",
              "    </tr>\n",
              "    <tr>\n",
              "      <th>365</th>\n",
              "      <td>365Coin</td>\n",
              "      <td>X11</td>\n",
              "      <td>True</td>\n",
              "      <td>PoW/PoS</td>\n",
              "      <td>NaN</td>\n",
              "      <td>2300000000</td>\n",
              "    </tr>\n",
              "    <tr>\n",
              "      <th>404</th>\n",
              "      <td>404Coin</td>\n",
              "      <td>Scrypt</td>\n",
              "      <td>True</td>\n",
              "      <td>PoW/PoS</td>\n",
              "      <td>1.055185e+09</td>\n",
              "      <td>532000000</td>\n",
              "    </tr>\n",
              "    <tr>\n",
              "      <th>611</th>\n",
              "      <td>SixEleven</td>\n",
              "      <td>SHA-256</td>\n",
              "      <td>True</td>\n",
              "      <td>PoW</td>\n",
              "      <td>NaN</td>\n",
              "      <td>611000</td>\n",
              "    </tr>\n",
              "    <tr>\n",
              "      <th>808</th>\n",
              "      <td>808</td>\n",
              "      <td>SHA-256</td>\n",
              "      <td>True</td>\n",
              "      <td>PoW/PoS</td>\n",
              "      <td>0.000000e+00</td>\n",
              "      <td>0</td>\n",
              "    </tr>\n",
              "  </tbody>\n",
              "</table>\n",
              "</div>"
            ],
            "text/plain": [
              "      CoinName Algorithm  IsTrading ProofType  TotalCoinsMined TotalCoinSupply\n",
              "42     42 Coin    Scrypt       True   PoW/PoS     4.199995e+01              42\n",
              "365    365Coin       X11       True   PoW/PoS              NaN      2300000000\n",
              "404    404Coin    Scrypt       True   PoW/PoS     1.055185e+09       532000000\n",
              "611  SixEleven   SHA-256       True       PoW              NaN          611000\n",
              "808        808   SHA-256       True   PoW/PoS     0.000000e+00               0"
            ]
          },
          "metadata": {
            "tags": []
          },
          "execution_count": 3
        }
      ]
    },
    {
      "cell_type": "code",
      "metadata": {
        "colab": {
          "base_uri": "https://localhost:8080/"
        },
        "id": "YVrlG1dGEtEX",
        "outputId": "b7483533-1055-4973-d95b-e0aae175b795"
      },
      "source": [
        "crypto_df.shape"
      ],
      "execution_count": 4,
      "outputs": [
        {
          "output_type": "execute_result",
          "data": {
            "text/plain": [
              "(1252, 6)"
            ]
          },
          "metadata": {
            "tags": []
          },
          "execution_count": 4
        }
      ]
    },
    {
      "cell_type": "markdown",
      "metadata": {
        "id": "oymN6iXJ62G2"
      },
      "source": [
        "### Data Preprocessing"
      ]
    },
    {
      "cell_type": "code",
      "metadata": {
        "id": "zB2fu6ip62G2"
      },
      "source": [
        "# Keep only necessary columns:\n",
        "# 'CoinName','Algorithm','IsTrading','ProofType','TotalCoinsMined','TotalCoinSupply'\n",
        "#crypto_df = crypto_df.drop(columns='Unnamed: 0')\n",
        "#crypto_df.shape"
      ],
      "execution_count": 4,
      "outputs": []
    },
    {
      "cell_type": "code",
      "metadata": {
        "colab": {
          "base_uri": "https://localhost:8080/"
        },
        "id": "qUPDkryF62G3",
        "outputId": "3dd61ad6-c8bd-4d2d-b3c4-1d9fb7abbf0e"
      },
      "source": [
        "# Keep only cryptocurrencies that are trading\n",
        "crypto_df = crypto_df[crypto_df['IsTrading']==True]\n",
        "crypto_df.shape"
      ],
      "execution_count": 6,
      "outputs": [
        {
          "output_type": "execute_result",
          "data": {
            "text/plain": [
              "(1144, 6)"
            ]
          },
          "metadata": {
            "tags": []
          },
          "execution_count": 6
        }
      ]
    },
    {
      "cell_type": "code",
      "metadata": {
        "id": "TsPBDn5feD3i"
      },
      "source": [
        "%load_ext google.colab.data_table\n"
      ],
      "execution_count": 66,
      "outputs": []
    },
    {
      "cell_type": "code",
      "metadata": {
        "id": "V5Dtwdsy62G3"
      },
      "source": [
        "# Keep only cryptocurrencies with a working algorithm\n"
      ],
      "execution_count": null,
      "outputs": []
    },
    {
      "cell_type": "code",
      "metadata": {
        "colab": {
          "base_uri": "https://localhost:8080/"
        },
        "id": "Lf1ytsyB62G3",
        "outputId": "6e92885b-9481-4fd6-c970-0e587fbdc9d0"
      },
      "source": [
        "# Remove the \"IsTrading\" column\n",
        "crypto_df =crypto_df.drop(columns='IsTrading')\n",
        "crypto_df.shape"
      ],
      "execution_count": 7,
      "outputs": [
        {
          "output_type": "execute_result",
          "data": {
            "text/plain": [
              "(1144, 5)"
            ]
          },
          "metadata": {
            "tags": []
          },
          "execution_count": 7
        }
      ]
    },
    {
      "cell_type": "code",
      "metadata": {
        "colab": {
          "base_uri": "https://localhost:8080/"
        },
        "id": "sUQ94fPkgGeS",
        "outputId": "e146d493-341f-4c33-97ac-8d566ab83e5b"
      },
      "source": [
        "print('TotalCoinsMined equal to Zero',(crypto_df['TotalCoinsMined'] == 0).sum(axis=0))\n",
        "print('TotalCoinsMined that are nulls',(crypto_df['TotalCoinsMined']).isna().sum(axis=0))"
      ],
      "execution_count": 8,
      "outputs": [
        {
          "output_type": "stream",
          "text": [
            "TotalCoinsMined equal to Zero 152\n",
            "TotalCoinsMined that are nulls 459\n"
          ],
          "name": "stdout"
        }
      ]
    },
    {
      "cell_type": "code",
      "metadata": {
        "colab": {
          "base_uri": "https://localhost:8080/"
        },
        "id": "K41Ie9_c62G3",
        "outputId": "4d714dc5-2e47-4349-c808-523fc83915b4"
      },
      "source": [
        "# Remove rows with at least 1 null value\n",
        "crypto_df = crypto_df.dropna(how='any',axis=0)\n",
        "crypto_df.shape "
      ],
      "execution_count": 9,
      "outputs": [
        {
          "output_type": "execute_result",
          "data": {
            "text/plain": [
              "(685, 5)"
            ]
          },
          "metadata": {
            "tags": []
          },
          "execution_count": 9
        }
      ]
    },
    {
      "cell_type": "code",
      "metadata": {
        "colab": {
          "base_uri": "https://localhost:8080/"
        },
        "id": "U2Af9WFl62G4",
        "outputId": "c58e03a8-adf0-4e4c-ffea-941184ed4fa7"
      },
      "source": [
        "# Remove rows with cryptocurrencies having no coins mined\n",
        "crypto_df = crypto_df[crypto_df.TotalCoinsMined != 0]\n",
        "crypto_df.shape"
      ],
      "execution_count": 10,
      "outputs": [
        {
          "output_type": "execute_result",
          "data": {
            "text/plain": [
              "(533, 5)"
            ]
          },
          "metadata": {
            "tags": []
          },
          "execution_count": 10
        }
      ]
    },
    {
      "cell_type": "code",
      "metadata": {
        "colab": {
          "base_uri": "https://localhost:8080/"
        },
        "id": "R76ZPJKt62G4",
        "outputId": "35a0e331-0d5d-4842-8403-ceaddac91f18"
      },
      "source": [
        "# Drop rows where there are 'N/A' text values\n",
        "crypto_df.eq('N/A').any()\n",
        "# Does not appear to be any \"N/A\" values that are text"
      ],
      "execution_count": 11,
      "outputs": [
        {
          "output_type": "execute_result",
          "data": {
            "text/plain": [
              "CoinName           False\n",
              "Algorithm          False\n",
              "ProofType          False\n",
              "TotalCoinsMined    False\n",
              "TotalCoinSupply    False\n",
              "dtype: bool"
            ]
          },
          "metadata": {
            "tags": []
          },
          "execution_count": 11
        }
      ]
    },
    {
      "cell_type": "code",
      "metadata": {
        "id": "zmIzWLnweD3u"
      },
      "source": [
        "%unload_ext google.colab.data_table"
      ],
      "execution_count": 20,
      "outputs": []
    },
    {
      "cell_type": "code",
      "metadata": {
        "id": "WvqumVPs62G4"
      },
      "source": [
        "# Store the 'CoinName'column in its own DataFrame prior to dropping it from crypto_df\n",
        "coins_name = pd.DataFrame(data= crypto_df['CoinName'], index=crypto_df.index)\n"
      ],
      "execution_count": 12,
      "outputs": []
    },
    {
      "cell_type": "code",
      "metadata": {
        "colab": {
          "base_uri": "https://localhost:8080/"
        },
        "id": "wMUlcv0M62G4",
        "outputId": "0a63b790-03b1-438f-b717-3818c149e0ba"
      },
      "source": [
        "# Drop the 'CoinName' column since it's not going to be used on the clustering algorithm\n",
        "crypto_df =crypto_df.drop(columns='CoinName')\n",
        "crypto_df.shape"
      ],
      "execution_count": 13,
      "outputs": [
        {
          "output_type": "execute_result",
          "data": {
            "text/plain": [
              "(533, 4)"
            ]
          },
          "metadata": {
            "tags": []
          },
          "execution_count": 13
        }
      ]
    },
    {
      "cell_type": "code",
      "metadata": {
        "colab": {
          "base_uri": "https://localhost:8080/"
        },
        "id": "9wFF3ldU62G5",
        "outputId": "80cc3632-28a3-40df-d468-4acb366051a4"
      },
      "source": [
        "# Create dummy variables for text features\n",
        "X = pd.get_dummies(crypto_df, columns=['Algorithm', 'ProofType'])\n",
        "X.shape"
      ],
      "execution_count": 14,
      "outputs": [
        {
          "output_type": "execute_result",
          "data": {
            "text/plain": [
              "(533, 100)"
            ]
          },
          "metadata": {
            "tags": []
          },
          "execution_count": 14
        }
      ]
    },
    {
      "cell_type": "code",
      "metadata": {
        "colab": {
          "base_uri": "https://localhost:8080/",
          "height": 408
        },
        "id": "KMyBS6cO62G5",
        "outputId": "8060cc69-653d-4fdc-9692-8ff8267e5a78"
      },
      "source": [
        "# Standardize data\n",
        "scaler = StandardScaler()\n",
        "scaler.fit(X)\n",
        "X_scaled = scaler.transform(X)\n",
        "pd.DataFrame(X_scaled).head(10)"
      ],
      "execution_count": 22,
      "outputs": [
        {
          "output_type": "execute_result",
          "data": {
            "text/html": [
              "<div>\n",
              "<style scoped>\n",
              "    .dataframe tbody tr th:only-of-type {\n",
              "        vertical-align: middle;\n",
              "    }\n",
              "\n",
              "    .dataframe tbody tr th {\n",
              "        vertical-align: top;\n",
              "    }\n",
              "\n",
              "    .dataframe thead th {\n",
              "        text-align: right;\n",
              "    }\n",
              "</style>\n",
              "<table border=\"1\" class=\"dataframe\">\n",
              "  <thead>\n",
              "    <tr style=\"text-align: right;\">\n",
              "      <th></th>\n",
              "      <th>0</th>\n",
              "      <th>1</th>\n",
              "      <th>2</th>\n",
              "      <th>3</th>\n",
              "      <th>4</th>\n",
              "      <th>5</th>\n",
              "      <th>6</th>\n",
              "      <th>7</th>\n",
              "      <th>8</th>\n",
              "      <th>9</th>\n",
              "      <th>10</th>\n",
              "      <th>11</th>\n",
              "      <th>12</th>\n",
              "      <th>13</th>\n",
              "      <th>14</th>\n",
              "      <th>15</th>\n",
              "      <th>16</th>\n",
              "      <th>17</th>\n",
              "      <th>18</th>\n",
              "      <th>19</th>\n",
              "      <th>20</th>\n",
              "      <th>21</th>\n",
              "      <th>22</th>\n",
              "      <th>23</th>\n",
              "      <th>24</th>\n",
              "      <th>25</th>\n",
              "      <th>26</th>\n",
              "      <th>27</th>\n",
              "      <th>28</th>\n",
              "      <th>29</th>\n",
              "      <th>30</th>\n",
              "      <th>31</th>\n",
              "      <th>32</th>\n",
              "      <th>33</th>\n",
              "      <th>34</th>\n",
              "      <th>35</th>\n",
              "      <th>36</th>\n",
              "      <th>37</th>\n",
              "      <th>38</th>\n",
              "      <th>39</th>\n",
              "      <th>...</th>\n",
              "      <th>60</th>\n",
              "      <th>61</th>\n",
              "      <th>62</th>\n",
              "      <th>63</th>\n",
              "      <th>64</th>\n",
              "      <th>65</th>\n",
              "      <th>66</th>\n",
              "      <th>67</th>\n",
              "      <th>68</th>\n",
              "      <th>69</th>\n",
              "      <th>70</th>\n",
              "      <th>71</th>\n",
              "      <th>72</th>\n",
              "      <th>73</th>\n",
              "      <th>74</th>\n",
              "      <th>75</th>\n",
              "      <th>76</th>\n",
              "      <th>77</th>\n",
              "      <th>78</th>\n",
              "      <th>79</th>\n",
              "      <th>80</th>\n",
              "      <th>81</th>\n",
              "      <th>82</th>\n",
              "      <th>83</th>\n",
              "      <th>84</th>\n",
              "      <th>85</th>\n",
              "      <th>86</th>\n",
              "      <th>87</th>\n",
              "      <th>88</th>\n",
              "      <th>89</th>\n",
              "      <th>90</th>\n",
              "      <th>91</th>\n",
              "      <th>92</th>\n",
              "      <th>93</th>\n",
              "      <th>94</th>\n",
              "      <th>95</th>\n",
              "      <th>96</th>\n",
              "      <th>97</th>\n",
              "      <th>98</th>\n",
              "      <th>99</th>\n",
              "    </tr>\n",
              "  </thead>\n",
              "  <tbody>\n",
              "    <tr>\n",
              "      <th>0</th>\n",
              "      <td>-0.116748</td>\n",
              "      <td>-0.152865</td>\n",
              "      <td>-0.043355</td>\n",
              "      <td>-0.043355</td>\n",
              "      <td>-0.043355</td>\n",
              "      <td>-0.061372</td>\n",
              "      <td>-0.075235</td>\n",
              "      <td>-0.043355</td>\n",
              "      <td>-0.061372</td>\n",
              "      <td>-0.061372</td>\n",
              "      <td>-0.043355</td>\n",
              "      <td>-0.043355</td>\n",
              "      <td>-0.192263</td>\n",
              "      <td>-0.061372</td>\n",
              "      <td>-0.097312</td>\n",
              "      <td>-0.043355</td>\n",
              "      <td>-0.11536</td>\n",
              "      <td>-0.075235</td>\n",
              "      <td>-0.043355</td>\n",
              "      <td>-0.043355</td>\n",
              "      <td>-0.151765</td>\n",
              "      <td>-0.043355</td>\n",
              "      <td>-0.131056</td>\n",
              "      <td>-0.043355</td>\n",
              "      <td>-0.043355</td>\n",
              "      <td>-0.086957</td>\n",
              "      <td>-0.043355</td>\n",
              "      <td>-0.043355</td>\n",
              "      <td>-0.043355</td>\n",
              "      <td>-0.043355</td>\n",
              "      <td>-0.061372</td>\n",
              "      <td>-0.043355</td>\n",
              "      <td>-0.086957</td>\n",
              "      <td>-0.086957</td>\n",
              "      <td>-0.086957</td>\n",
              "      <td>-0.043355</td>\n",
              "      <td>-0.131056</td>\n",
              "      <td>-0.138277</td>\n",
              "      <td>-0.138277</td>\n",
              "      <td>-0.043355</td>\n",
              "      <td>...</td>\n",
              "      <td>-0.043355</td>\n",
              "      <td>-0.043355</td>\n",
              "      <td>-0.043355</td>\n",
              "      <td>-0.043355</td>\n",
              "      <td>-0.043355</td>\n",
              "      <td>-0.043355</td>\n",
              "      <td>-0.043355</td>\n",
              "      <td>-0.398366</td>\n",
              "      <td>-0.043355</td>\n",
              "      <td>-0.18151</td>\n",
              "      <td>-0.043355</td>\n",
              "      <td>-0.086957</td>\n",
              "      <td>-0.086957</td>\n",
              "      <td>-0.106701</td>\n",
              "      <td>-0.043355</td>\n",
              "      <td>-0.043355</td>\n",
              "      <td>-0.131056</td>\n",
              "      <td>-0.043355</td>\n",
              "      <td>-0.043355</td>\n",
              "      <td>-0.043355</td>\n",
              "      <td>-0.043355</td>\n",
              "      <td>-0.075235</td>\n",
              "      <td>-0.438627</td>\n",
              "      <td>-0.043355</td>\n",
              "      <td>-0.061372</td>\n",
              "      <td>-0.043355</td>\n",
              "      <td>-0.043355</td>\n",
              "      <td>-0.894805</td>\n",
              "      <td>-0.043355</td>\n",
              "      <td>-0.043355</td>\n",
              "      <td>1.424222</td>\n",
              "      <td>-0.043355</td>\n",
              "      <td>-0.043355</td>\n",
              "      <td>-0.043355</td>\n",
              "      <td>-0.043355</td>\n",
              "      <td>-0.043355</td>\n",
              "      <td>-0.043355</td>\n",
              "      <td>-0.043355</td>\n",
              "      <td>-0.043355</td>\n",
              "      <td>-0.043355</td>\n",
              "    </tr>\n",
              "    <tr>\n",
              "      <th>1</th>\n",
              "      <td>-0.093589</td>\n",
              "      <td>-0.144996</td>\n",
              "      <td>-0.043355</td>\n",
              "      <td>-0.043355</td>\n",
              "      <td>-0.043355</td>\n",
              "      <td>-0.061372</td>\n",
              "      <td>-0.075235</td>\n",
              "      <td>-0.043355</td>\n",
              "      <td>-0.061372</td>\n",
              "      <td>-0.061372</td>\n",
              "      <td>-0.043355</td>\n",
              "      <td>-0.043355</td>\n",
              "      <td>-0.192263</td>\n",
              "      <td>-0.061372</td>\n",
              "      <td>-0.097312</td>\n",
              "      <td>-0.043355</td>\n",
              "      <td>-0.11536</td>\n",
              "      <td>-0.075235</td>\n",
              "      <td>-0.043355</td>\n",
              "      <td>-0.043355</td>\n",
              "      <td>-0.151765</td>\n",
              "      <td>-0.043355</td>\n",
              "      <td>-0.131056</td>\n",
              "      <td>-0.043355</td>\n",
              "      <td>-0.043355</td>\n",
              "      <td>-0.086957</td>\n",
              "      <td>-0.043355</td>\n",
              "      <td>-0.043355</td>\n",
              "      <td>-0.043355</td>\n",
              "      <td>-0.043355</td>\n",
              "      <td>-0.061372</td>\n",
              "      <td>-0.043355</td>\n",
              "      <td>-0.086957</td>\n",
              "      <td>-0.086957</td>\n",
              "      <td>-0.086957</td>\n",
              "      <td>-0.043355</td>\n",
              "      <td>-0.131056</td>\n",
              "      <td>-0.138277</td>\n",
              "      <td>-0.138277</td>\n",
              "      <td>-0.043355</td>\n",
              "      <td>...</td>\n",
              "      <td>-0.043355</td>\n",
              "      <td>-0.043355</td>\n",
              "      <td>-0.043355</td>\n",
              "      <td>-0.043355</td>\n",
              "      <td>-0.043355</td>\n",
              "      <td>-0.043355</td>\n",
              "      <td>-0.043355</td>\n",
              "      <td>-0.398366</td>\n",
              "      <td>-0.043355</td>\n",
              "      <td>-0.18151</td>\n",
              "      <td>-0.043355</td>\n",
              "      <td>-0.086957</td>\n",
              "      <td>-0.086957</td>\n",
              "      <td>-0.106701</td>\n",
              "      <td>-0.043355</td>\n",
              "      <td>-0.043355</td>\n",
              "      <td>-0.131056</td>\n",
              "      <td>-0.043355</td>\n",
              "      <td>-0.043355</td>\n",
              "      <td>-0.043355</td>\n",
              "      <td>-0.043355</td>\n",
              "      <td>-0.075235</td>\n",
              "      <td>-0.438627</td>\n",
              "      <td>-0.043355</td>\n",
              "      <td>-0.061372</td>\n",
              "      <td>-0.043355</td>\n",
              "      <td>-0.043355</td>\n",
              "      <td>-0.894805</td>\n",
              "      <td>-0.043355</td>\n",
              "      <td>-0.043355</td>\n",
              "      <td>1.424222</td>\n",
              "      <td>-0.043355</td>\n",
              "      <td>-0.043355</td>\n",
              "      <td>-0.043355</td>\n",
              "      <td>-0.043355</td>\n",
              "      <td>-0.043355</td>\n",
              "      <td>-0.043355</td>\n",
              "      <td>-0.043355</td>\n",
              "      <td>-0.043355</td>\n",
              "      <td>-0.043355</td>\n",
              "    </tr>\n",
              "    <tr>\n",
              "      <th>2</th>\n",
              "      <td>0.525872</td>\n",
              "      <td>4.493764</td>\n",
              "      <td>-0.043355</td>\n",
              "      <td>-0.043355</td>\n",
              "      <td>-0.043355</td>\n",
              "      <td>-0.061372</td>\n",
              "      <td>-0.075235</td>\n",
              "      <td>-0.043355</td>\n",
              "      <td>-0.061372</td>\n",
              "      <td>-0.061372</td>\n",
              "      <td>-0.043355</td>\n",
              "      <td>-0.043355</td>\n",
              "      <td>-0.192263</td>\n",
              "      <td>-0.061372</td>\n",
              "      <td>-0.097312</td>\n",
              "      <td>-0.043355</td>\n",
              "      <td>-0.11536</td>\n",
              "      <td>-0.075235</td>\n",
              "      <td>-0.043355</td>\n",
              "      <td>-0.043355</td>\n",
              "      <td>-0.151765</td>\n",
              "      <td>-0.043355</td>\n",
              "      <td>-0.131056</td>\n",
              "      <td>-0.043355</td>\n",
              "      <td>-0.043355</td>\n",
              "      <td>-0.086957</td>\n",
              "      <td>-0.043355</td>\n",
              "      <td>-0.043355</td>\n",
              "      <td>-0.043355</td>\n",
              "      <td>-0.043355</td>\n",
              "      <td>-0.061372</td>\n",
              "      <td>-0.043355</td>\n",
              "      <td>-0.086957</td>\n",
              "      <td>-0.086957</td>\n",
              "      <td>-0.086957</td>\n",
              "      <td>-0.043355</td>\n",
              "      <td>-0.131056</td>\n",
              "      <td>-0.138277</td>\n",
              "      <td>-0.138277</td>\n",
              "      <td>-0.043355</td>\n",
              "      <td>...</td>\n",
              "      <td>-0.043355</td>\n",
              "      <td>-0.043355</td>\n",
              "      <td>-0.043355</td>\n",
              "      <td>-0.043355</td>\n",
              "      <td>-0.043355</td>\n",
              "      <td>-0.043355</td>\n",
              "      <td>-0.043355</td>\n",
              "      <td>-0.398366</td>\n",
              "      <td>-0.043355</td>\n",
              "      <td>5.50935</td>\n",
              "      <td>-0.043355</td>\n",
              "      <td>-0.086957</td>\n",
              "      <td>-0.086957</td>\n",
              "      <td>-0.106701</td>\n",
              "      <td>-0.043355</td>\n",
              "      <td>-0.043355</td>\n",
              "      <td>-0.131056</td>\n",
              "      <td>-0.043355</td>\n",
              "      <td>-0.043355</td>\n",
              "      <td>-0.043355</td>\n",
              "      <td>-0.043355</td>\n",
              "      <td>-0.075235</td>\n",
              "      <td>-0.438627</td>\n",
              "      <td>-0.043355</td>\n",
              "      <td>-0.061372</td>\n",
              "      <td>-0.043355</td>\n",
              "      <td>-0.043355</td>\n",
              "      <td>-0.894805</td>\n",
              "      <td>-0.043355</td>\n",
              "      <td>-0.043355</td>\n",
              "      <td>1.424222</td>\n",
              "      <td>-0.043355</td>\n",
              "      <td>-0.043355</td>\n",
              "      <td>-0.043355</td>\n",
              "      <td>-0.043355</td>\n",
              "      <td>-0.043355</td>\n",
              "      <td>-0.043355</td>\n",
              "      <td>-0.043355</td>\n",
              "      <td>-0.043355</td>\n",
              "      <td>-0.043355</td>\n",
              "    </tr>\n",
              "    <tr>\n",
              "      <th>3</th>\n",
              "      <td>-0.116354</td>\n",
              "      <td>-0.152554</td>\n",
              "      <td>-0.043355</td>\n",
              "      <td>-0.043355</td>\n",
              "      <td>-0.043355</td>\n",
              "      <td>-0.061372</td>\n",
              "      <td>-0.075235</td>\n",
              "      <td>-0.043355</td>\n",
              "      <td>-0.061372</td>\n",
              "      <td>-0.061372</td>\n",
              "      <td>-0.043355</td>\n",
              "      <td>-0.043355</td>\n",
              "      <td>-0.192263</td>\n",
              "      <td>-0.061372</td>\n",
              "      <td>-0.097312</td>\n",
              "      <td>-0.043355</td>\n",
              "      <td>-0.11536</td>\n",
              "      <td>-0.075235</td>\n",
              "      <td>-0.043355</td>\n",
              "      <td>-0.043355</td>\n",
              "      <td>-0.151765</td>\n",
              "      <td>-0.043355</td>\n",
              "      <td>-0.131056</td>\n",
              "      <td>-0.043355</td>\n",
              "      <td>-0.043355</td>\n",
              "      <td>-0.086957</td>\n",
              "      <td>-0.043355</td>\n",
              "      <td>-0.043355</td>\n",
              "      <td>-0.043355</td>\n",
              "      <td>-0.043355</td>\n",
              "      <td>-0.061372</td>\n",
              "      <td>-0.043355</td>\n",
              "      <td>-0.086957</td>\n",
              "      <td>-0.086957</td>\n",
              "      <td>-0.086957</td>\n",
              "      <td>-0.043355</td>\n",
              "      <td>-0.131056</td>\n",
              "      <td>-0.138277</td>\n",
              "      <td>-0.138277</td>\n",
              "      <td>-0.043355</td>\n",
              "      <td>...</td>\n",
              "      <td>-0.043355</td>\n",
              "      <td>-0.043355</td>\n",
              "      <td>-0.043355</td>\n",
              "      <td>-0.043355</td>\n",
              "      <td>-0.043355</td>\n",
              "      <td>-0.043355</td>\n",
              "      <td>-0.043355</td>\n",
              "      <td>-0.398366</td>\n",
              "      <td>-0.043355</td>\n",
              "      <td>-0.18151</td>\n",
              "      <td>-0.043355</td>\n",
              "      <td>-0.086957</td>\n",
              "      <td>-0.086957</td>\n",
              "      <td>-0.106701</td>\n",
              "      <td>-0.043355</td>\n",
              "      <td>-0.043355</td>\n",
              "      <td>-0.131056</td>\n",
              "      <td>-0.043355</td>\n",
              "      <td>-0.043355</td>\n",
              "      <td>-0.043355</td>\n",
              "      <td>-0.043355</td>\n",
              "      <td>-0.075235</td>\n",
              "      <td>-0.438627</td>\n",
              "      <td>-0.043355</td>\n",
              "      <td>-0.061372</td>\n",
              "      <td>-0.043355</td>\n",
              "      <td>-0.043355</td>\n",
              "      <td>1.117562</td>\n",
              "      <td>-0.043355</td>\n",
              "      <td>-0.043355</td>\n",
              "      <td>-0.702138</td>\n",
              "      <td>-0.043355</td>\n",
              "      <td>-0.043355</td>\n",
              "      <td>-0.043355</td>\n",
              "      <td>-0.043355</td>\n",
              "      <td>-0.043355</td>\n",
              "      <td>-0.043355</td>\n",
              "      <td>-0.043355</td>\n",
              "      <td>-0.043355</td>\n",
              "      <td>-0.043355</td>\n",
              "    </tr>\n",
              "    <tr>\n",
              "      <th>4</th>\n",
              "      <td>-0.114384</td>\n",
              "      <td>-0.152865</td>\n",
              "      <td>-0.043355</td>\n",
              "      <td>-0.043355</td>\n",
              "      <td>-0.043355</td>\n",
              "      <td>-0.061372</td>\n",
              "      <td>-0.075235</td>\n",
              "      <td>-0.043355</td>\n",
              "      <td>-0.061372</td>\n",
              "      <td>-0.061372</td>\n",
              "      <td>-0.043355</td>\n",
              "      <td>-0.043355</td>\n",
              "      <td>-0.192263</td>\n",
              "      <td>-0.061372</td>\n",
              "      <td>-0.097312</td>\n",
              "      <td>-0.043355</td>\n",
              "      <td>-0.11536</td>\n",
              "      <td>-0.075235</td>\n",
              "      <td>-0.043355</td>\n",
              "      <td>-0.043355</td>\n",
              "      <td>-0.151765</td>\n",
              "      <td>-0.043355</td>\n",
              "      <td>7.630349</td>\n",
              "      <td>-0.043355</td>\n",
              "      <td>-0.043355</td>\n",
              "      <td>-0.086957</td>\n",
              "      <td>-0.043355</td>\n",
              "      <td>-0.043355</td>\n",
              "      <td>-0.043355</td>\n",
              "      <td>-0.043355</td>\n",
              "      <td>-0.061372</td>\n",
              "      <td>-0.043355</td>\n",
              "      <td>-0.086957</td>\n",
              "      <td>-0.086957</td>\n",
              "      <td>-0.086957</td>\n",
              "      <td>-0.043355</td>\n",
              "      <td>-0.131056</td>\n",
              "      <td>-0.138277</td>\n",
              "      <td>-0.138277</td>\n",
              "      <td>-0.043355</td>\n",
              "      <td>...</td>\n",
              "      <td>-0.043355</td>\n",
              "      <td>-0.043355</td>\n",
              "      <td>-0.043355</td>\n",
              "      <td>-0.043355</td>\n",
              "      <td>-0.043355</td>\n",
              "      <td>-0.043355</td>\n",
              "      <td>-0.043355</td>\n",
              "      <td>-0.398366</td>\n",
              "      <td>-0.043355</td>\n",
              "      <td>-0.18151</td>\n",
              "      <td>-0.043355</td>\n",
              "      <td>-0.086957</td>\n",
              "      <td>-0.086957</td>\n",
              "      <td>-0.106701</td>\n",
              "      <td>-0.043355</td>\n",
              "      <td>-0.043355</td>\n",
              "      <td>-0.131056</td>\n",
              "      <td>-0.043355</td>\n",
              "      <td>-0.043355</td>\n",
              "      <td>-0.043355</td>\n",
              "      <td>-0.043355</td>\n",
              "      <td>-0.075235</td>\n",
              "      <td>-0.438627</td>\n",
              "      <td>-0.043355</td>\n",
              "      <td>-0.061372</td>\n",
              "      <td>-0.043355</td>\n",
              "      <td>-0.043355</td>\n",
              "      <td>1.117562</td>\n",
              "      <td>-0.043355</td>\n",
              "      <td>-0.043355</td>\n",
              "      <td>-0.702138</td>\n",
              "      <td>-0.043355</td>\n",
              "      <td>-0.043355</td>\n",
              "      <td>-0.043355</td>\n",
              "      <td>-0.043355</td>\n",
              "      <td>-0.043355</td>\n",
              "      <td>-0.043355</td>\n",
              "      <td>-0.043355</td>\n",
              "      <td>-0.043355</td>\n",
              "      <td>-0.043355</td>\n",
              "    </tr>\n",
              "    <tr>\n",
              "      <th>5</th>\n",
              "      <td>-0.115364</td>\n",
              "      <td>-0.151622</td>\n",
              "      <td>-0.043355</td>\n",
              "      <td>-0.043355</td>\n",
              "      <td>-0.043355</td>\n",
              "      <td>-0.061372</td>\n",
              "      <td>-0.075235</td>\n",
              "      <td>-0.043355</td>\n",
              "      <td>-0.061372</td>\n",
              "      <td>-0.061372</td>\n",
              "      <td>-0.043355</td>\n",
              "      <td>-0.043355</td>\n",
              "      <td>-0.192263</td>\n",
              "      <td>-0.061372</td>\n",
              "      <td>-0.097312</td>\n",
              "      <td>-0.043355</td>\n",
              "      <td>-0.11536</td>\n",
              "      <td>-0.075235</td>\n",
              "      <td>-0.043355</td>\n",
              "      <td>-0.043355</td>\n",
              "      <td>-0.151765</td>\n",
              "      <td>-0.043355</td>\n",
              "      <td>-0.131056</td>\n",
              "      <td>-0.043355</td>\n",
              "      <td>-0.043355</td>\n",
              "      <td>-0.086957</td>\n",
              "      <td>-0.043355</td>\n",
              "      <td>-0.043355</td>\n",
              "      <td>-0.043355</td>\n",
              "      <td>-0.043355</td>\n",
              "      <td>-0.061372</td>\n",
              "      <td>-0.043355</td>\n",
              "      <td>-0.086957</td>\n",
              "      <td>-0.086957</td>\n",
              "      <td>-0.086957</td>\n",
              "      <td>-0.043355</td>\n",
              "      <td>-0.131056</td>\n",
              "      <td>-0.138277</td>\n",
              "      <td>-0.138277</td>\n",
              "      <td>-0.043355</td>\n",
              "      <td>...</td>\n",
              "      <td>-0.043355</td>\n",
              "      <td>-0.043355</td>\n",
              "      <td>-0.043355</td>\n",
              "      <td>-0.043355</td>\n",
              "      <td>-0.043355</td>\n",
              "      <td>-0.043355</td>\n",
              "      <td>-0.043355</td>\n",
              "      <td>-0.398366</td>\n",
              "      <td>-0.043355</td>\n",
              "      <td>-0.18151</td>\n",
              "      <td>-0.043355</td>\n",
              "      <td>-0.086957</td>\n",
              "      <td>-0.086957</td>\n",
              "      <td>-0.106701</td>\n",
              "      <td>-0.043355</td>\n",
              "      <td>-0.043355</td>\n",
              "      <td>-0.131056</td>\n",
              "      <td>-0.043355</td>\n",
              "      <td>-0.043355</td>\n",
              "      <td>-0.043355</td>\n",
              "      <td>-0.043355</td>\n",
              "      <td>-0.075235</td>\n",
              "      <td>-0.438627</td>\n",
              "      <td>-0.043355</td>\n",
              "      <td>-0.061372</td>\n",
              "      <td>-0.043355</td>\n",
              "      <td>-0.043355</td>\n",
              "      <td>1.117562</td>\n",
              "      <td>-0.043355</td>\n",
              "      <td>-0.043355</td>\n",
              "      <td>-0.702138</td>\n",
              "      <td>-0.043355</td>\n",
              "      <td>-0.043355</td>\n",
              "      <td>-0.043355</td>\n",
              "      <td>-0.043355</td>\n",
              "      <td>-0.043355</td>\n",
              "      <td>-0.043355</td>\n",
              "      <td>-0.043355</td>\n",
              "      <td>-0.043355</td>\n",
              "      <td>-0.043355</td>\n",
              "    </tr>\n",
              "    <tr>\n",
              "      <th>6</th>\n",
              "      <td>-0.116550</td>\n",
              "      <td>-0.152539</td>\n",
              "      <td>-0.043355</td>\n",
              "      <td>-0.043355</td>\n",
              "      <td>-0.043355</td>\n",
              "      <td>-0.061372</td>\n",
              "      <td>-0.075235</td>\n",
              "      <td>-0.043355</td>\n",
              "      <td>-0.061372</td>\n",
              "      <td>-0.061372</td>\n",
              "      <td>-0.043355</td>\n",
              "      <td>-0.043355</td>\n",
              "      <td>-0.192263</td>\n",
              "      <td>-0.061372</td>\n",
              "      <td>-0.097312</td>\n",
              "      <td>-0.043355</td>\n",
              "      <td>-0.11536</td>\n",
              "      <td>-0.075235</td>\n",
              "      <td>-0.043355</td>\n",
              "      <td>-0.043355</td>\n",
              "      <td>-0.151765</td>\n",
              "      <td>-0.043355</td>\n",
              "      <td>-0.131056</td>\n",
              "      <td>-0.043355</td>\n",
              "      <td>-0.043355</td>\n",
              "      <td>-0.086957</td>\n",
              "      <td>-0.043355</td>\n",
              "      <td>-0.043355</td>\n",
              "      <td>-0.043355</td>\n",
              "      <td>-0.043355</td>\n",
              "      <td>-0.061372</td>\n",
              "      <td>-0.043355</td>\n",
              "      <td>-0.086957</td>\n",
              "      <td>-0.086957</td>\n",
              "      <td>-0.086957</td>\n",
              "      <td>-0.043355</td>\n",
              "      <td>-0.131056</td>\n",
              "      <td>-0.138277</td>\n",
              "      <td>-0.138277</td>\n",
              "      <td>-0.043355</td>\n",
              "      <td>...</td>\n",
              "      <td>-0.043355</td>\n",
              "      <td>-0.043355</td>\n",
              "      <td>-0.043355</td>\n",
              "      <td>-0.043355</td>\n",
              "      <td>-0.043355</td>\n",
              "      <td>-0.043355</td>\n",
              "      <td>-0.043355</td>\n",
              "      <td>2.510253</td>\n",
              "      <td>-0.043355</td>\n",
              "      <td>-0.18151</td>\n",
              "      <td>-0.043355</td>\n",
              "      <td>-0.086957</td>\n",
              "      <td>-0.086957</td>\n",
              "      <td>-0.106701</td>\n",
              "      <td>-0.043355</td>\n",
              "      <td>-0.043355</td>\n",
              "      <td>-0.131056</td>\n",
              "      <td>-0.043355</td>\n",
              "      <td>-0.043355</td>\n",
              "      <td>-0.043355</td>\n",
              "      <td>-0.043355</td>\n",
              "      <td>-0.075235</td>\n",
              "      <td>-0.438627</td>\n",
              "      <td>-0.043355</td>\n",
              "      <td>-0.061372</td>\n",
              "      <td>-0.043355</td>\n",
              "      <td>-0.043355</td>\n",
              "      <td>-0.894805</td>\n",
              "      <td>-0.043355</td>\n",
              "      <td>-0.043355</td>\n",
              "      <td>1.424222</td>\n",
              "      <td>-0.043355</td>\n",
              "      <td>-0.043355</td>\n",
              "      <td>-0.043355</td>\n",
              "      <td>-0.043355</td>\n",
              "      <td>-0.043355</td>\n",
              "      <td>-0.043355</td>\n",
              "      <td>-0.043355</td>\n",
              "      <td>-0.043355</td>\n",
              "      <td>-0.043355</td>\n",
              "    </tr>\n",
              "    <tr>\n",
              "      <th>7</th>\n",
              "      <td>-0.116370</td>\n",
              "      <td>-0.152865</td>\n",
              "      <td>-0.043355</td>\n",
              "      <td>-0.043355</td>\n",
              "      <td>-0.043355</td>\n",
              "      <td>-0.061372</td>\n",
              "      <td>-0.075235</td>\n",
              "      <td>-0.043355</td>\n",
              "      <td>-0.061372</td>\n",
              "      <td>-0.061372</td>\n",
              "      <td>-0.043355</td>\n",
              "      <td>-0.043355</td>\n",
              "      <td>-0.192263</td>\n",
              "      <td>-0.061372</td>\n",
              "      <td>10.276186</td>\n",
              "      <td>-0.043355</td>\n",
              "      <td>-0.11536</td>\n",
              "      <td>-0.075235</td>\n",
              "      <td>-0.043355</td>\n",
              "      <td>-0.043355</td>\n",
              "      <td>-0.151765</td>\n",
              "      <td>-0.043355</td>\n",
              "      <td>-0.131056</td>\n",
              "      <td>-0.043355</td>\n",
              "      <td>-0.043355</td>\n",
              "      <td>-0.086957</td>\n",
              "      <td>-0.043355</td>\n",
              "      <td>-0.043355</td>\n",
              "      <td>-0.043355</td>\n",
              "      <td>-0.043355</td>\n",
              "      <td>-0.061372</td>\n",
              "      <td>-0.043355</td>\n",
              "      <td>-0.086957</td>\n",
              "      <td>-0.086957</td>\n",
              "      <td>-0.086957</td>\n",
              "      <td>-0.043355</td>\n",
              "      <td>-0.131056</td>\n",
              "      <td>-0.138277</td>\n",
              "      <td>-0.138277</td>\n",
              "      <td>-0.043355</td>\n",
              "      <td>...</td>\n",
              "      <td>-0.043355</td>\n",
              "      <td>-0.043355</td>\n",
              "      <td>-0.043355</td>\n",
              "      <td>-0.043355</td>\n",
              "      <td>-0.043355</td>\n",
              "      <td>-0.043355</td>\n",
              "      <td>-0.043355</td>\n",
              "      <td>-0.398366</td>\n",
              "      <td>-0.043355</td>\n",
              "      <td>-0.18151</td>\n",
              "      <td>-0.043355</td>\n",
              "      <td>-0.086957</td>\n",
              "      <td>-0.086957</td>\n",
              "      <td>-0.106701</td>\n",
              "      <td>-0.043355</td>\n",
              "      <td>-0.043355</td>\n",
              "      <td>-0.131056</td>\n",
              "      <td>-0.043355</td>\n",
              "      <td>-0.043355</td>\n",
              "      <td>-0.043355</td>\n",
              "      <td>-0.043355</td>\n",
              "      <td>-0.075235</td>\n",
              "      <td>-0.438627</td>\n",
              "      <td>-0.043355</td>\n",
              "      <td>-0.061372</td>\n",
              "      <td>-0.043355</td>\n",
              "      <td>-0.043355</td>\n",
              "      <td>1.117562</td>\n",
              "      <td>-0.043355</td>\n",
              "      <td>-0.043355</td>\n",
              "      <td>-0.702138</td>\n",
              "      <td>-0.043355</td>\n",
              "      <td>-0.043355</td>\n",
              "      <td>-0.043355</td>\n",
              "      <td>-0.043355</td>\n",
              "      <td>-0.043355</td>\n",
              "      <td>-0.043355</td>\n",
              "      <td>-0.043355</td>\n",
              "      <td>-0.043355</td>\n",
              "      <td>-0.043355</td>\n",
              "    </tr>\n",
              "    <tr>\n",
              "      <th>8</th>\n",
              "      <td>-0.114260</td>\n",
              "      <td>-0.149759</td>\n",
              "      <td>-0.043355</td>\n",
              "      <td>-0.043355</td>\n",
              "      <td>-0.043355</td>\n",
              "      <td>-0.061372</td>\n",
              "      <td>-0.075235</td>\n",
              "      <td>-0.043355</td>\n",
              "      <td>-0.061372</td>\n",
              "      <td>-0.061372</td>\n",
              "      <td>-0.043355</td>\n",
              "      <td>-0.043355</td>\n",
              "      <td>-0.192263</td>\n",
              "      <td>-0.061372</td>\n",
              "      <td>-0.097312</td>\n",
              "      <td>-0.043355</td>\n",
              "      <td>-0.11536</td>\n",
              "      <td>-0.075235</td>\n",
              "      <td>-0.043355</td>\n",
              "      <td>-0.043355</td>\n",
              "      <td>-0.151765</td>\n",
              "      <td>-0.043355</td>\n",
              "      <td>7.630349</td>\n",
              "      <td>-0.043355</td>\n",
              "      <td>-0.043355</td>\n",
              "      <td>-0.086957</td>\n",
              "      <td>-0.043355</td>\n",
              "      <td>-0.043355</td>\n",
              "      <td>-0.043355</td>\n",
              "      <td>-0.043355</td>\n",
              "      <td>-0.061372</td>\n",
              "      <td>-0.043355</td>\n",
              "      <td>-0.086957</td>\n",
              "      <td>-0.086957</td>\n",
              "      <td>-0.086957</td>\n",
              "      <td>-0.043355</td>\n",
              "      <td>-0.131056</td>\n",
              "      <td>-0.138277</td>\n",
              "      <td>-0.138277</td>\n",
              "      <td>-0.043355</td>\n",
              "      <td>...</td>\n",
              "      <td>-0.043355</td>\n",
              "      <td>-0.043355</td>\n",
              "      <td>-0.043355</td>\n",
              "      <td>-0.043355</td>\n",
              "      <td>-0.043355</td>\n",
              "      <td>-0.043355</td>\n",
              "      <td>-0.043355</td>\n",
              "      <td>-0.398366</td>\n",
              "      <td>-0.043355</td>\n",
              "      <td>-0.18151</td>\n",
              "      <td>-0.043355</td>\n",
              "      <td>-0.086957</td>\n",
              "      <td>-0.086957</td>\n",
              "      <td>-0.106701</td>\n",
              "      <td>-0.043355</td>\n",
              "      <td>-0.043355</td>\n",
              "      <td>-0.131056</td>\n",
              "      <td>-0.043355</td>\n",
              "      <td>-0.043355</td>\n",
              "      <td>-0.043355</td>\n",
              "      <td>-0.043355</td>\n",
              "      <td>-0.075235</td>\n",
              "      <td>-0.438627</td>\n",
              "      <td>-0.043355</td>\n",
              "      <td>-0.061372</td>\n",
              "      <td>-0.043355</td>\n",
              "      <td>-0.043355</td>\n",
              "      <td>1.117562</td>\n",
              "      <td>-0.043355</td>\n",
              "      <td>-0.043355</td>\n",
              "      <td>-0.702138</td>\n",
              "      <td>-0.043355</td>\n",
              "      <td>-0.043355</td>\n",
              "      <td>-0.043355</td>\n",
              "      <td>-0.043355</td>\n",
              "      <td>-0.043355</td>\n",
              "      <td>-0.043355</td>\n",
              "      <td>-0.043355</td>\n",
              "      <td>-0.043355</td>\n",
              "      <td>-0.043355</td>\n",
              "    </tr>\n",
              "    <tr>\n",
              "      <th>9</th>\n",
              "      <td>-0.116586</td>\n",
              "      <td>-0.152554</td>\n",
              "      <td>-0.043355</td>\n",
              "      <td>-0.043355</td>\n",
              "      <td>-0.043355</td>\n",
              "      <td>-0.061372</td>\n",
              "      <td>-0.075235</td>\n",
              "      <td>-0.043355</td>\n",
              "      <td>-0.061372</td>\n",
              "      <td>-0.061372</td>\n",
              "      <td>-0.043355</td>\n",
              "      <td>-0.043355</td>\n",
              "      <td>-0.192263</td>\n",
              "      <td>-0.061372</td>\n",
              "      <td>-0.097312</td>\n",
              "      <td>-0.043355</td>\n",
              "      <td>-0.11536</td>\n",
              "      <td>-0.075235</td>\n",
              "      <td>-0.043355</td>\n",
              "      <td>-0.043355</td>\n",
              "      <td>6.589132</td>\n",
              "      <td>-0.043355</td>\n",
              "      <td>-0.131056</td>\n",
              "      <td>-0.043355</td>\n",
              "      <td>-0.043355</td>\n",
              "      <td>-0.086957</td>\n",
              "      <td>-0.043355</td>\n",
              "      <td>-0.043355</td>\n",
              "      <td>-0.043355</td>\n",
              "      <td>-0.043355</td>\n",
              "      <td>-0.061372</td>\n",
              "      <td>-0.043355</td>\n",
              "      <td>-0.086957</td>\n",
              "      <td>-0.086957</td>\n",
              "      <td>-0.086957</td>\n",
              "      <td>-0.043355</td>\n",
              "      <td>-0.131056</td>\n",
              "      <td>-0.138277</td>\n",
              "      <td>-0.138277</td>\n",
              "      <td>-0.043355</td>\n",
              "      <td>...</td>\n",
              "      <td>-0.043355</td>\n",
              "      <td>-0.043355</td>\n",
              "      <td>-0.043355</td>\n",
              "      <td>-0.043355</td>\n",
              "      <td>-0.043355</td>\n",
              "      <td>-0.043355</td>\n",
              "      <td>-0.043355</td>\n",
              "      <td>-0.398366</td>\n",
              "      <td>-0.043355</td>\n",
              "      <td>-0.18151</td>\n",
              "      <td>-0.043355</td>\n",
              "      <td>-0.086957</td>\n",
              "      <td>-0.086957</td>\n",
              "      <td>-0.106701</td>\n",
              "      <td>-0.043355</td>\n",
              "      <td>-0.043355</td>\n",
              "      <td>-0.131056</td>\n",
              "      <td>-0.043355</td>\n",
              "      <td>-0.043355</td>\n",
              "      <td>-0.043355</td>\n",
              "      <td>-0.043355</td>\n",
              "      <td>-0.075235</td>\n",
              "      <td>-0.438627</td>\n",
              "      <td>-0.043355</td>\n",
              "      <td>-0.061372</td>\n",
              "      <td>-0.043355</td>\n",
              "      <td>-0.043355</td>\n",
              "      <td>1.117562</td>\n",
              "      <td>-0.043355</td>\n",
              "      <td>-0.043355</td>\n",
              "      <td>-0.702138</td>\n",
              "      <td>-0.043355</td>\n",
              "      <td>-0.043355</td>\n",
              "      <td>-0.043355</td>\n",
              "      <td>-0.043355</td>\n",
              "      <td>-0.043355</td>\n",
              "      <td>-0.043355</td>\n",
              "      <td>-0.043355</td>\n",
              "      <td>-0.043355</td>\n",
              "      <td>-0.043355</td>\n",
              "    </tr>\n",
              "  </tbody>\n",
              "</table>\n",
              "<p>10 rows × 100 columns</p>\n",
              "</div>"
            ],
            "text/plain": [
              "         0         1         2   ...        97        98        99\n",
              "0 -0.116748 -0.152865 -0.043355  ... -0.043355 -0.043355 -0.043355\n",
              "1 -0.093589 -0.144996 -0.043355  ... -0.043355 -0.043355 -0.043355\n",
              "2  0.525872  4.493764 -0.043355  ... -0.043355 -0.043355 -0.043355\n",
              "3 -0.116354 -0.152554 -0.043355  ... -0.043355 -0.043355 -0.043355\n",
              "4 -0.114384 -0.152865 -0.043355  ... -0.043355 -0.043355 -0.043355\n",
              "5 -0.115364 -0.151622 -0.043355  ... -0.043355 -0.043355 -0.043355\n",
              "6 -0.116550 -0.152539 -0.043355  ... -0.043355 -0.043355 -0.043355\n",
              "7 -0.116370 -0.152865 -0.043355  ... -0.043355 -0.043355 -0.043355\n",
              "8 -0.114260 -0.149759 -0.043355  ... -0.043355 -0.043355 -0.043355\n",
              "9 -0.116586 -0.152554 -0.043355  ... -0.043355 -0.043355 -0.043355\n",
              "\n",
              "[10 rows x 100 columns]"
            ]
          },
          "metadata": {
            "tags": []
          },
          "execution_count": 22
        }
      ]
    },
    {
      "cell_type": "markdown",
      "metadata": {
        "id": "BzkWfoVn62G5"
      },
      "source": [
        "### Reducing Dimensions Using PCA"
      ]
    },
    {
      "cell_type": "code",
      "metadata": {
        "colab": {
          "base_uri": "https://localhost:8080/",
          "height": 359
        },
        "id": "DX4MGTaQ62G5",
        "outputId": "f62de21a-d8a0-4b65-8ba5-da3aaf388acb"
      },
      "source": [
        "# Use PCA to reduce dimensions to 3 principal components\n",
        "# Initialize PCA model\n",
        "pca = PCA(n_components=3)\n",
        "pca.fit(X_scaled)\n",
        "X_pca = pca.fit_transform(X_scaled)\n",
        "pd.DataFrame(data = X_pca, index=crypto_df.index).head(10)"
      ],
      "execution_count": 25,
      "outputs": [
        {
          "output_type": "execute_result",
          "data": {
            "text/html": [
              "<div>\n",
              "<style scoped>\n",
              "    .dataframe tbody tr th:only-of-type {\n",
              "        vertical-align: middle;\n",
              "    }\n",
              "\n",
              "    .dataframe tbody tr th {\n",
              "        vertical-align: top;\n",
              "    }\n",
              "\n",
              "    .dataframe thead th {\n",
              "        text-align: right;\n",
              "    }\n",
              "</style>\n",
              "<table border=\"1\" class=\"dataframe\">\n",
              "  <thead>\n",
              "    <tr style=\"text-align: right;\">\n",
              "      <th></th>\n",
              "      <th>0</th>\n",
              "      <th>1</th>\n",
              "      <th>2</th>\n",
              "    </tr>\n",
              "  </thead>\n",
              "  <tbody>\n",
              "    <tr>\n",
              "      <th>42</th>\n",
              "      <td>-0.336779</td>\n",
              "      <td>1.146363</td>\n",
              "      <td>-0.591251</td>\n",
              "    </tr>\n",
              "    <tr>\n",
              "      <th>404</th>\n",
              "      <td>-0.320081</td>\n",
              "      <td>1.146897</td>\n",
              "      <td>-0.591686</td>\n",
              "    </tr>\n",
              "    <tr>\n",
              "      <th>1337</th>\n",
              "      <td>2.309826</td>\n",
              "      <td>1.760164</td>\n",
              "      <td>-0.707251</td>\n",
              "    </tr>\n",
              "    <tr>\n",
              "      <th>BTC</th>\n",
              "      <td>-0.146898</td>\n",
              "      <td>-1.367865</td>\n",
              "      <td>0.165079</td>\n",
              "    </tr>\n",
              "    <tr>\n",
              "      <th>ETH</th>\n",
              "      <td>-0.151054</td>\n",
              "      <td>-2.082231</td>\n",
              "      <td>0.488866</td>\n",
              "    </tr>\n",
              "    <tr>\n",
              "      <th>LTC</th>\n",
              "      <td>-0.169433</td>\n",
              "      <td>-1.033865</td>\n",
              "      <td>0.013110</td>\n",
              "    </tr>\n",
              "    <tr>\n",
              "      <th>DASH</th>\n",
              "      <td>-0.389323</td>\n",
              "      <td>1.234414</td>\n",
              "      <td>-0.567563</td>\n",
              "    </tr>\n",
              "    <tr>\n",
              "      <th>XMR</th>\n",
              "      <td>-0.155283</td>\n",
              "      <td>-2.280442</td>\n",
              "      <td>0.412910</td>\n",
              "    </tr>\n",
              "    <tr>\n",
              "      <th>ETC</th>\n",
              "      <td>-0.149493</td>\n",
              "      <td>-2.082284</td>\n",
              "      <td>0.488855</td>\n",
              "    </tr>\n",
              "    <tr>\n",
              "      <th>ZEC</th>\n",
              "      <td>-0.153580</td>\n",
              "      <td>-2.127154</td>\n",
              "      <td>0.283343</td>\n",
              "    </tr>\n",
              "  </tbody>\n",
              "</table>\n",
              "</div>"
            ],
            "text/plain": [
              "             0         1         2\n",
              "42   -0.336779  1.146363 -0.591251\n",
              "404  -0.320081  1.146897 -0.591686\n",
              "1337  2.309826  1.760164 -0.707251\n",
              "BTC  -0.146898 -1.367865  0.165079\n",
              "ETH  -0.151054 -2.082231  0.488866\n",
              "LTC  -0.169433 -1.033865  0.013110\n",
              "DASH -0.389323  1.234414 -0.567563\n",
              "XMR  -0.155283 -2.280442  0.412910\n",
              "ETC  -0.149493 -2.082284  0.488855\n",
              "ZEC  -0.153580 -2.127154  0.283343"
            ]
          },
          "metadata": {
            "tags": []
          },
          "execution_count": 25
        }
      ]
    },
    {
      "cell_type": "code",
      "metadata": {
        "id": "XBc7Ghb462G5"
      },
      "source": [
        "# Create a DataFrame with the principal components data\n",
        "pcs_df = pd.DataFrame( \n",
        "    data=X_pca, index = crypto_df.index,\n",
        "    columns=[\"PC 1\", \"PC 2\", \"PC 3\"]\n",
        "   )"
      ],
      "execution_count": 26,
      "outputs": []
    },
    {
      "cell_type": "code",
      "metadata": {
        "colab": {
          "base_uri": "https://localhost:8080/",
          "height": 204
        },
        "id": "Ur6wdxAB5k2D",
        "outputId": "36840ff5-381e-4ad9-c6de-e4c37c9b3181"
      },
      "source": [
        "pcs_df.head()"
      ],
      "execution_count": 27,
      "outputs": [
        {
          "output_type": "execute_result",
          "data": {
            "text/html": [
              "<div>\n",
              "<style scoped>\n",
              "    .dataframe tbody tr th:only-of-type {\n",
              "        vertical-align: middle;\n",
              "    }\n",
              "\n",
              "    .dataframe tbody tr th {\n",
              "        vertical-align: top;\n",
              "    }\n",
              "\n",
              "    .dataframe thead th {\n",
              "        text-align: right;\n",
              "    }\n",
              "</style>\n",
              "<table border=\"1\" class=\"dataframe\">\n",
              "  <thead>\n",
              "    <tr style=\"text-align: right;\">\n",
              "      <th></th>\n",
              "      <th>PC 1</th>\n",
              "      <th>PC 2</th>\n",
              "      <th>PC 3</th>\n",
              "    </tr>\n",
              "  </thead>\n",
              "  <tbody>\n",
              "    <tr>\n",
              "      <th>42</th>\n",
              "      <td>-0.336779</td>\n",
              "      <td>1.146363</td>\n",
              "      <td>-0.591251</td>\n",
              "    </tr>\n",
              "    <tr>\n",
              "      <th>404</th>\n",
              "      <td>-0.320081</td>\n",
              "      <td>1.146897</td>\n",
              "      <td>-0.591686</td>\n",
              "    </tr>\n",
              "    <tr>\n",
              "      <th>1337</th>\n",
              "      <td>2.309826</td>\n",
              "      <td>1.760164</td>\n",
              "      <td>-0.707251</td>\n",
              "    </tr>\n",
              "    <tr>\n",
              "      <th>BTC</th>\n",
              "      <td>-0.146898</td>\n",
              "      <td>-1.367865</td>\n",
              "      <td>0.165079</td>\n",
              "    </tr>\n",
              "    <tr>\n",
              "      <th>ETH</th>\n",
              "      <td>-0.151054</td>\n",
              "      <td>-2.082231</td>\n",
              "      <td>0.488866</td>\n",
              "    </tr>\n",
              "  </tbody>\n",
              "</table>\n",
              "</div>"
            ],
            "text/plain": [
              "          PC 1      PC 2      PC 3\n",
              "42   -0.336779  1.146363 -0.591251\n",
              "404  -0.320081  1.146897 -0.591686\n",
              "1337  2.309826  1.760164 -0.707251\n",
              "BTC  -0.146898 -1.367865  0.165079\n",
              "ETH  -0.151054 -2.082231  0.488866"
            ]
          },
          "metadata": {
            "tags": []
          },
          "execution_count": 27
        }
      ]
    },
    {
      "cell_type": "markdown",
      "metadata": {
        "id": "BoVex09e62G6"
      },
      "source": [
        "### Clustering Crytocurrencies Using K-Means\n",
        "\n",
        "#### Find the Best Value for `k` Using the Elbow Curve"
      ]
    },
    {
      "cell_type": "code",
      "metadata": {
        "colab": {
          "base_uri": "https://localhost:8080/",
          "height": 312
        },
        "id": "knxJCH8E62G6",
        "outputId": "89617e5a-2d68-47ee-a6a3-3c0e1e193671"
      },
      "source": [
        "inertia = []\n",
        "k = list(range(1, 11))\n",
        "\n",
        "# Calculate the inertia for the range of k values \n",
        "# Using pcs_df created above\n",
        "for i in k:\n",
        "    km = KMeans(n_clusters=i, random_state=0)\n",
        "    km.fit(pcs_df)\n",
        "    inertia.append(km.inertia_)\n",
        "\n",
        "# Create the Elbow Curve using hvPlot  \n",
        "# hvPlot does not run in Colab.  Using standard plot\n",
        "elbow_data = {\"k\": k, \"inertia\": inertia}\n",
        "df_elbow = pd.DataFrame(elbow_data)\n",
        "df_elbow.plot.line(x=\"k\", y=\"inertia\", xticks=k, title=\"Elbow Curve\")"
      ],
      "execution_count": 28,
      "outputs": [
        {
          "output_type": "execute_result",
          "data": {
            "text/plain": [
              "<matplotlib.axes._subplots.AxesSubplot at 0x7f9b912d9c90>"
            ]
          },
          "metadata": {
            "tags": []
          },
          "execution_count": 28
        },
        {
          "output_type": "display_data",
          "data": {
            "image/png": "[encoded data removed]",
            "text/plain": [
              "<Figure size 432x288 with 1 Axes>"
            ]
          },
          "metadata": {
            "tags": [],
            "needs_background": "light"
          }
        }
      ]
    },
    {
      "cell_type": "markdown",
      "metadata": {
        "id": "ZfSxF7L162G6"
      },
      "source": [
        "Running K-Means with `k=<your best value for k here>`"
      ]
    },
    {
      "cell_type": "code",
      "metadata": {
        "id": "F1CMHr6V62G6"
      },
      "source": [
        "# Initialize the K-Means model\n",
        "model = KMeans(n_clusters=4, random_state=0)\n",
        "# Fit the model\n",
        "model.fit(pcs_df)\n",
        "# Predict clusters\n",
        "predictions = model.predict(pcs_df)\n",
        "\n"
      ],
      "execution_count": 31,
      "outputs": []
    },
    {
      "cell_type": "code",
      "metadata": {
        "colab": {
          "base_uri": "https://localhost:8080/",
          "height": 419
        },
        "id": "DemZkvxG7kgg",
        "outputId": "160278cb-d009-4803-92aa-9c4a203619d0"
      },
      "source": [
        "# Add the predicted class columns\n",
        "pcs_df[\"class\"] = model.labels_\n",
        "pcs_df"
      ],
      "execution_count": 32,
      "outputs": [
        {
          "output_type": "execute_result",
          "data": {
            "text/html": [
              "<div>\n",
              "<style scoped>\n",
              "    .dataframe tbody tr th:only-of-type {\n",
              "        vertical-align: middle;\n",
              "    }\n",
              "\n",
              "    .dataframe tbody tr th {\n",
              "        vertical-align: top;\n",
              "    }\n",
              "\n",
              "    .dataframe thead th {\n",
              "        text-align: right;\n",
              "    }\n",
              "</style>\n",
              "<table border=\"1\" class=\"dataframe\">\n",
              "  <thead>\n",
              "    <tr style=\"text-align: right;\">\n",
              "      <th></th>\n",
              "      <th>PC 1</th>\n",
              "      <th>PC 2</th>\n",
              "      <th>PC 3</th>\n",
              "      <th>class</th>\n",
              "    </tr>\n",
              "  </thead>\n",
              "  <tbody>\n",
              "    <tr>\n",
              "      <th>42</th>\n",
              "      <td>-0.336779</td>\n",
              "      <td>1.146363</td>\n",
              "      <td>-0.591251</td>\n",
              "      <td>1</td>\n",
              "    </tr>\n",
              "    <tr>\n",
              "      <th>404</th>\n",
              "      <td>-0.320081</td>\n",
              "      <td>1.146897</td>\n",
              "      <td>-0.591686</td>\n",
              "      <td>1</td>\n",
              "    </tr>\n",
              "    <tr>\n",
              "      <th>1337</th>\n",
              "      <td>2.309826</td>\n",
              "      <td>1.760164</td>\n",
              "      <td>-0.707251</td>\n",
              "      <td>1</td>\n",
              "    </tr>\n",
              "    <tr>\n",
              "      <th>BTC</th>\n",
              "      <td>-0.146898</td>\n",
              "      <td>-1.367865</td>\n",
              "      <td>0.165079</td>\n",
              "      <td>0</td>\n",
              "    </tr>\n",
              "    <tr>\n",
              "      <th>ETH</th>\n",
              "      <td>-0.151054</td>\n",
              "      <td>-2.082231</td>\n",
              "      <td>0.488866</td>\n",
              "      <td>0</td>\n",
              "    </tr>\n",
              "    <tr>\n",
              "      <th>...</th>\n",
              "      <td>...</td>\n",
              "      <td>...</td>\n",
              "      <td>...</td>\n",
              "      <td>...</td>\n",
              "    </tr>\n",
              "    <tr>\n",
              "      <th>ZEPH</th>\n",
              "      <td>2.459723</td>\n",
              "      <td>0.403893</td>\n",
              "      <td>-0.097756</td>\n",
              "      <td>1</td>\n",
              "    </tr>\n",
              "    <tr>\n",
              "      <th>GAP</th>\n",
              "      <td>-0.334820</td>\n",
              "      <td>1.146305</td>\n",
              "      <td>-0.591267</td>\n",
              "      <td>1</td>\n",
              "    </tr>\n",
              "    <tr>\n",
              "      <th>BDX</th>\n",
              "      <td>0.325469</td>\n",
              "      <td>-2.305170</td>\n",
              "      <td>0.463343</td>\n",
              "      <td>0</td>\n",
              "    </tr>\n",
              "    <tr>\n",
              "      <th>ZEN</th>\n",
              "      <td>-0.153581</td>\n",
              "      <td>-2.127154</td>\n",
              "      <td>0.283343</td>\n",
              "      <td>0</td>\n",
              "    </tr>\n",
              "    <tr>\n",
              "      <th>XBC</th>\n",
              "      <td>-0.293362</td>\n",
              "      <td>0.858605</td>\n",
              "      <td>-0.258182</td>\n",
              "      <td>0</td>\n",
              "    </tr>\n",
              "  </tbody>\n",
              "</table>\n",
              "<p>533 rows × 4 columns</p>\n",
              "</div>"
            ],
            "text/plain": [
              "          PC 1      PC 2      PC 3  class\n",
              "42   -0.336779  1.146363 -0.591251      1\n",
              "404  -0.320081  1.146897 -0.591686      1\n",
              "1337  2.309826  1.760164 -0.707251      1\n",
              "BTC  -0.146898 -1.367865  0.165079      0\n",
              "ETH  -0.151054 -2.082231  0.488866      0\n",
              "...        ...       ...       ...    ...\n",
              "ZEPH  2.459723  0.403893 -0.097756      1\n",
              "GAP  -0.334820  1.146305 -0.591267      1\n",
              "BDX   0.325469 -2.305170  0.463343      0\n",
              "ZEN  -0.153581 -2.127154  0.283343      0\n",
              "XBC  -0.293362  0.858605 -0.258182      0\n",
              "\n",
              "[533 rows x 4 columns]"
            ]
          },
          "metadata": {
            "tags": []
          },
          "execution_count": 32
        }
      ]
    },
    {
      "cell_type": "code",
      "metadata": {
        "colab": {
          "base_uri": "https://localhost:8080/",
          "height": 419
        },
        "id": "oimEKTW830vK",
        "outputId": "d555cb00-ab88-49a8-b890-bab9d062620f"
      },
      "source": [
        "# Create a new DataFrame including predicted clusters and cryptocurrencies features\n",
        " \n",
        "clustered_df = pd.concat([crypto_df, pcs_df, coins_name], axis=1, join='inner')\n",
        "clustered_df"
      ],
      "execution_count": 39,
      "outputs": [
        {
          "output_type": "execute_result",
          "data": {
            "text/html": [
              "<div>\n",
              "<style scoped>\n",
              "    .dataframe tbody tr th:only-of-type {\n",
              "        vertical-align: middle;\n",
              "    }\n",
              "\n",
              "    .dataframe tbody tr th {\n",
              "        vertical-align: top;\n",
              "    }\n",
              "\n",
              "    .dataframe thead th {\n",
              "        text-align: right;\n",
              "    }\n",
              "</style>\n",
              "<table border=\"1\" class=\"dataframe\">\n",
              "  <thead>\n",
              "    <tr style=\"text-align: right;\">\n",
              "      <th></th>\n",
              "      <th>Algorithm</th>\n",
              "      <th>ProofType</th>\n",
              "      <th>TotalCoinsMined</th>\n",
              "      <th>TotalCoinSupply</th>\n",
              "      <th>PC 1</th>\n",
              "      <th>PC 2</th>\n",
              "      <th>PC 3</th>\n",
              "      <th>class</th>\n",
              "      <th>CoinName</th>\n",
              "    </tr>\n",
              "  </thead>\n",
              "  <tbody>\n",
              "    <tr>\n",
              "      <th>42</th>\n",
              "      <td>Scrypt</td>\n",
              "      <td>PoW/PoS</td>\n",
              "      <td>4.199995e+01</td>\n",
              "      <td>42</td>\n",
              "      <td>-0.336779</td>\n",
              "      <td>1.146363</td>\n",
              "      <td>-0.591251</td>\n",
              "      <td>1</td>\n",
              "      <td>42 Coin</td>\n",
              "    </tr>\n",
              "    <tr>\n",
              "      <th>404</th>\n",
              "      <td>Scrypt</td>\n",
              "      <td>PoW/PoS</td>\n",
              "      <td>1.055185e+09</td>\n",
              "      <td>532000000</td>\n",
              "      <td>-0.320081</td>\n",
              "      <td>1.146897</td>\n",
              "      <td>-0.591686</td>\n",
              "      <td>1</td>\n",
              "      <td>404Coin</td>\n",
              "    </tr>\n",
              "    <tr>\n",
              "      <th>1337</th>\n",
              "      <td>X13</td>\n",
              "      <td>PoW/PoS</td>\n",
              "      <td>2.927942e+10</td>\n",
              "      <td>314159265359</td>\n",
              "      <td>2.309826</td>\n",
              "      <td>1.760164</td>\n",
              "      <td>-0.707251</td>\n",
              "      <td>1</td>\n",
              "      <td>EliteCoin</td>\n",
              "    </tr>\n",
              "    <tr>\n",
              "      <th>BTC</th>\n",
              "      <td>SHA-256</td>\n",
              "      <td>PoW</td>\n",
              "      <td>1.792718e+07</td>\n",
              "      <td>21000000</td>\n",
              "      <td>-0.146898</td>\n",
              "      <td>-1.367865</td>\n",
              "      <td>0.165079</td>\n",
              "      <td>0</td>\n",
              "      <td>Bitcoin</td>\n",
              "    </tr>\n",
              "    <tr>\n",
              "      <th>ETH</th>\n",
              "      <td>Ethash</td>\n",
              "      <td>PoW</td>\n",
              "      <td>1.076842e+08</td>\n",
              "      <td>0</td>\n",
              "      <td>-0.151054</td>\n",
              "      <td>-2.082231</td>\n",
              "      <td>0.488866</td>\n",
              "      <td>0</td>\n",
              "      <td>Ethereum</td>\n",
              "    </tr>\n",
              "    <tr>\n",
              "      <th>...</th>\n",
              "      <td>...</td>\n",
              "      <td>...</td>\n",
              "      <td>...</td>\n",
              "      <td>...</td>\n",
              "      <td>...</td>\n",
              "      <td>...</td>\n",
              "      <td>...</td>\n",
              "      <td>...</td>\n",
              "      <td>...</td>\n",
              "    </tr>\n",
              "    <tr>\n",
              "      <th>ZEPH</th>\n",
              "      <td>SHA-256</td>\n",
              "      <td>DPoS</td>\n",
              "      <td>2.000000e+09</td>\n",
              "      <td>2000000000</td>\n",
              "      <td>2.459723</td>\n",
              "      <td>0.403893</td>\n",
              "      <td>-0.097756</td>\n",
              "      <td>1</td>\n",
              "      <td>ZEPHYR</td>\n",
              "    </tr>\n",
              "    <tr>\n",
              "      <th>GAP</th>\n",
              "      <td>Scrypt</td>\n",
              "      <td>PoW/PoS</td>\n",
              "      <td>1.493105e+07</td>\n",
              "      <td>250000000</td>\n",
              "      <td>-0.334820</td>\n",
              "      <td>1.146305</td>\n",
              "      <td>-0.591267</td>\n",
              "      <td>1</td>\n",
              "      <td>Gapcoin</td>\n",
              "    </tr>\n",
              "    <tr>\n",
              "      <th>BDX</th>\n",
              "      <td>CryptoNight</td>\n",
              "      <td>PoW</td>\n",
              "      <td>9.802226e+08</td>\n",
              "      <td>1400222610</td>\n",
              "      <td>0.325469</td>\n",
              "      <td>-2.305170</td>\n",
              "      <td>0.463343</td>\n",
              "      <td>0</td>\n",
              "      <td>Beldex</td>\n",
              "    </tr>\n",
              "    <tr>\n",
              "      <th>ZEN</th>\n",
              "      <td>Equihash</td>\n",
              "      <td>PoW</td>\n",
              "      <td>7.296538e+06</td>\n",
              "      <td>21000000</td>\n",
              "      <td>-0.153581</td>\n",
              "      <td>-2.127154</td>\n",
              "      <td>0.283343</td>\n",
              "      <td>0</td>\n",
              "      <td>Horizen</td>\n",
              "    </tr>\n",
              "    <tr>\n",
              "      <th>XBC</th>\n",
              "      <td>Scrypt</td>\n",
              "      <td>PoS</td>\n",
              "      <td>1.283270e+05</td>\n",
              "      <td>1000000</td>\n",
              "      <td>-0.293362</td>\n",
              "      <td>0.858605</td>\n",
              "      <td>-0.258182</td>\n",
              "      <td>0</td>\n",
              "      <td>BitcoinPlus</td>\n",
              "    </tr>\n",
              "  </tbody>\n",
              "</table>\n",
              "<p>533 rows × 9 columns</p>\n",
              "</div>"
            ],
            "text/plain": [
              "        Algorithm ProofType  TotalCoinsMined  ...      PC 3  class     CoinName\n",
              "42         Scrypt   PoW/PoS     4.199995e+01  ... -0.591251      1      42 Coin\n",
              "404        Scrypt   PoW/PoS     1.055185e+09  ... -0.591686      1      404Coin\n",
              "1337          X13   PoW/PoS     2.927942e+10  ... -0.707251      1    EliteCoin\n",
              "BTC       SHA-256       PoW     1.792718e+07  ...  0.165079      0      Bitcoin\n",
              "ETH        Ethash       PoW     1.076842e+08  ...  0.488866      0     Ethereum\n",
              "...           ...       ...              ...  ...       ...    ...          ...\n",
              "ZEPH      SHA-256      DPoS     2.000000e+09  ... -0.097756      1       ZEPHYR\n",
              "GAP        Scrypt   PoW/PoS     1.493105e+07  ... -0.591267      1      Gapcoin\n",
              "BDX   CryptoNight       PoW     9.802226e+08  ...  0.463343      0       Beldex\n",
              "ZEN      Equihash       PoW     7.296538e+06  ...  0.283343      0      Horizen\n",
              "XBC        Scrypt       PoS     1.283270e+05  ... -0.258182      0  BitcoinPlus\n",
              "\n",
              "[533 rows x 9 columns]"
            ]
          },
          "metadata": {
            "tags": []
          },
          "execution_count": 39
        }
      ]
    },
    {
      "cell_type": "markdown",
      "metadata": {
        "id": "Rslp-8ho62G6"
      },
      "source": [
        "### Visualizing Results\n",
        "\n",
        "#### 3D-Scatter with Clusters"
      ]
    },
    {
      "cell_type": "code",
      "metadata": {
        "colab": {
          "base_uri": "https://localhost:8080/",
          "height": 542
        },
        "id": "q9TOGM1r62G7",
        "outputId": "1ae0dcd2-9c70-4908-8608-73826604aafc"
      },
      "source": [
        "# Create a 3D-Scatter with the PCA data and the clusters\n",
        "fig = px.scatter_3d(\n",
        "    clustered_df,\n",
        "    x=\"PC 3\",\n",
        "    y=\"PC 2\",\n",
        "    z=\"PC 1\",\n",
        "    color=\"class\",\n",
        "    symbol=\"class\",\n",
        "    width=800,\n",
        ")\n",
        "fig.update_layout(legend=dict(x=0, y=1))\n",
        "fig.show()\n"
      ],
      "execution_count": 40,
      "outputs": [
        {
          "output_type": "display_data",
          "data": {
            "text/html": [
              "<html>\n",
              "<head><meta charset=\"utf-8\" /></head>\n",
              "<body>\n",
              "    <div>\n",
              "            <script src=\"https://cdnjs.cloudflare.com/ajax/libs/mathjax/2.7.5/MathJax.js?config=TeX-AMS-MML_SVG\"></script><script type=\"text/javascript\">if (window.MathJax) {MathJax.Hub.Config({SVG: {font: \"STIX-Web\"}});}</script>\n",
              "                <script type=\"text/javascript\">window.PlotlyConfig = {MathJaxConfig: 'local'};</script>\n",
              "        <script src=\"https://cdn.plot.ly/plotly-latest.min.js\"></script>    \n",
              "            <div id=\"55446961-3662-495c-b701-c292c56aa24e\" class=\"plotly-graph-div\" style=\"height:525px; width:800px;\"></div>\n",
              "            <script type=\"text/javascript\">\n",
              "                \n",
              "                    window.PLOTLYENV=window.PLOTLYENV || {};\n",
              "                    \n",
              "                if (document.getElementById(\"55446961-3662-495c-b701-c292c56aa24e\")) {\n",
              "                    Plotly.newPlot(\n",
              "                        '55446961-3662-495c-b701-c292c56aa24e',\n",
              "                        [{\"hoverlabel\": {\"namelength\": 0}, \"hovertemplate\": \"class=%{marker.color}<br>PC 3=%{x}<br>PC 2=%{y}<br>PC 1=%{z}\", \"legendgroup\": \"class=1\", \"marker\": {\"color\": [1, 1, 1, 1, 1, 1, 1, 1, 1, 1, 1, 1, 1, 1, 1, 1, 1, 1, 1, 1, 1, 1, 1, 1, 1, 1, 1, 1, 1, 1, 1, 1, 1, 1, 1, 1, 1, 1, 1, 1, 1, 1, 1, 1, 1, 1, 1, 1, 1, 1, 1, 1, 1, 1, 1, 1, 1, 1, 1, 1, 1, 1, 1, 1, 1, 1, 1, 1, 1, 1, 1, 1, 1, 1, 1, 1, 1, 1, 1, 1, 1, 1, 1, 1, 1, 1, 1, 1, 1, 1, 1, 1, 1, 1, 1, 1, 1, 1, 1, 1, 1, 1, 1, 1, 1, 1, 1, 1, 1, 1, 1, 1, 1, 1, 1, 1, 1, 1, 1, 1, 1, 1, 1, 1, 1, 1, 1, 1, 1, 1, 1, 1, 1, 1, 1, 1, 1, 1, 1, 1, 1, 1, 1, 1, 1, 1, 1, 1, 1, 1, 1, 1, 1, 1, 1, 1, 1, 1, 1, 1, 1, 1, 1, 1, 1, 1, 1, 1, 1, 1, 1, 1, 1, 1, 1, 1, 1, 1, 1, 1, 1, 1, 1, 1, 1, 1, 1, 1, 1, 1, 1, 1, 1, 1, 1, 1, 1, 1, 1, 1, 1, 1, 1, 1, 1, 1, 1, 1, 1, 1, 1], \"coloraxis\": \"coloraxis\", \"symbol\": \"circle\"}, \"mode\": \"markers\", \"name\": \"class=1\", \"scene\": \"scene\", \"showlegend\": true, \"type\": \"scatter3d\", \"x\": [-0.5912509966502798, -0.5916861447409364, -0.7072511594548911, -0.5675633745896216, -0.14061553705485832, -0.6132016337512498, -0.5912587999431127, -0.5914994029553656, -0.0032068748751191683, -0.5912991055841684, -0.5912510345601766, -0.5912514454190447, -0.12547114528217773, -0.5912910015623243, -0.026134910571108522, -0.5675667442583068, -0.7407829395204202, -0.6824585983927625, -0.6824386880370966, -0.5913559251593535, -0.5912840809078239, -0.6027113339840844, -0.567558908057638, -0.22852912816510382, -0.5675598929585661, -0.591748714265563, -0.5912748915875142, -0.5675618589514705, -0.6824457002913026, -0.5913514154668632, 0.38397651078771405, -0.018914182600057273, -0.682434064380558, -0.5912515704552956, -0.6824359629741434, -0.5912563845670618, -0.5675594993073916, -0.7944603568679179, -0.6824438992553673, -0.6131831595323052, -0.5729877998785311, -0.6419315016495265, -0.5912563022414932, -0.567579321028929, -0.12547759481636178, -0.5676147015052019, -0.6380315051428674, -0.5675743579849724, -0.095239208322346, -0.5916539888893497, -0.591254653156544, -0.591294346140969, -0.349373677263044, -0.5675671201911189, -0.5912717021747158, -0.5675592923397776, -0.5912528998667953, -0.5912517549930634, -0.7840195046766061, -0.12550101676725503, -0.5912641017647223, -0.5677262258251249, -0.12552876538861035, -0.3493642934045572, -0.61217085571727, -0.12548870283788646, -0.7762572013734633, -0.07376225682565182, -0.5675673552624363, -0.7185098918169606, -0.5675605779531822, -0.12549059966902745, -0.5912593179259736, -0.5912537419754981, -0.12547759481636178, -0.5675638341979832, -0.5912603152750091, -0.5912565202398214, -0.5912829587406896, -0.5675594388593445, -0.5912604011543807, -0.5912529076706085, -0.5912524340103265, -0.21924315909764686, -0.5912816479159098, -0.5675615180192257, -0.5912564694012367, -0.5912520507007885, -0.3493695060648665, -0.591684491720979, -0.5675683097694041, -0.9321867601730695, -0.5676068384523075, -0.1255170657523076, -0.5675715773870811, -0.1256428786185655, -0.5676277527398409, -0.5912539984038166, -0.5912526629054149, -0.591293757094654, -0.5675673229647836, -0.1254746546465906, -0.5912638157403817, -0.6329024348376108, -0.09526604598639084, -0.9233957048595949, -0.6379971073881414, -0.6380247647702542, -0.6926212246576389, -0.6824423542452788, -0.5969151821886161, -0.6824421353813823, -0.05911805945956834, -0.06353673673743117, -0.6926370680536473, -0.567564225934867, 6.114467241942744, -0.12547311063730668, -0.04276752625836434, -0.5912606890912622, -0.591252817311453, -0.13940417979227812, -0.061540100262934175, -0.5675628959013758, -0.5912521122689648, -0.6112593875645395, -0.6382652700472684, -0.560872366650115, -0.5912527308747536, -0.5523284813227086, -0.1629177264907726, -0.5912580227062187, -0.5675799698947614, -0.07384854252101444, -0.6503740833309638, -0.6825134505808051, -0.5913033195214337, -0.3049318561317698, -0.2192458887274995, -0.5952992997576193, -0.5912606727794273, -0.5675786957644734, -0.21925418897492563, -0.5915203537067333, -0.5912521459710992, -0.0952317535049577, 0.40044667098884307, -0.5913526801836467, -0.34948729239089765, -0.5675608191487329, -0.5068510300550771, -0.052165536862213126, -0.638002569356566, -0.5912514549123401, -0.5912516715964429, -0.028075954133519793, -0.12548122285046354, -0.5912561361677001, -0.1077087901703449, -0.5523711036666843, -0.12547665976448016, -0.5920179399043936, 0.43981039912470904, -0.59567264653886, -0.775531908869974, -0.5912630159237034, -0.2801228671646526, -0.38705253612944857, -0.21926713802692518, -0.21924207149402145, -0.5523104956129261, -0.21926848785699443, -0.5912956741386123, 0.22331922641771318, -0.5675730651639141, -0.12548150982047152, -0.5924315345331149, -0.1479998544119563, -0.5523240653598139, -0.5912576674857626, -0.5523159128637143, -0.21923973433594557, -0.6064855560741381, -0.5912626043480207, -0.5069473656535807, -0.7760778981049745, -0.5675828130876077, -0.5675694792432149, -0.07414813183927706, -0.5987293854718783, -0.5676537370720681, -0.5912608924099575, -0.5912613500291853, -0.5912547617579723, -0.567750773816005, -0.5920813269632984, -0.5677946861012075, -0.5912750909125245, -0.5914260821078188, -0.5676464804493544, -0.5912983159412015, -0.1254708018395069, -0.07376836003353328, -0.5913622826895738, -0.6824328231002638, -0.07411359831403024, -0.07415340975896796, -0.12547292148454336, -0.2219293225693758, -0.09775584297209605, -0.591267474876699], \"y\": [1.1463629694014432, 1.1468966782998506, 1.7601640200258981, 1.2344138587946392, 1.6946836598989257, 1.8295557889923362, 1.1463700658826323, 1.1467715923479405, -1.1384360967570162, 1.1464421075585434, 1.1463628606299612, 1.1463633653370002, 1.4468976815331491, 1.1463877013878996, -1.0002910374580831, 1.234419401825824, 1.521506123121243, 1.8269155063729006, 1.826882754273838, 1.1463918112028406, 1.1463838475220305, 1.1652149733651966, 1.2344140415642644, 1.5799733504205857, 1.234412239111002, 1.146634034231317, 1.1463680467041502, 1.234417013447484, 1.826894289278449, 1.1461858625686003, -2.2372773760060003, 1.3156216653174977, 1.8268710409368651, 1.1463639133124965, 1.8268748486689403, 1.1463649865489005, 1.2344150144994548, 1.8798207960423488, 1.8268742119337023, 1.829636200430112, 1.2342565549482079, 1.5771156657459056, 1.1463573206659108, 1.234316180054354, 1.4469014450036164, 1.2344801488858952, 1.5706694504725724, 1.2343918778880885, 1.401726285982798, 1.1463412956212082, 1.1463538092723256, 1.146400049018558, 1.539064301864605, 1.234410436006227, 1.146366223125956, 1.234413647161458, 1.1463589119996709, 1.1463642168730834, 1.9735740390932803, 1.4469214897454512, 1.146384527042086, 1.2341758355678607, 1.4469787736372892, 1.539116468566732, 1.818983391751802, 1.446823532953764, 1.965081836399464, 1.0905216263107478, 1.234417668565426, 1.885928145023555, 1.2344154698790601, 1.446912568893421, 1.1463634657367032, 1.1463531090844155, 1.4469014450036164, 1.2344016076834625, 1.1463670026605786, 1.1463624713788074, 1.1461928296570456, 1.2344132035957338, 1.1463291493405012, 1.1463616631855844, 1.1463641988682536, 1.3983716738467828, 1.146242243275822, 1.2344151334218676, 1.1463651260992611, 1.1463571956662717, 1.5391209272915145, 1.1467337657127357, 1.234395278156383, 1.9363063108820595, 1.2344552340600217, 1.4469354681293458, 1.2344006533159053, 1.4470432616702107, 1.2343561431004513, 1.1463606464613534, 1.1463559207720178, 1.1460910158089506, 1.23441419250048, 1.4468931855527138, 1.1463481157101556, 1.8312765539892126, 1.4017476708279486, 1.9696032511342776, 1.5706402504074266, 1.5706480938991842, 1.8870232927878856, 1.8268785162979688, 1.1385657505157238, 1.8268819563509937, -0.9834813998197806, 1.4400876593463832, 1.8870493548273723, 1.2344195354201144, 4.722913717157542, 1.4468798292254277, -0.941918948589965, 1.1463623969181191, 1.146364526730445, 1.6938921741219453, 1.4496162907502215, 1.2344113598949393, 1.1463594191649018, 1.170718994278488, 1.5706740427235748, 1.867302782167097, 1.1463586340114629, 1.6860917551115717, 1.446250235953299, 1.1463694651917227, 1.2343993978887915, 1.0905352042895382, 1.5807347196876727, 1.8269338553647396, 1.146377157736757, 1.2828837970154763, 1.3983744525601074, 1.1359076593022093, 1.1463275423961459, 1.2344294775709073, 1.3983538769252155, 1.1464979916338314, 1.1463634908489846, 1.4017169324670553, -2.5435220056866545, 1.1464508244859382, 1.5390458201010395, 1.2344086282695224, 1.2954320433447446, 1.3623363233748527, 1.5706355434818169, 1.1463626963660598, 1.1463623682194615, 1.3000809083115346, 1.4468841370753653, 1.1463611550013757, 1.0915440889423096, 1.6861618679340442, 1.4468793692476594, 1.145871363144267, -2.3289628976667336, 1.1501450919198841, 1.9664237725265217, 1.1463539881948657, 1.5418721636293726, 0.6665383956792935, 1.3981937622234133, 1.3983678310010283, 1.6861288645787922, 1.3983842441451224, 1.1460941693042808, -2.122571944978983, 1.2344202153562895, 1.4468428493153664, 1.1421436435546513, 2.263000224141312, 1.686134465815127, 1.1463667546284673, 1.686133023091395, 1.3983665981273516, 1.1458199246638154, 1.1463533111618802, 1.2954399041100284, 1.9656446742145506, 1.2343096018447572, 1.2344211624672943, 1.0908568753567764, 1.1466844792102429, 1.2345700335586776, 1.1463107890034858, 1.1463614289750128, 1.1463691629355155, 1.2345585100767582, 1.1441347617823234, 1.2344595980235686, 1.1463974695455525, 1.14651406371876, 1.234486899504119, 1.14638604163692, 1.4468940359350648, 1.0905197136091673, 1.146443344433008, 1.8268730655059495, 1.0911423620654435, 1.0912078510205538, 1.4468976479362694, 1.6021734361595024, 0.40389250515629205, 1.1463045023370557], \"z\": [-0.3367788393097516, -0.3200806528235414, 2.3098261669707543, -0.38932253103371117, -0.30671610700767865, -0.2372599770999174, -0.3364376781906592, -0.32899945518189616, 2.55743244754542, -0.3352722035261556, -0.33677476644101906, -0.3367590136205489, -0.3477117656010879, -0.3348333873324941, 1.5820392215050936, -0.3892170025213302, -0.3677571381447812, -0.27985897449172725, -0.2804825106359771, -0.33106863530230396, -0.3351771014340879, 0.022126579953571333, -0.38958938317310227, -0.30743288242986483, -0.38950082702052, -0.3119569114730657, -0.3354533414887394, -0.3894652305947704, -0.2802629066256933, -0.3278622449323341, 3.8676187025450384, -0.3174849735423744, -0.28055804938042966, -0.3367608695987722, -0.2805101343093463, -0.3364946699915048, -0.3895708726713394, -0.4185704925492618, -0.28003072195254053, -0.23970686798006874, -0.06633157288808332, -0.22826649635575846, -0.3363702694603855, -0.3867337561860299, -0.3473943491795472, -0.38740921358615393, -0.349883921085296, -0.3883032660884127, -0.3488184484686611, -0.31261473861893, -0.33640844670687114, -0.3348440797832754, -0.2357776497280367, -0.38904362006687476, -0.335610942502815, -0.3895600390307322, -0.33659802920787746, -0.3367550903967271, 0.03611819399922458, -0.3463491647057067, -0.3363684243560382, -0.3756918276450057, -0.34567639665569244, -0.23721144771484248, -0.3998704425892867, -0.3454246125378767, -0.27908761532438603, 3.6939334158763115, -0.38915169351083456, 0.8540717805675979, -0.3895148520494686, -0.34681392107782777, -0.3362957970260069, -0.3364504497652153, -0.3473943491795472, -0.3890888104903803, -0.3362965384234571, -0.33644424701793185, -0.33202242423261424, -0.38954390693002006, -0.33565318348535605, -0.3366439589001342, -0.33671468755184064, -0.35759567892829036, -0.3329330480693879, -0.38945366326465874, -0.33649201322456784, -0.3366192357157699, -0.2369787980566267, -0.31743123673169443, -0.3887177777970666, -0.4138284970369275, -0.38745345058525804, -0.34563709842147883, -0.3886154452339864, -0.34002485792442444, -0.3845474874523769, -0.3365624018172499, -0.33656158478813397, -0.32966794241426867, -0.3890949873750775, -0.34742870939133536, -0.33577134695677596, 0.8971518566150446, -0.347594146490631, 0.5794921236339244, -0.3514229025353107, -0.34992185771019496, -0.4024222557160434, -0.28019454252202697, 0.12919550023829415, -0.2802654737260194, 3.2464089741096647, -0.34150282014752015, -0.40192608526962975, -0.38936797434610615, 4.387082371560425, -0.3472946759679001, 1.5800042806109376, -0.33619680065916296, -0.3366975801880991, -0.3649065537444376, 0.6455019249121462, -0.389308663395223, -0.33665309249065867, 0.43412150966435525, -0.3361564096745007, -0.3865160061361446, -0.33660332156166006, -0.3994423146453617, -0.3467053671539013, -0.33647344892045244, -0.3880986581094047, 3.698800050586757, 0.2092841547022041, -0.27692908902905206, -0.3339281651558367, -0.3077776717853674, -0.3574813358219213, 0.07859062318475579, -0.3356100463912926, -0.38868110578043397, -0.3566442194284279, -0.32314875214363004, -0.33671975902531104, -0.3491009722747351, 8.058878552159994, -0.3322553497958695, -0.22875648816760566, -0.3893852449479633, -0.27757871863362155, -0.3293948065182598, -0.35102097867187326, -0.3367471727959198, -0.33672884333996567, -0.32903655255821523, -0.34688824966314696, -0.33644473155134347, 3.8927224784250787, -0.3981075031298337, -0.347077326722892, -0.2831976646638804, 2.1163609499760785, -0.13943328553775836, -0.3445473892620803, -0.3359176019325952, -0.1956409193419422, 2.2139910955150617, -0.35317965849218297, -0.35759510903989294, -0.4011301981148301, -0.3563118540135392, -0.3296079060081978, 3.106747494404618, -0.3888574402980818, -0.34617510776606414, -0.1959160322843378, -0.4127248777465852, -0.40042328720290066, -0.33644872083801874, -0.4008804042181884, -0.3577123407686397, 0.5720522643535505, -0.3359304913213483, -0.27202218487575, -0.29916691995972006, -0.3864166113787444, -0.38908517642759904, 3.7110682228242893, 0.09943481602384835, -0.3866196118594339, -0.33531458014757215, -0.33614144761072173, -0.33666092700609596, -0.3806948145630234, -0.25017175025000654, -0.37643372537510283, -0.3359376988521547, -0.32898695290231406, -0.3856463425744031, -0.3343734512019269, -0.3476705754098042, 3.694326091770477, -0.3315621466843125, -0.28066549129303436, 3.7042149695735107, 3.705461751664694, -0.3476063057661585, -0.3321326999803739, 2.459722554347522, -0.33481984783227325]}, {\"hoverlabel\": {\"namelength\": 0}, \"hovertemplate\": \"class=%{marker.color}<br>PC 3=%{x}<br>PC 2=%{y}<br>PC 1=%{z}\", \"legendgroup\": \"class=0\", \"marker\": {\"color\": [0, 0, 0, 0, 0, 0, 0, 0, 0, 0, 0, 0, 0, 0, 0, 0, 0, 0, 0, 0, 0, 0, 0, 0, 0, 0, 0, 0, 0, 0, 0, 0, 0, 0, 0, 0, 0, 0, 0, 0, 0, 0, 0, 0, 0, 0, 0, 0, 0, 0, 0, 0, 0, 0, 0, 0, 0, 0, 0, 0, 0, 0, 0, 0, 0, 0, 0, 0, 0, 0, 0, 0, 0, 0, 0, 0, 0, 0, 0, 0, 0, 0, 0, 0, 0, 0, 0, 0, 0, 0, 0, 0, 0, 0, 0, 0, 0, 0, 0, 0, 0, 0, 0, 0, 0, 0, 0, 0, 0, 0, 0, 0, 0, 0, 0, 0, 0, 0, 0, 0, 0, 0, 0, 0, 0, 0, 0, 0, 0, 0, 0, 0, 0, 0, 0, 0, 0, 0, 0, 0, 0, 0, 0, 0, 0, 0, 0, 0, 0, 0, 0, 0, 0, 0, 0, 0, 0, 0, 0, 0, 0, 0, 0, 0, 0, 0, 0, 0, 0, 0, 0, 0, 0, 0, 0, 0, 0, 0, 0, 0, 0, 0, 0, 0, 0, 0, 0, 0, 0, 0, 0, 0, 0, 0, 0, 0, 0, 0, 0, 0, 0, 0, 0, 0, 0, 0, 0, 0, 0, 0, 0, 0, 0, 0, 0, 0, 0, 0, 0, 0, 0, 0, 0, 0, 0, 0, 0, 0, 0, 0, 0, 0, 0, 0, 0, 0, 0, 0, 0, 0, 0, 0, 0, 0, 0, 0, 0, 0, 0, 0, 0, 0, 0, 0, 0, 0, 0, 0, 0, 0, 0, 0, 0, 0, 0, 0, 0, 0, 0, 0, 0, 0, 0, 0, 0, 0, 0, 0, 0, 0, 0, 0, 0, 0, 0, 0, 0, 0, 0, 0, 0, 0, 0, 0, 0, 0, 0, 0, 0, 0, 0, 0, 0, 0, 0, 0, 0, 0, 0, 0, 0, 0, 0, 0, 0, 0], \"coloraxis\": \"coloraxis\", \"symbol\": \"diamond\"}, \"mode\": \"markers\", \"name\": \"class=0\", \"scene\": \"scene\", \"showlegend\": true, \"type\": \"scatter3d\", \"x\": [0.16507886141810021, 0.4888657948970285, 0.013109864813478549, 0.41290996688126647, 0.48885463753150893, 0.2833428072008228, 0.41837232821025166, -0.439303757572181, -0.10623798534200464, 0.01313493533951756, 0.036824963221070234, 0.013130588437850583, 0.4229801080660823, 0.1650129981887818, 0.013077036063211443, 0.013130951327277715, 0.05196913632796675, 0.13138210477857826, 0.013122960154261126, 0.013134367847161607, 0.013135686018303784, 0.03682745364532182, -0.3170336552598449, -0.47298550882959917, 0.41679323103528026, 0.15685363277923328, 0.0076615783910917445, 0.013129015810082679, 0.013039759934689843, 0.01312910025004629, -0.30374163758837397, 0.013137159229685377, 0.2998012408259823, 0.012731984585152156, 0.013109431217979787, 0.013118723453309947, -0.23514553822227907, 0.165077625229125, 0.013067581131150799, 0.013129677670761756, 0.013137595026283805, 0.013121381715681451, 0.4882516570506009, -0.26650587950701277, 0.013135389522098329, -0.4400361876233487, -0.25818845723749495, 0.011574642730382893, 0.16508010878805773, 0.012992891898934746, -0.30449338265560943, 0.013136758697111107, 0.013117976517834511, 0.01312589952055082, -0.2345091773606669, 0.16482874063183567, 0.15237006722179774, 0.16506774264570093, 0.16507600968885414, 0.1650824677580144, 0.16508667437148966, 0.03682970131374284, 0.013128054835087352, -0.23383434760723468, 0.09624984848926296, 0.01308002862235106, 0.15236660694283477, 0.16506952533634536, 0.4606599862525368, -0.2107094849239644, 0.013106950427402472, -0.4393205055545379, -0.47300482564042584, 0.012904326352699854, -0.25819207052226906, 0.013077242201536833, 0.013137901231900959, -0.25827100020699917, 0.013071746625889112, 0.01278569255333467, 0.5886857664318665, -0.23449125703822746, 0.4236997727002495, 0.3381679533726477, 0.013133976660969276, 0.010910113347136341, 0.5628719059779731, 0.01313781566975031, 0.16508099767708095, 0.009222069952636068, -0.6413833800031759, 0.036816172259444196, 0.40628672695066065, 0.16507871013669367, 0.03682307777115987, -0.31195264444975096, 0.013116404589635963, 0.01309788297764484, -0.25822479279584626, 0.48890306935930494, 0.35667143092127257, -0.4393617156543423, 0.03682328908813487, 0.1650776611447069, -0.3861387409700779, 0.013047050241751798, 0.3503901322714684, -0.43930468831020986, 0.013107207717674575, -0.4393047693056814, 0.15566743178783488, -0.25820667608541864, 0.036808962844675795, 0.3747494251950867, 0.013130669525386138, 0.5378251053888988, -0.2768485467282073, -0.43930573102011045, -0.3006247763738764, 0.013134664184033055, 0.036823771370894647, -0.43931226494306796, -0.43933117790874354, 0.013137816983240683, 0.03682857049339472, -0.2347741604832333, -0.1108187819472962, 0.46378214547910196, -0.43930344392335735, 0.16508390823744684, 0.4232832193609442, 0.013083892895257326, -0.25824774448940546, 0.1650827506475402, -0.34359293165867477, 0.013132460430623273, 0.46012752459254996, 0.488896531927581, 0.28334349895405164, 0.012635695451391869, 0.03648676439349711, 0.03679647911616174, -0.4393080225918361, -0.32995851140136717, 0.46378435290215403, -0.2727840160481878, -0.26623381164556825, 0.01313761917517845, 0.4637809070612109, 0.40629374062132856, -0.4393041986723332, 0.03236375108339707, 0.4129045285644923, -0.2581849268995645, -0.3013663663433262, 0.013136723343934977, 0.036775729668093796, 0.28334315783686487, 0.013094795917932214, 0.40628675575373974, -0.2581970018200498, 0.25630790379907326, 0.012942767144839988, -0.03361198148668182, -0.10946444511412882, 0.013128645747390796, -0.2583819506168458, 0.16446520391080294, -0.1062453239597617, 0.013129674184572964, 0.41288523374461833, 0.43830624842654675, 0.36954397612093903, 0.522115559936394, 0.46299312400281245, 0.03681217990509093, 0.01313017488189851, 0.013132871596853595, 0.036817438643815405, 0.03682834344403447, 0.46377779436860833, 0.3101327086774614, 0.08459110903224744, 0.03673547237776306, 0.1650788346727513, -0.25818948021321, 0.012690962051612959, 0.01313343930844482, 0.013127685554779367, 0.013121065121110748, 0.013120646906078138, 0.463778348082244, 0.280415369385165, -0.3045803879951637, 0.03569692867841167, 0.2998943398357296, -0.17505650208192827, 0.2833389685390739, -0.43934255921470344, 0.3747329915182703, 0.013094738610247932, -0.11013421973836435, 0.03674677838664769, 0.29989270998726025, 0.4888909868530142, 0.29989348410156697, 0.4235088115765774, 0.45262976015647394, 0.46378333790553644, 0.4882786096535997, 0.036775364516769375, 0.41270165040341733, 0.011375533666383995, 0.20266147792775033, 0.03682767724140988, 0.2998931560362246, 0.29975863515282436, 0.013117579357945011, -0.23449197100220168, 0.03682587994650387, 0.1650780216932417, 0.14290413081247993, 0.21758766299330182, -0.40571816636033536, 0.2701533957469612, 0.46371896908238186, 0.008803133321420416, 0.37470671807135125, 0.09597492860577825, 0.013131516055508314, 0.006689617567354229, 0.03672628818366124, -0.46148453420276936, 4.7867298577377015, -0.2581967174342211, 0.48853442025722466, 0.4637117705605924, 0.013135599177065447, 0.3741244573211481, 0.28331571277164375, -0.25830722049074506, 0.46010793642831066, 0.03681348463967096, 0.46377858448335496, -0.03125028411558316, -0.03361510068332385, 0.4062917882649223, -0.25124707739163793, 0.40520894781573885, -0.2581976816334534, 0.46012821602602905, 0.46376005717744406, 0.27007562562644777, -0.258186298943451, 0.42999519178835555, 0.46352410970333774, -0.10625963166258447, -0.08306643049643891, 0.24006876408734892, 0.5420866012421194, 0.03682732749665662, -0.3643341484110909, -0.25890034779926946, -0.5081230983288374, 0.013136589483734244, 0.412836111811312, 0.4731659333979441, 0.09752606523017912, -0.23449922831597156, -0.2582346383250455, 0.16417642386851436, -0.5187264743264983, -0.23449537170851453, 0.03682714830364964, 0.24006481084907516, 0.2813674608161688, -0.17378354055354545, 0.4601224884194293, 0.1650788358748613, -0.09921849364889275, -0.2412172312654295, 0.4627118160411743, 0.5137141657264606, 0.5137119883327254, 0.012017322359859358, 0.46366513734745496, 0.013119182553009062, 0.28332144991780905, 0.2833354404624451, 0.33816113217391064, -0.2344904725130889, 0.16506359616103164, -0.07804422900475268, 0.1650465348287055, 0.008940735892436446, 0.29823167324142597, 0.5134121713019103, -0.10623537487303873, 0.012790511372652271, -0.44632358298796987, 0.1650759895430205, -0.0005554373151591031, 0.13137192647300366, 0.013135896189286055, 0.013103095630339005, -0.3532633547411332, -0.4393359797329302, -0.2625168659166147, -0.30449496219890776, 0.42372380532766013, 0.5481980785684971, 0.48889727649654047, -0.10666625903107303, 0.46334283017285444, 0.283342841023595, -0.2581815360188383], \"y\": [-1.3678647800596102, -2.0822305378773875, -1.033864785932057, -2.280441778332799, -2.0822840659117445, -2.1271540667452804, -1.852593990573889, 0.8123696709867942, 0.5246216765084198, -1.0338844619014873, -0.9458296572925251, -1.0338920299682992, -1.8536701091052266, -1.3678073682673975, -1.0338676040946093, -1.0339049494831127, -0.49401930068546485, -1.2328557276930967, -1.0338740617319573, -1.0338835283889893, -1.0338830063239441, -0.9458330693986793, 0.21894937503816597, 0.947381635538501, -1.8484749152424835, -1.3615154365343527, -1.0294946850340259, -1.0338747244051962, -1.0338233293192587, -1.0338786285367032, 0.598118264017303, -1.0338847779333795, -1.6405103842038065, -1.0337006941500122, -1.0338592805665328, -1.0338753347789051, 0.94773598329178, -1.367862746555825, -1.0338573293795883, -1.033875470857918, -1.0338821109587057, -1.0338693546527125, -2.25643180243972, 0.8722990185559405, -1.033881443792271, 0.8127539561603815, 0.8586115027515661, -1.036445030583937, -1.3678668319558824, -1.033758968330336, 0.5396933786546014, -1.0338874612848001, -1.0339349502459274, -1.0338799354439223, 0.946689183609805, -1.3677501053959644, 0.038301115556476854, -1.3678553936527138, -1.3678672771930878, -1.3678909077322898, -1.367870529604622, -0.9458306054791846, -1.0338738282095759, 0.5811048013188852, -1.2861157306185578, -1.0338778052300308, 0.03834103699974309, -1.3678576374560139, -2.3037009252615492, -0.17032056286466232, -1.0338672210716422, 0.8123814755453475, 0.9474149105152757, -1.0340729802530035, 0.8586229848363658, -1.0338393226504479, -1.0338830521114637, 0.858581675638569, -1.033828096661913, -1.0336450706019595, -2.2165129294518358, 0.9466528591997921, -1.854169354465894, -1.5689447279992588, -1.033876850717722, -1.033640426293401, -2.256758185983094, -1.0338822238593706, -1.3678682941588607, -1.0589317071952307, 0.9447848096828031, -0.9458196461699782, -2.189628218674083, -1.3678757447434016, -0.9458268980623125, 0.598898661208688, -1.0339187548648703, -1.033901896812335, 0.8586425828996836, -2.0822976405030955, -2.2543520543939595, 0.8121302476205198, -0.9458255342061013, -1.3678628056361708, 0.9351646534681233, -1.0338045863308956, -2.2748479674307074, 0.8123712020304698, -1.0338604150676425, 0.8123752716426637, -1.3597785335163046, 0.8585713457663857, -0.9458252438142349, -2.245143442455222, -1.0339278821378135, -2.212325997895009, 0.855425413100449, 0.8123667559805963, 0.2049138027482986, -1.0338836735630514, -0.9458294081930927, 0.8123149585424502, 0.8122426031584375, -1.0338822249828834, -0.9458373026445117, 0.9469001881475201, -1.7583194480029793, -2.3054172957398706, 0.8123694973349492, -1.3678692263717984, -1.8538948856664066, -1.0338617687530967, 0.8587145672931263, -1.367867631012584, 0.609886135921783, -1.0338834713729665, -2.2738783484237337, -2.0822900696078754, -2.1271552046642084, -1.0364789710671618, -0.9454376285559327, -0.9458539986328155, 0.8123773714379321, 0.5707183296574658, -2.305424692132069, 0.8714967676777771, 0.6112945753529077, -1.0338826176694766, -2.3054203929735824, -2.189620659756439, 0.8123707388804863, -0.9727135752945294, -2.2804961567370676, 0.8585924075853713, 0.49481748837645956, -1.0338813650704692, -0.9460841169054572, -2.1271532743595003, -1.0338454746264902, -2.189612935032172, 0.8586193127689122, -2.146070493455448, -1.0349303356696744, -0.6096117601614223, 0.5042613907389689, -1.033879085900183, 0.8582507462309177, -1.3677038727363517, 0.5245695395025293, -1.0338932643904901, -2.2804370336927855, -2.192763670736764, -2.2756435858343034, -2.220814107526699, -2.3048005369567126, -0.9458360125057923, -1.033876041212617, -1.0338995509444775, -0.9458309712717767, -0.9458348411623174, -2.3054251991768573, -2.2818852426004885, -1.2245977977770552, -0.9460521239045857, -1.367864736064105, 0.8586127659095028, -1.0367410302150004, -1.033881658669532, -1.033894100661245, -1.0338886868904615, -1.0338879989358916, -2.305438052266786, -2.1295194731102924, 0.5397008735391698, -0.9445833477827749, -1.6405577613132556, 0.606371088069044, -2.12714775223078, 0.81240679993813, -2.24515964340316, -1.0338453803566048, 0.5279545330254013, -0.9458140018405171, -1.6405612415330408, -2.0823678203017297, -1.6405579966585837, -1.85408114137619, -2.316163399293636, -2.305420112989247, -2.0846875670250973, -0.9459294841188656, -2.2804412184162737, -1.0326945645188703, -1.250236668917882, -0.94583405333783, -1.6405537602273839, -1.6404964349551039, -1.0338706303167344, 0.9466536913612931, -0.9458321921665932, -1.367863113257751, -1.2256118153194127, -0.1898112297382515, 0.5044122902594915, -2.2843005443210513, -2.305424959664815, -1.0301744902908974, -2.2450971507240034, -1.2860112637296586, -1.0338853408325979, -1.029575458565253, -0.94583163994553, 0.9546341761905338, -0.4555227282088605, 0.8585881844981846, -2.0839103422610554, -2.305640401205482, -1.0338855538997167, -2.1650632717614036, -2.1271262693890964, 0.8586412572121593, -2.27394148931988, -0.9458381587656043, -2.3054143132461005, 0.5863861034553682, -0.609597300966025, -2.1896230207130793, 0.6599338135503425, -2.229908199363518, 0.8586233153577508, -2.273875754816409, -2.3055829143695177, -2.136393641158264, 0.8585984297971346, -2.24534478257026, -2.305331703204798, 0.5246272437905287, 1.2119593100323054, -1.3060932181010907, -2.282407812046996, -0.9458338887676917, 0.8741542588256237, 0.8540101694540679, 0.8941139344584719, -1.0338875612569534, -2.2809193021626055, -2.1736633692527425, -0.884845007661684, 0.9466539915010705, 0.8586040116033792, -1.3670919184500645, 0.9554712238210011, 0.9466322442541919, -0.9458349631735251, -1.3061133880999887, -2.126498908405252, 1.0076813951393944, -2.273891491608686, -1.3678647380415496, 0.5538779412773519, 0.9577237853865127, -2.306418936616957, -2.2208989081803585, -2.220867980168279, -0.23468506288154173, -2.2190768722861467, -1.0338924359791888, -2.1272017010752657, -2.1271453325365295, -1.5689677366368573, 0.9466516713611994, -1.3678543876708902, -0.35337223449265287, -1.3678619206873843, -1.0605569097959424, -1.6391826436542243, -2.2227622072715842, 0.5246144728485237, -1.033652997454212, 0.8238596247467516, -1.3678672440536328, -1.0284715905913921, -1.232846172768947, -1.0338805657806922, -1.0338871955469677, 0.6155119943167078, 0.8123942653666865, 0.8623112181573631, 0.5396766722445697, -1.8542098460337881, -2.2265038368319576, -2.082290706485731, 0.5249881624169198, -2.3051704959854753, -2.127154122383015, 0.8586053135153109], \"z\": [-0.14689819721281636, -0.15105409118107005, -0.16943307086405834, -0.15528305846172175, -0.149492604235055, -0.15358034523187855, 0.162854001878742, -0.3130719819193006, -0.2696001515363002, -0.17058182990463866, -0.22333361540274552, -0.1701975115027377, -0.09111211160389451, -0.14397673423554078, -0.16744685478421606, -0.17000109278988476, -0.23032948337734377, -0.200684782666043, -0.17005000524991476, -0.17056405764574373, -0.17065070508465754, -0.22342315198271645, 0.6973259961709118, -0.3677938129367723, 0.1866513921902641, 0.23177851666587337, 0.07862582423518279, -0.1703964469500834, -0.16599208149486533, -0.17033560200363917, -0.2863848247054916, -0.17070783241881926, -0.167240302282885, -0.14988433779436525, -0.16950029652651685, -0.16977834146752732, -0.325631325177544, -0.146859483263298, -0.16706174783026154, -0.17042294631921848, -0.17077853888533787, -0.17003616168513364, -0.13477237991609126, -0.032672744433942816, -0.17065954298897154, -0.2762982751669067, -0.2930575476380179, -0.03526266553150572, -0.14693726131944324, -0.1643095538669547, -0.3380931817825125, -0.17063893231820462, -0.16872899427219928, -0.17012454638401722, -0.3455603512909785, -0.13406100359724812, -0.24686651769248058, -0.14639985378832363, -0.1466876821268685, -0.14667060371873666, -0.14726264089644875, -0.2235974343065552, -0.170354808404083, -0.28776611642976063, -0.19303463394281628, -0.16745156812271791, -0.24733532759246002, -0.14646729522567925, 0.45912436408172014, 0.10045275867209853, -0.1692199009313861, -0.31228198138901986, -0.3672141452535612, -0.1537844562966465, -0.2930377768453151, -0.1679359104545953, -0.17078075207084356, -0.2876800415377054, -0.1678006629999662, -0.1539939778152812, -0.12762483719071913, -0.34600612999709707, -0.12519349817194056, -0.177073086718131, -0.17065355522272907, -0.04331028436291853, -0.12683099352879398, -0.17078966521413716, -0.14696509881483788, 0.4828388484438347, -0.3041861521515154, -0.22298327440711915, -0.15709488712487757, -0.1467043766254995, -0.22326879667235822, -0.31785699118990673, -0.16890925112339653, -0.16809972130569995, -0.29143583152181407, -0.15212384245789026, 0.3668023079441171, -0.30561211639528446, -0.2233042733271252, -0.14686060803794915, -0.07262022384844773, -0.16673865391675496, -0.146715394986109, -0.3130428338311635, -0.16934985812268286, -0.3131066725297288, 0.2725417220651677, -0.2913045089346346, -0.2224631360884146, -0.146255275502292, -0.169597760202325, -0.16244317651459625, 0.8626347117478842, -0.3129062874072848, -0.035029444507459206, -0.1705791098408761, -0.22326743121558446, -0.3116470184063352, -0.3093100587335786, -0.1707897238373754, -0.22341772618718972, -0.3334697809985706, -0.26856358554605986, 0.3036872596526129, -0.3130875762759169, -0.14712126246330812, -0.10522211042043429, -0.16795017944647486, -0.29129422532944893, -0.14707980216648728, -0.26565567662256934, -0.17045237689690743, -0.15256950308011336, -0.15186543612519127, -0.15360200899094298, -0.0973506455652876, -0.20997173751967027, -0.22124104740364048, -0.3129499570627547, -0.3675744902839871, 0.3036816187606468, 0.3516090923214413, -0.3421980257184641, -0.17077142082822364, 0.30381261981622215, -0.15763653683580053, -0.31306393966820817, 0.49343959294386497, -0.15404496999857512, -0.29294404810724683, -0.2894713782152585, -0.17073963901538708, -0.21613543398717128, -0.15361441320625202, -0.16886880741463972, -0.157354301123533, -0.2926846414413958, -0.14668701580513835, -0.14159782856851827, -0.1851010740602617, 0.2642533682095771, -0.1703010493568637, -0.27554774678723054, -0.11337198128369266, -0.2682876356257724, -0.1701227055848163, -0.15390245155467194, -0.15335648654784156, -0.034365447693325356, -0.14566866611676293, 0.3398829891552612, -0.22247153716942444, -0.17044269170603088, -0.17020552423090457, -0.22286709645226563, -0.22344582338237934, 0.30407748162375436, -0.1488091234687211, -0.1184092571322965, -0.21429751320586846, -0.14689735962412273, -0.2930184353752294, -0.09619555914519205, -0.1705407501945604, -0.169991166183915, -0.16969148471567974, -0.16967838740123806, 0.30426151118842903, 0.059184512609921816, -0.3330814753672707, -0.17773302324445556, -0.17193937456318212, -0.3163625449548208, -0.1534601291805308, -0.3114066266544848, -0.14501160688999346, -0.1688670126997125, -0.0957073876575567, -0.21898040602481797, -0.1717844406164697, -0.1502269391423794, -0.17188487093303498, -0.11540377268221219, 1.1434904338965035, 0.3036643456239661, -0.07494749955683995, -0.2187212907968316, -0.14299040618805162, -0.08674473869911759, 1.100893380299906, -0.2234197652118329, -0.1719369318680922, -0.16495944409423097, -0.16979010383706916, -0.3459779988998346, -0.22334500937382878, -0.14687671304887173, -0.20354443775206296, -0.2749100866717326, -0.2887235770558026, -0.15849578985404017, 0.3075473600788268, 0.02267438327766203, -0.14451378567440945, -0.178560810249957, -0.1703650841266544, 0.13738680739592143, -0.21747294659289465, -0.3695557709972268, -0.3269045523459791, -0.2921765503507027, -0.10315992813707611, 0.3116052465740928, -0.17060261942301705, -0.16992885380568634, -0.1524490079072845, -0.28654572447932786, -0.15034804452877207, -0.22251239777397044, 0.3038472627787454, -0.31639030200788065, -0.18516068164790472, -0.15748143027341818, -0.20599904728856336, -0.1412222241734629, -0.29271198690147965, -0.1526540690168727, 0.30778434472566385, 0.5786181033177032, -0.2929645689329876, -0.14959233037128786, 0.31748225496713167, -0.26841570742410736, 1.001208678401108, -0.19393866420050893, -0.15180147548642559, -0.2234018860804382, -0.3591336619118528, -0.17342921083104462, -0.35969890600600013, -0.17062725371927334, -0.14286954488142523, -0.14909681993327645, -0.11036041120918605, -0.3455544804516034, -0.290204015622177, -0.1066369096984925, -0.34468906273032507, -0.34541552928036473, -0.2233731872183874, -0.19336509952251132, -0.04797389730052841, -0.23416355422303686, -0.15205047213179768, -0.14689739727081585, 0.6291518358758024, -0.13548303588287108, 0.38378506565068576, -0.13845260470274756, -0.13884552777382553, -0.2754778913778155, -0.152169058069184, -0.1695170927819514, -0.1515158836681235, -0.1532925801518471, -0.17628228995512535, -0.34603243063840966, -0.14617194673597092, -0.11466163017138588, -0.1450373708480008, 0.5268571774866996, -0.09693814426670468, -0.08919939421730684, -0.26963284409047744, -0.15414488963562278, -0.09226120693444022, -0.14668705121621387, 0.546628830191412, -0.20024481988795084, -0.17070426917879797, -0.16865544660396375, -0.3641756413934253, -0.31158381865008417, -0.09982878719755328, -0.3377181983472134, -0.1259299713024672, -0.11828259637718071, -0.15189866747086406, -0.2504882146602905, 0.32546940735123214, -0.1535814044659756, -0.29336191599935607]}, {\"hoverlabel\": {\"namelength\": 0}, \"hovertemplate\": \"class=%{marker.color}<br>PC 3=%{x}<br>PC 2=%{y}<br>PC 1=%{z}\", \"legendgroup\": \"class=2\", \"marker\": {\"color\": [2, 2, 2, 2, 2], \"coloraxis\": \"coloraxis\", \"symbol\": \"square\"}, \"mode\": \"markers\", \"name\": \"class=2\", \"scene\": \"scene\", \"showlegend\": true, \"type\": \"scatter3d\", \"x\": [13.646016659300619, 15.024390369574192, 11.926610715819361, 15.020017778220494, 12.123288727022842], \"y\": [3.168762854452383, 3.646298525853016, 2.401633503041128, 4.507369791675608, 2.104862849865776], \"z\": [-0.19998116369472588, -0.4117702313481899, -0.303932961672025, -0.5767187140591851, -0.3783516402179518]}, {\"hoverlabel\": {\"namelength\": 0}, \"hovertemplate\": \"class=%{marker.color}<br>PC 3=%{x}<br>PC 2=%{y}<br>PC 1=%{z}\", \"legendgroup\": \"class=3\", \"marker\": {\"color\": [3], \"coloraxis\": \"coloraxis\", \"symbol\": \"x\"}, \"mode\": \"markers\", \"name\": \"class=3\", \"scene\": \"scene\", \"showlegend\": true, \"type\": \"scatter3d\", \"x\": [-0.9607536074743994], \"y\": [1.9310727557507517], \"z\": [34.12132163083362]}],\n",
              "                        {\"coloraxis\": {\"colorbar\": {\"title\": {\"text\": \"class\"}}, \"colorscale\": [[0.0, \"#0d0887\"], [0.1111111111111111, \"#46039f\"], [0.2222222222222222, \"#7201a8\"], [0.3333333333333333, \"#9c179e\"], [0.4444444444444444, \"#bd3786\"], [0.5555555555555556, \"#d8576b\"], [0.6666666666666666, \"#ed7953\"], [0.7777777777777778, \"#fb9f3a\"], [0.8888888888888888, \"#fdca26\"], [1.0, \"#f0f921\"]]}, \"legend\": {\"tracegroupgap\": 0, \"x\": 0, \"y\": 1}, \"margin\": {\"t\": 60}, \"scene\": {\"domain\": {\"x\": [0.0, 1.0], \"y\": [0.0, 1.0]}, \"xaxis\": {\"title\": {\"text\": \"PC 3\"}}, \"yaxis\": {\"title\": {\"text\": \"PC 2\"}}, \"zaxis\": {\"title\": {\"text\": \"PC 1\"}}}, \"template\": {\"data\": {\"bar\": [{\"error_x\": {\"color\": \"#2a3f5f\"}, \"error_y\": {\"color\": \"#2a3f5f\"}, \"marker\": {\"line\": {\"color\": \"#E5ECF6\", \"width\": 0.5}}, \"type\": \"bar\"}], \"barpolar\": [{\"marker\": {\"line\": {\"color\": \"#E5ECF6\", \"width\": 0.5}}, \"type\": \"barpolar\"}], \"carpet\": [{\"aaxis\": {\"endlinecolor\": \"#2a3f5f\", \"gridcolor\": \"white\", \"linecolor\": \"white\", \"minorgridcolor\": \"white\", \"startlinecolor\": \"#2a3f5f\"}, \"baxis\": {\"endlinecolor\": \"#2a3f5f\", \"gridcolor\": \"white\", \"linecolor\": \"white\", \"minorgridcolor\": \"white\", \"startlinecolor\": \"#2a3f5f\"}, \"type\": \"carpet\"}], \"choropleth\": [{\"colorbar\": {\"outlinewidth\": 0, \"ticks\": \"\"}, \"type\": \"choropleth\"}], \"contour\": [{\"colorbar\": {\"outlinewidth\": 0, \"ticks\": \"\"}, \"colorscale\": [[0.0, \"#0d0887\"], [0.1111111111111111, \"#46039f\"], [0.2222222222222222, \"#7201a8\"], [0.3333333333333333, \"#9c179e\"], [0.4444444444444444, \"#bd3786\"], [0.5555555555555556, \"#d8576b\"], [0.6666666666666666, \"#ed7953\"], [0.7777777777777778, \"#fb9f3a\"], [0.8888888888888888, \"#fdca26\"], [1.0, \"#f0f921\"]], \"type\": \"contour\"}], \"contourcarpet\": [{\"colorbar\": {\"outlinewidth\": 0, \"ticks\": \"\"}, \"type\": \"contourcarpet\"}], \"heatmap\": [{\"colorbar\": {\"outlinewidth\": 0, \"ticks\": \"\"}, \"colorscale\": [[0.0, \"#0d0887\"], [0.1111111111111111, \"#46039f\"], [0.2222222222222222, \"#7201a8\"], [0.3333333333333333, \"#9c179e\"], [0.4444444444444444, \"#bd3786\"], [0.5555555555555556, \"#d8576b\"], [0.6666666666666666, \"#ed7953\"], [0.7777777777777778, \"#fb9f3a\"], [0.8888888888888888, \"#fdca26\"], [1.0, \"#f0f921\"]], \"type\": \"heatmap\"}], \"heatmapgl\": [{\"colorbar\": {\"outlinewidth\": 0, \"ticks\": \"\"}, \"colorscale\": [[0.0, \"#0d0887\"], [0.1111111111111111, \"#46039f\"], [0.2222222222222222, \"#7201a8\"], [0.3333333333333333, \"#9c179e\"], [0.4444444444444444, \"#bd3786\"], [0.5555555555555556, \"#d8576b\"], [0.6666666666666666, \"#ed7953\"], [0.7777777777777778, \"#fb9f3a\"], [0.8888888888888888, \"#fdca26\"], [1.0, \"#f0f921\"]], \"type\": \"heatmapgl\"}], \"histogram\": [{\"marker\": {\"colorbar\": {\"outlinewidth\": 0, \"ticks\": \"\"}}, \"type\": \"histogram\"}], \"histogram2d\": [{\"colorbar\": {\"outlinewidth\": 0, \"ticks\": \"\"}, \"colorscale\": [[0.0, \"#0d0887\"], [0.1111111111111111, \"#46039f\"], [0.2222222222222222, \"#7201a8\"], [0.3333333333333333, \"#9c179e\"], [0.4444444444444444, \"#bd3786\"], [0.5555555555555556, \"#d8576b\"], [0.6666666666666666, \"#ed7953\"], [0.7777777777777778, \"#fb9f3a\"], [0.8888888888888888, \"#fdca26\"], [1.0, \"#f0f921\"]], \"type\": \"histogram2d\"}], \"histogram2dcontour\": [{\"colorbar\": {\"outlinewidth\": 0, \"ticks\": \"\"}, \"colorscale\": [[0.0, \"#0d0887\"], [0.1111111111111111, \"#46039f\"], [0.2222222222222222, \"#7201a8\"], [0.3333333333333333, \"#9c179e\"], [0.4444444444444444, \"#bd3786\"], [0.5555555555555556, \"#d8576b\"], [0.6666666666666666, \"#ed7953\"], [0.7777777777777778, \"#fb9f3a\"], [0.8888888888888888, \"#fdca26\"], [1.0, \"#f0f921\"]], \"type\": \"histogram2dcontour\"}], \"mesh3d\": [{\"colorbar\": {\"outlinewidth\": 0, \"ticks\": \"\"}, \"type\": \"mesh3d\"}], \"parcoords\": [{\"line\": {\"colorbar\": {\"outlinewidth\": 0, \"ticks\": \"\"}}, \"type\": \"parcoords\"}], \"pie\": [{\"automargin\": true, \"type\": \"pie\"}], \"scatter\": [{\"marker\": {\"colorbar\": {\"outlinewidth\": 0, \"ticks\": \"\"}}, \"type\": \"scatter\"}], \"scatter3d\": [{\"line\": {\"colorbar\": {\"outlinewidth\": 0, \"ticks\": \"\"}}, \"marker\": {\"colorbar\": {\"outlinewidth\": 0, \"ticks\": \"\"}}, \"type\": \"scatter3d\"}], \"scattercarpet\": [{\"marker\": {\"colorbar\": {\"outlinewidth\": 0, \"ticks\": \"\"}}, \"type\": \"scattercarpet\"}], \"scattergeo\": [{\"marker\": {\"colorbar\": {\"outlinewidth\": 0, \"ticks\": \"\"}}, \"type\": \"scattergeo\"}], \"scattergl\": [{\"marker\": {\"colorbar\": {\"outlinewidth\": 0, \"ticks\": \"\"}}, \"type\": \"scattergl\"}], \"scattermapbox\": [{\"marker\": {\"colorbar\": {\"outlinewidth\": 0, \"ticks\": \"\"}}, \"type\": \"scattermapbox\"}], \"scatterpolar\": [{\"marker\": {\"colorbar\": {\"outlinewidth\": 0, \"ticks\": \"\"}}, \"type\": \"scatterpolar\"}], \"scatterpolargl\": [{\"marker\": {\"colorbar\": {\"outlinewidth\": 0, \"ticks\": \"\"}}, \"type\": \"scatterpolargl\"}], \"scatterternary\": [{\"marker\": {\"colorbar\": {\"outlinewidth\": 0, \"ticks\": \"\"}}, \"type\": \"scatterternary\"}], \"surface\": [{\"colorbar\": {\"outlinewidth\": 0, \"ticks\": \"\"}, \"colorscale\": [[0.0, \"#0d0887\"], [0.1111111111111111, \"#46039f\"], [0.2222222222222222, \"#7201a8\"], [0.3333333333333333, \"#9c179e\"], [0.4444444444444444, \"#bd3786\"], [0.5555555555555556, \"#d8576b\"], [0.6666666666666666, \"#ed7953\"], [0.7777777777777778, \"#fb9f3a\"], [0.8888888888888888, \"#fdca26\"], [1.0, \"#f0f921\"]], \"type\": \"surface\"}], \"table\": [{\"cells\": {\"fill\": {\"color\": \"#EBF0F8\"}, \"line\": {\"color\": \"white\"}}, \"header\": {\"fill\": {\"color\": \"#C8D4E3\"}, \"line\": {\"color\": \"white\"}}, \"type\": \"table\"}]}, \"layout\": {\"annotationdefaults\": {\"arrowcolor\": \"#2a3f5f\", \"arrowhead\": 0, \"arrowwidth\": 1}, \"coloraxis\": {\"colorbar\": {\"outlinewidth\": 0, \"ticks\": \"\"}}, \"colorscale\": {\"diverging\": [[0, \"#8e0152\"], [0.1, \"#c51b7d\"], [0.2, \"#de77ae\"], [0.3, \"#f1b6da\"], [0.4, \"#fde0ef\"], [0.5, \"#f7f7f7\"], [0.6, \"#e6f5d0\"], [0.7, \"#b8e186\"], [0.8, \"#7fbc41\"], [0.9, \"#4d9221\"], [1, \"#276419\"]], \"sequential\": [[0.0, \"#0d0887\"], [0.1111111111111111, \"#46039f\"], [0.2222222222222222, \"#7201a8\"], [0.3333333333333333, \"#9c179e\"], [0.4444444444444444, \"#bd3786\"], [0.5555555555555556, \"#d8576b\"], [0.6666666666666666, \"#ed7953\"], [0.7777777777777778, \"#fb9f3a\"], [0.8888888888888888, \"#fdca26\"], [1.0, \"#f0f921\"]], \"sequentialminus\": [[0.0, \"#0d0887\"], [0.1111111111111111, \"#46039f\"], [0.2222222222222222, \"#7201a8\"], [0.3333333333333333, \"#9c179e\"], [0.4444444444444444, \"#bd3786\"], [0.5555555555555556, \"#d8576b\"], [0.6666666666666666, \"#ed7953\"], [0.7777777777777778, \"#fb9f3a\"], [0.8888888888888888, \"#fdca26\"], [1.0, \"#f0f921\"]]}, \"colorway\": [\"#636efa\", \"#EF553B\", \"#00cc96\", \"#ab63fa\", \"#FFA15A\", \"#19d3f3\", \"#FF6692\", \"#B6E880\", \"#FF97FF\", \"#FECB52\"], \"font\": {\"color\": \"#2a3f5f\"}, \"geo\": {\"bgcolor\": \"white\", \"lakecolor\": \"white\", \"landcolor\": \"#E5ECF6\", \"showlakes\": true, \"showland\": true, \"subunitcolor\": \"white\"}, \"hoverlabel\": {\"align\": \"left\"}, \"hovermode\": \"closest\", \"mapbox\": {\"style\": \"light\"}, \"paper_bgcolor\": \"white\", \"plot_bgcolor\": \"#E5ECF6\", \"polar\": {\"angularaxis\": {\"gridcolor\": \"white\", \"linecolor\": \"white\", \"ticks\": \"\"}, \"bgcolor\": \"#E5ECF6\", \"radialaxis\": {\"gridcolor\": \"white\", \"linecolor\": \"white\", \"ticks\": \"\"}}, \"scene\": {\"xaxis\": {\"backgroundcolor\": \"#E5ECF6\", \"gridcolor\": \"white\", \"gridwidth\": 2, \"linecolor\": \"white\", \"showbackground\": true, \"ticks\": \"\", \"zerolinecolor\": \"white\"}, \"yaxis\": {\"backgroundcolor\": \"#E5ECF6\", \"gridcolor\": \"white\", \"gridwidth\": 2, \"linecolor\": \"white\", \"showbackground\": true, \"ticks\": \"\", \"zerolinecolor\": \"white\"}, \"zaxis\": {\"backgroundcolor\": \"#E5ECF6\", \"gridcolor\": \"white\", \"gridwidth\": 2, \"linecolor\": \"white\", \"showbackground\": true, \"ticks\": \"\", \"zerolinecolor\": \"white\"}}, \"shapedefaults\": {\"line\": {\"color\": \"#2a3f5f\"}}, \"ternary\": {\"aaxis\": {\"gridcolor\": \"white\", \"linecolor\": \"white\", \"ticks\": \"\"}, \"baxis\": {\"gridcolor\": \"white\", \"linecolor\": \"white\", \"ticks\": \"\"}, \"bgcolor\": \"#E5ECF6\", \"caxis\": {\"gridcolor\": \"white\", \"linecolor\": \"white\", \"ticks\": \"\"}}, \"title\": {\"x\": 0.05}, \"xaxis\": {\"automargin\": true, \"gridcolor\": \"white\", \"linecolor\": \"white\", \"ticks\": \"\", \"title\": {\"standoff\": 15}, \"zerolinecolor\": \"white\", \"zerolinewidth\": 2}, \"yaxis\": {\"automargin\": true, \"gridcolor\": \"white\", \"linecolor\": \"white\", \"ticks\": \"\", \"title\": {\"standoff\": 15}, \"zerolinecolor\": \"white\", \"zerolinewidth\": 2}}}, \"width\": 800},\n",
              "                        {\"responsive\": true}\n",
              "                    ).then(function(){\n",
              "                            \n",
              "var gd = document.getElementById('55446961-3662-495c-b701-c292c56aa24e');\n",
              "var x = new MutationObserver(function (mutations, observer) {{\n",
              "        var display = window.getComputedStyle(gd).display;\n",
              "        if (!display || display === 'none') {{\n",
              "            console.log([gd, 'removed!']);\n",
              "            Plotly.purge(gd);\n",
              "            observer.disconnect();\n",
              "        }}\n",
              "}});\n",
              "\n",
              "// Listen for the removal of the full notebook cells\n",
              "var notebookContainer = gd.closest('#notebook-container');\n",
              "if (notebookContainer) {{\n",
              "    x.observe(notebookContainer, {childList: true});\n",
              "}}\n",
              "\n",
              "// Listen for the clearing of the current output cell\n",
              "var outputEl = gd.closest('.output');\n",
              "if (outputEl) {{\n",
              "    x.observe(outputEl, {childList: true});\n",
              "}}\n",
              "\n",
              "                        })\n",
              "                };\n",
              "                \n",
              "            </script>\n",
              "        </div>\n",
              "</body>\n",
              "</html>"
            ]
          },
          "metadata": {
            "tags": []
          }
        }
      ]
    },
    {
      "cell_type": "markdown",
      "metadata": {
        "id": "YpAlbzbt62G7"
      },
      "source": [
        "#### Table of Tradable Cryptocurrencies"
      ]
    },
    {
      "cell_type": "code",
      "metadata": {
        "id": "u9w9idwl62G7"
      },
      "source": [
        "# Table with tradable cryptos\n",
        "!pip install hvplot\n",
        "import hvplot.pandas\n"
      ],
      "execution_count": null,
      "outputs": []
    },
    {
      "cell_type": "code",
      "metadata": {
        "colab": {
          "base_uri": "https://localhost:8080/",
          "height": 17
        },
        "id": "QmSgpAHLxq0s",
        "outputId": "a7db9fb0-16a7-4c3c-e987-b87b86db66bd"
      },
      "source": [
        "# hvplot has issues running in Colab, this should run in Jupyter NB\n",
        "clustered_df.hvplot.table(columns=[\"CoinName\", \"Algorithm\",\n",
        "                                   \"ProofType\", \"TotalCoinSupply\", \n",
        "                                  \"TotalCoinsMined\", \"class\"], sortable=True, selectable=True)\n"
      ],
      "execution_count": 57,
      "outputs": [
        {
          "output_type": "execute_result",
          "data": {
            "application/vnd.holoviews_exec.v0+json": "",
            "text/plain": [
              ":Table   [CoinName,Algorithm,ProofType,TotalCoinSupply,TotalCoinsMined,class]"
            ],
            "text/html": [
              "<div id='1161'>\n",
              "\n",
              "\n",
              "\n",
              "\n",
              "\n",
              "  <div class=\"bk-root\" id=\"5e347268-6f6e-477f-bf7e-e23b053d2a94\" data-root-id=\"1161\"></div>\n",
              "</div>\n",
              "<script type=\"application/javascript\">(function(root) {\n",
              "  function embed_document(root) {\n",
              "    var docs_json = {\"822a4a36-ed51-4599-b433-e2efbd8babc1\":{\"defs\":[],\"roots\":{\"references\":[{\"attributes\":{\"editor\":{\"id\":\"1171\"},\"field\":\"Algorithm\",\"formatter\":{\"id\":\"1170\"},\"title\":\"Algorithm\"},\"id\":\"1172\",\"type\":\"TableColumn\"},{\"attributes\":{\"editor\":{\"id\":\"1176\"},\"field\":\"ProofType\",\"formatter\":{\"id\":\"1175\"},\"title\":\"ProofType\"},\"id\":\"1177\",\"type\":\"TableColumn\"},{\"attributes\":{\"editor\":{\"id\":\"1186\"},\"field\":\"TotalCoinsMined\",\"formatter\":{\"id\":\"1185\"},\"title\":\"TotalCoinsMined\"},\"id\":\"1187\",\"type\":\"TableColumn\"},{\"attributes\":{\"margin\":[5,5,5,5],\"name\":\"HSpacer01970\",\"sizing_mode\":\"stretch_width\"},\"id\":\"1202\",\"type\":\"Spacer\"},{\"attributes\":{},\"id\":\"1180\",\"type\":\"StringFormatter\"},{\"attributes\":{},\"id\":\"1181\",\"type\":\"StringEditor\"},{\"attributes\":{},\"id\":\"1165\",\"type\":\"StringFormatter\"},{\"attributes\":{},\"id\":\"1191\",\"type\":\"IntEditor\"},{\"attributes\":{\"editor\":{\"id\":\"1191\"},\"field\":\"class\",\"formatter\":{\"id\":\"1190\"},\"title\":\"class\"},\"id\":\"1192\",\"type\":\"TableColumn\"},{\"attributes\":{},\"id\":\"1176\",\"type\":\"StringEditor\"},{\"attributes\":{},\"id\":\"1186\",\"type\":\"NumberEditor\"},{\"attributes\":{\"format\":\"0,0.0[00000]\"},\"id\":\"1185\",\"type\":\"NumberFormatter\"},{\"attributes\":{\"margin\":[5,5,5,5],\"name\":\"HSpacer01969\",\"sizing_mode\":\"stretch_width\"},\"id\":\"1162\",\"type\":\"Spacer\"},{\"attributes\":{},\"id\":\"1190\",\"type\":\"NumberFormatter\"},{\"attributes\":{\"columns\":[{\"id\":\"1167\"},{\"id\":\"1172\"},{\"id\":\"1177\"},{\"id\":\"1182\"},{\"id\":\"1187\"},{\"id\":\"1192\"}],\"height\":300,\"reorderable\":false,\"source\":{\"id\":\"1163\"},\"view\":{\"id\":\"1197\"},\"width\":700},\"id\":\"1195\",\"type\":\"DataTable\"},{\"attributes\":{\"data\":{\"Algorithm\":[\"Scrypt\",\"Scrypt\",\"X13\",\"SHA-256\",\"Ethash\",\"Scrypt\",\"X11\",\"CryptoNight-V7\",\"Ethash\",\"Equihash\",\"SHA-512\",\"Multiple\",\"SHA-256\",\"SHA-256\",\"Scrypt\",\"X15\",\"X11\",\"Scrypt\",\"Scrypt\",\"Scrypt\",\"Multiple\",\"Scrypt\",\"SHA-256\",\"Scrypt\",\"Scrypt\",\"Scrypt\",\"Quark\",\"Groestl\",\"Scrypt\",\"Scrypt\",\"Scrypt\",\"Scrypt\",\"Scrypt\",\"X11\",\"Scrypt\",\"Groestl\",\"Multiple\",\"SHA-256\",\"Scrypt\",\"Scrypt\",\"Scrypt\",\"Scrypt\",\"PoS\",\"Scrypt\",\"Scrypt\",\"NeoScrypt\",\"Scrypt\",\"Scrypt\",\"Scrypt\",\"Scrypt\",\"X11\",\"Scrypt\",\"X11\",\"SHA-256\",\"Scrypt\",\"Scrypt\",\"Scrypt\",\"SHA3\",\"Scrypt\",\"HybridScryptHash256\",\"Scrypt\",\"Scrypt\",\"SHA-256\",\"Scrypt\",\"X13\",\"Scrypt\",\"SHA-256\",\"Scrypt\",\"X13\",\"NeoScrypt\",\"Scrypt\",\"Scrypt\",\"Scrypt\",\"Scrypt\",\"Scrypt\",\"Scrypt\",\"X11\",\"X11\",\"SHA-256\",\"Multiple\",\"SHA-256\",\"PHI1612\",\"X11\",\"SHA-256\",\"SHA-256\",\"SHA-256\",\"X11\",\"Scrypt\",\"Scrypt\",\"Scrypt\",\"Scrypt\",\"Lyra2REv2\",\"Scrypt\",\"X11\",\"Multiple\",\"SHA-256\",\"X13\",\"Scrypt\",\"CryptoNight\",\"CryptoNight\",\"Shabal256\",\"Counterparty\",\"Scrypt\",\"SHA-256\",\"Groestl\",\"Scrypt\",\"Scrypt\",\"Scrypt\",\"X13\",\"Scrypt\",\"Scrypt\",\"Scrypt\",\"Scrypt\",\"X13\",\"Scrypt\",\"Stanford Folding\",\"X11\",\"Multiple\",\"QuBit\",\"Scrypt\",\"Scrypt\",\"Scrypt\",\"M7 POW\",\"Scrypt\",\"SHA-256\",\"Scrypt\",\"X11\",\"SHA3\",\"X11\",\"Lyra2RE\",\"SHA-256\",\"QUAIT\",\"X11\",\"X11\",\"Scrypt\",\"Scrypt\",\"Scrypt\",\"Ethash\",\"X13\",\"Blake2b\",\"SHA-256\",\"X15\",\"X11\",\"SHA-256\",\"BLAKE256\",\"Scrypt\",\"1GB AES Pattern Search\",\"SHA-256\",\"X11\",\"Scrypt\",\"SHA-256\",\"SHA-256\",\"NIST5\",\"Scrypt\",\"Scrypt\",\"X11\",\"Dagger\",\"Scrypt\",\"X11GOST\",\"X11\",\"Scrypt\",\"SHA-256\",\"Scrypt\",\"PoS\",\"Scrypt\",\"X11\",\"X11\",\"SHA-256\",\"SHA-256\",\"NIST5\",\"X11\",\"Scrypt\",\"POS 3.0\",\"Scrypt\",\"Scrypt\",\"Scrypt\",\"X13\",\"X11\",\"X11\",\"Equihash\",\"X11\",\"Scrypt\",\"CryptoNight\",\"SHA-256\",\"SHA-256\",\"X11\",\"Scrypt\",\"Multiple\",\"Scrypt\",\"Scrypt\",\"Scrypt\",\"SHA-256\",\"Scrypt\",\"Scrypt\",\"SHA-256D\",\"PoS\",\"Scrypt\",\"X11\",\"Lyra2Z\",\"PoS\",\"X13\",\"X14\",\"PoS\",\"SHA-256D\",\"Ethash\",\"Equihash\",\"DPoS\",\"X11\",\"Scrypt\",\"X11\",\"X13\",\"X11\",\"PoS\",\"Scrypt\",\"Scrypt\",\"X11\",\"PoS\",\"X11\",\"SHA-256\",\"Scrypt\",\"X11\",\"Scrypt\",\"Scrypt\",\"X11\",\"CryptoNight\",\"Scrypt\",\"Scrypt\",\"Scrypt\",\"Scrypt\",\"Quark\",\"QuBit\",\"Scrypt\",\"CryptoNight\",\"Lyra2RE\",\"Scrypt\",\"SHA-256\",\"X11\",\"Scrypt\",\"X11\",\"Scrypt\",\"CryptoNight-V7\",\"Scrypt\",\"Scrypt\",\"Scrypt\",\"X13\",\"X11\",\"Equihash\",\"Scrypt\",\"Scrypt\",\"Lyra2RE\",\"Scrypt\",\"Dagger-Hashimoto\",\"X11\",\"Blake2S\",\"X11\",\"Scrypt\",\"PoS\",\"X11\",\"NIST5\",\"PoS\",\"X11\",\"Scrypt\",\"Scrypt\",\"Scrypt\",\"SHA-256\",\"X11\",\"Scrypt\",\"Scrypt\",\"SHA-256\",\"PoS\",\"Scrypt\",\"X15\",\"SHA-256\",\"Scrypt\",\"POS 3.0\",\"CryptoNight-V7\",\"536\",\"Argon2d\",\"Blake2b\",\"Cloverhash\",\"CryptoNight\",\"NIST5\",\"X11\",\"NIST5\",\"Skein\",\"Scrypt\",\"X13\",\"Scrypt\",\"X11\",\"X11\",\"Scrypt\",\"CryptoNight\",\"X13\",\"Time Travel\",\"Scrypt\",\"Keccak\",\"SkunkHash v2 Raptor\",\"X11\",\"Skein\",\"SHA-256\",\"X11\",\"Scrypt\",\"VeChainThor Authority\",\"Scrypt\",\"PoS\",\"Scrypt\",\"Scrypt\",\"Scrypt\",\"Scrypt\",\"Scrypt\",\"Scrypt\",\"Scrypt\",\"CryptoNight\",\"SHA-512\",\"Ouroboros\",\"X11\",\"Equihash\",\"NeoScrypt\",\"X11\",\"Scrypt\",\"NeoScrypt\",\"Lyra2REv2\",\"Equihash\",\"Scrypt\",\"SHA-256\",\"NIST5\",\"PHI1612\",\"Dagger\",\"Scrypt\",\"Quark\",\"Scrypt\",\"POS 2.0\",\"Scrypt\",\"SHA-256\",\"X11\",\"NeoScrypt\",\"Ethash\",\"NeoScrypt\",\"X11\",\"DPoS\",\"NIST5\",\"X13\",\"Multiple\",\"Scrypt\",\"CryptoNight\",\"CryptoNight\",\"Ethash\",\"NIST5\",\"Quark\",\"X11\",\"CryptoNight-V7\",\"Scrypt\",\"Scrypt\",\"Scrypt\",\"X11\",\"BLAKE256\",\"X11\",\"NeoScrypt\",\"Quark\",\"NeoScrypt\",\"Scrypt\",\"Scrypt\",\"Scrypt\",\"X11\",\"X11\",\"SHA-256\",\"C11\",\"POS 3.0\",\"Ethash\",\"Scrypt\",\"CryptoNight\",\"SkunkHash\",\"Scrypt\",\"CryptoNight\",\"Scrypt\",\"Dagger\",\"Lyra2REv2\",\"X13\",\"Proof-of-BibleHash\",\"SHA-256 + Hive\",\"Scrypt\",\"Scrypt\",\"X11\",\"C11\",\"Proof-of-Authority\",\"X11\",\"XEVAN\",\"Scrypt\",\"VBFT\",\"Ethash\",\"CryptoNight\",\"Scrypt\",\"IMesh\",\"NIST5\",\"Scrypt\",\"Scrypt\",\"Equihash\",\"Scrypt\",\"Lyra2Z\",\"Green Protocol\",\"PoS\",\"Scrypt\",\"Semux BFT consensus\",\"X11\",\"Quark\",\"PoS\",\"CryptoNight\",\"X16R\",\"Scrypt\",\"NIST5\",\"Lyra2RE\",\"XEVAN\",\"Tribus\",\"Scrypt\",\"Lyra2Z\",\"CryptoNight\",\"CryptoNight Heavy\",\"CryptoNight\",\"Scrypt\",\"Scrypt\",\"Jump Consistent Hash\",\"SHA-256D\",\"CryptoNight\",\"Scrypt\",\"X15\",\"Scrypt\",\"Quark\",\"SHA-256\",\"DPoS\",\"X16R\",\"HMQ1725\",\"X11\",\"X16R\",\"Quark\",\"Quark\",\"Scrypt\",\"Lyra2REv2\",\"Quark\",\"Scrypt\",\"Scrypt\",\"CryptoNight-V7\",\"Cryptonight-GPU\",\"XEVAN\",\"CryptoNight Heavy\",\"X11\",\"X11\",\"Scrypt\",\"PoS\",\"SHA-256\",\"Keccak\",\"X11\",\"X11\",\"Scrypt\",\"SHA-512\",\"X16R\",\"ECC 256K1\",\"Equihash\",\"XEVAN\",\"Lyra2Z\",\"SHA-256\",\"XEVAN\",\"X11\",\"CryptoNight\",\"Quark\",\"Blake\",\"Blake\",\"Equihash\",\"Exosis\",\"Scrypt\",\"Scrypt\",\"Equihash\",\"Quark\",\"Equihash\",\"Quark\",\"Scrypt\",\"QuBit\",\"X11\",\"Scrypt\",\"XEVAN\",\"SHA-256D\",\"X11\",\"SHA-256\",\"X13\",\"SHA-256\",\"X11\",\"DPoS\",\"Scrypt\",\"Scrypt\",\"X11\",\"NeoScrypt\",\"Scrypt\",\"Blake\",\"Scrypt\",\"SHA-256\",\"Scrypt\",\"X11\",\"Scrypt\",\"Scrypt\",\"SHA-256\",\"X11\",\"SHA-256\",\"Scrypt\",\"Scrypt\",\"Scrypt\",\"Groestl\",\"X11\",\"Scrypt\",\"PoS\",\"Scrypt\",\"Scrypt\",\"X11\",\"SHA-256\",\"DPoS\",\"Scrypt\",\"Scrypt\",\"NeoScrypt\",\"SHA3-256\",\"Multiple\",\"X13\",\"Equihash+Scrypt\",\"DPoS\",\"Ethash\",\"DPoS\",\"SHA-256\",\"Leased POS\",\"PoS\",\"TRC10\",\"PoS\",\"SHA-256\",\"Scrypt\",\"CryptoNight\",\"Equihash\",\"Scrypt\"],\"CoinName\":[\"42 Coin\",\"404Coin\",\"EliteCoin\",\"Bitcoin\",\"Ethereum\",\"Litecoin\",\"Dash\",\"Monero\",\"Ethereum Classic\",\"ZCash\",\"Bitshares\",\"DigiByte\",\"BitcoinDark\",\"PayCoin\",\"ProsperCoin\",\"KoboCoin\",\"Spreadcoin\",\"Argentum\",\"Aurora Coin\",\"BlueCoin\",\"MyriadCoin\",\"MoonCoin\",\"ZetaCoin\",\"SexCoin\",\"Quatloo\",\"EnergyCoin\",\"QuarkCoin\",\"Riecoin\",\"Digitalcoin \",\"BitBar\",\"Catcoin\",\"CryptoBullion\",\"CannaCoin\",\"CryptCoin\",\"CasinoCoin\",\"Diamond\",\"Verge\",\"DevCoin\",\"EarthCoin\",\"E-Gulden\",\"Einsteinium\",\"Emerald\",\"Exclusive Coin\",\"FlutterCoin\",\"Franko\",\"FeatherCoin\",\"GrandCoin\",\"GlobalCoin\",\"GoldCoin\",\"HoboNickels\",\"HyperStake\",\"Infinite Coin\",\"IOCoin\",\"IXcoin\",\"KrugerCoin\",\"LuckyCoin\",\"Litebar \",\"MaxCoin\",\"MegaCoin\",\"MediterraneanCoin\",\"MintCoin\",\"MinCoin\",\"MazaCoin\",\"Nautilus Coin\",\"NavCoin\",\"NobleCoin\",\"Namecoin\",\"NyanCoin\",\"OpalCoin\",\"Orbitcoin\",\"PotCoin\",\"PhoenixCoin\",\"Reddcoin\",\"RonPaulCoin\",\"StableCoin\",\"SmartCoin\",\"SuperCoin\",\"SyncCoin\",\"SysCoin\",\"TeslaCoin\",\"TigerCoin\",\"TittieCoin\",\"TorCoin\",\"TerraCoin\",\"UnbreakableCoin\",\"Unobtanium\",\"UroCoin\",\"UnitaryStatus Dollar\",\"UltraCoin\",\"ViaCoin\",\"VeriCoin\",\"Vertcoin\",\"WorldCoin\",\"X11 Coin\",\"Crypti\",\"JouleCoin\",\"StealthCoin\",\"ZCC Coin\",\"ByteCoin\",\"DigitalNote \",\"BurstCoin\",\"StorjCoin\",\"MonaCoin\",\"Neutron\",\"FairCoin\",\"Gulden\",\"RubyCoin\",\"PesetaCoin\",\"Kore\",\"Wild Beast Coin\",\"Dnotes\",\"Flo\",\"8BIT Coin\",\"Sativa Coin\",\"ArtByte\",\"Folding Coin\",\"Ucoin\",\"Unitus\",\"CypherPunkCoin\",\"OmniCron\",\"Vtorrent\",\"GreenCoin\",\"Cryptonite\",\"MasterCoin\",\"SoonCoin\",\"1Credit\",\"IslaCoin\",\"Nexus\",\"MarsCoin \",\"Crypto\",\"Anarchists Prime\",\"Droidz\",\"BowsCoin\",\"Squall Coin\",\"Song Coin\",\"BitZeny\",\"Diggits\",\"Expanse\",\"Paycon\",\"Siacoin\",\"Emercoin\",\"EverGreenCoin\",\"MindCoin\",\"I0coin\",\"Decred\",\"Revolution VR\",\"HOdlcoin\",\"EDRCoin\",\"Hitcoin\",\"Gamecredits\",\"DubaiCoin\",\"CarpeDiemCoin\",\"PWR Coin\",\"BillaryCoin\",\"GPU Coin\",\"Adzcoin\",\"SoilCoin\",\"YoCoin\",\"SibCoin\",\"EuropeCoin\",\"ZeitCoin\",\"SwingCoin\",\"SafeExchangeCoin\",\"Nebuchadnezzar\",\"Francs\",\"BolivarCoin\",\"Ratecoin\",\"Revenu\",\"Clockcoin\",\"VIP Tokens\",\"BitSend\",\"Omni\",\"Let it Ride\",\"PutinCoin\",\"iBankCoin\",\"Frankywillcoin\",\"MudraCoin\",\"PizzaCoin\",\"Lutetium Coin\",\"Komodo\",\"GoldBlocks\",\"CarterCoin\",\"Karbo\",\"BitTokens\",\"ZayedCoin\",\"MustangCoin\",\"ZoneCoin\",\"Circuits of Value\",\"RootCoin\",\"DopeCoin\",\"BitCurrency\",\"DollarCoin\",\"Swiscoin\",\"Shilling\",\"BuzzCoin\",\"Opair\",\"PesoBit\",\"Halloween Coin\",\"ZCoin\",\"CoffeeCoin\",\"RoyalCoin\",\"GanjaCoin V2\",\"TeamUP\",\"LanaCoin\",\"Elementrem\",\"ZClassic\",\"ARK\",\"InsaneCoin\",\"KiloCoin\",\"ArtexCoin\",\"EmberCoin\",\"XenixCoin\",\"FreeCoin\",\"PLNCoin\",\"AquariusCoin\",\"Kurrent\",\"Creatio\",\"Eternity\",\"Eurocoin\",\"BitcoinFast\",\"Stakenet\",\"BitConnect Coin\",\"MoneyCoin\",\"Enigma\",\"Cannabis Industry Coin\",\"Russiacoin\",\"PandaCoin\",\"GameUnits\",\"GAKHcoin\",\"Allsafe\",\"LiteCreed\",\"OsmiumCoin\",\"Bikercoins\",\"HexxCoin\",\"Klingon Empire Darsek\",\"Internet of People\",\"KushCoin\",\"Printerium\",\"PacCoin\",\"Impeach\",\"Citadel\",\"Zilbercoin\",\"FirstCoin\",\"BeaverCoin\",\"FindCoin\",\"VaultCoin\",\"Zero\",\"OpenChat\",\"Canada eCoin\",\"Zoin\",\"RenosCoin\",\"DubaiCoin\",\"VirtacoinPlus\",\"TajCoin\",\"Impact\",\"EB3coin\",\"Atmos\",\"HappyCoin\",\"Coinonat\",\"MacronCoin\",\"Condensate\",\"Independent Money System\",\"ArgusCoin\",\"LomoCoin\",\"ProCurrency\",\"GoldReserve\",\"BenjiRolls\",\"GrowthCoin\",\"ILCoin\",\"Phreak\",\"Degas Coin\",\"HTML5 Coin\",\"Ultimate Secure Cash\",\"EquiTrader\",\"QTUM\",\"Quantum Resistant Ledger\",\"Espers\",\"Dynamic\",\"Nano\",\"ChanCoin\",\"Dinastycoin\",\"Denarius\",\"DigitalPrice\",\"Virta Unique Coin\",\"Bitcoin Planet\",\"Unify\",\"BritCoin\",\"SocialCoin\",\"ArcticCoin\",\"DAS\",\"Linda\",\"LeviarCoin\",\"DeepOnion\",\"Bitcore\",\"gCn Coin\",\"SmartCash\",\"Signatum\",\"Onix\",\"Cream\",\"Bitcoin Cash\",\"Monoeci\",\"Draftcoin\",\"Vechain\",\"Sojourn Coin\",\"Stakecoin\",\"NewYorkCoin\",\"FrazCoin\",\"Kronecoin\",\"AdCoin\",\"Linx\",\"CoinonatX\",\"Ethereum Dark\",\"Sumokoin\",\"Obsidian\",\"Cardano\",\"Regalcoin\",\"BitcoinZ\",\"TrezarCoin\",\"Elements\",\"TerraNovaCoin\",\"VIVO Coin\",\"Rupee\",\"Bitcoin Gold\",\"WomenCoin\",\"Theresa May Coin\",\"NamoCoin\",\"LUXCoin\",\"Pirl\",\"Xios\",\"Bitcloud 2.0\",\"eBoost\",\"KekCoin\",\"BlackholeCoin\",\"Infinity Economics\",\"Pura\",\"Innova\",\"Ellaism\",\"GoByte\",\"Magnet\",\"Lamden Tau\",\"Electra\",\"Bitcoin Diamond\",\"SHIELD\",\"Cash & Back Coin\",\"UltraNote\",\"BitCoal\",\"DaxxCoin\",\"Bulwark\",\"Kalkulus\",\"AC3\",\"Lethean\",\"GermanCoin\",\"LiteCoin Ultra\",\"PopularCoin\",\"PhantomX\",\"Photon\",\"Sucre\",\"SparksPay\",\"Digiwage\",\"GunCoin\",\"IrishCoin\",\"Trollcoin\",\"Litecoin Plus\",\"Monkey Project\",\"Pioneer Coin\",\"UnitedBitcoin\",\"Interzone\",\"TokenPay\",\"1717 Masonic Commemorative Token\",\"My Big Coin\",\"TurtleCoin\",\"MUNcoin\",\"Unified Society USDEX\",\"Niobio Cash\",\"ShareChain\",\"Travelflex\",\"KREDS\",\"Tokyo Coin\",\"BiblePay\",\"LitecoinCash\",\"BitFlip\",\"LottoCoin\",\"Crypto Improvement Fund\",\"Stipend\",\"Poa Network\",\"Pushi\",\"Ellerium\",\"Velox\",\"Ontology\",\"Callisto Network\",\"BitTube\",\"Poseidon\",\"Aidos Kuneen\",\"Bitspace\",\"Briacoin\",\"Ignition\",\"Bitrolium\",\"MedicCoin\",\"Alpenschillling\",\"Bitcoin Green\",\"Deviant Coin\",\"Abjcoin\",\"Semux\",\"FuturoCoin\",\"Carebit\",\"Zealium\",\"Monero Classic\",\"Proton\",\"iDealCash\",\"Jumpcoin\",\"Infinex\",\"Bitcoin Incognito\",\"KEYCO\",\"HollyWoodCoin\",\"GINcoin\",\"PlatinCoin\",\"Loki\",\"Newton Coin\",\"Swisscoin\",\"Xt3ch\",\"MassGrid\",\"TheVig\",\"PluraCoin\",\"EmaratCoin\",\"Dekado\",\"Lynx\",\"Poseidon Quark\",\"BitcoinWSpectrum\",\"Muse\",\"Motion\",\"PlusOneCoin\",\"Axe\",\"Trivechain\",\"Dystem\",\"Giant\",\"Peony Coin\",\"Absolute Coin\",\"Vitae\",\"HexCoin\",\"TPCash\",\"Webchain\",\"Ryo\",\"Urals Coin\",\"Qwertycoin\",\"ARENON\",\"EUNO\",\"MMOCoin\",\"Ketan\",\"Project Pai\",\"XDNA\",\"PAXEX\",\"Azart\",\"ThunderStake\",\"Kcash\",\"Xchange\",\"Acute Angle Cloud\",\"CrypticCoin\",\"Bettex coin\",\"Actinium\",\"Bitcoin SV\",\"BitMoney\",\"Junson Ming Chan Coin\",\"FREDEnergy\",\"HerbCoin\",\"Universal Molecule\",\"Lithium\",\"PirateCash\",\"Exosis\",\"Block-Logic\",\"Oduwa\",\"Beam\",\"Galilel\",\"Bithereum\",\"Crypto Sports\",\"Credit\",\"SLICE\",\"Dash Platinum\",\"Nasdacoin\",\"Beetle Coin\",\"Titan Coin\",\"Award\",\"BLAST\",\"Bitcoin Rhodium\",\"GlobalToken\",\"Insane Coin\",\"ALAX\",\"LiteDoge\",\"SolarCoin\",\"TruckCoin\",\"UFO Coin\",\"OrangeCoin\",\"BlakeCoin\",\"BitstarCoin\",\"NeosCoin\",\"HyperCoin\",\"PinkCoin\",\"Crypto Escudo\",\"AudioCoin\",\"IncaKoin\",\"Piggy Coin\",\"Crown Coin\",\"Genstake\",\"SmileyCoin\",\"XiaoMiCoin\",\"Groestlcoin\",\"CapriCoin\",\" ClubCoin\",\"Radium\",\"Bata\",\"Pakcoin\",\"Creditbit \",\"OKCash\",\"Lisk\",\"HiCoin\",\"WhiteCoin\",\"FriendshipCoin\",\"Fiii\",\"JoinCoin\",\"Triangles Coin\",\"Vollar\",\"EOS\",\"Reality Clash\",\"Oxycoin\",\"TigerCash\",\"Waves\",\"Particl\",\"BitTorrent\",\"Nxt\",\"ZEPHYR\",\"Gapcoin\",\"Beldex\",\"Horizen\",\"BitcoinPlus\"],\"ProofType\":[\"PoW/PoS\",\"PoW/PoS\",\"PoW/PoS\",\"PoW\",\"PoW\",\"PoW\",\"PoW/PoS\",\"PoW\",\"PoW\",\"PoW\",\"PoS\",\"PoW\",\"PoW/PoS\",\"PoS\",\"PoW\",\"PoW/PoS\",\"PoW\",\"PoW\",\"PoW/PoS\",\"PoW/PoS\",\"PoW\",\"PoW\",\"PoW\",\"PoW\",\"PoW\",\"PoW/PoS\",\"PoW\",\"PoW\",\"PoW\",\"PoW/PoS\",\"PoW\",\"PoW/PoS\",\"PoW\",\"PoW\",\"PoC\",\"PoW/PoS\",\"PoW\",\"PoW\",\"PoW\",\"PoW\",\"PoW\",\"PoW\",\"PoS\",\"PoS/PoW/PoT\",\"PoW\",\"PoW\",\"PoW\",\"PoW\",\"PoW\",\"PoW/PoS\",\"PoS\",\"PoW\",\"PoW/PoS\",\"PoW\",\"PoW\",\"PoW\",\"PoW\",\"PoW/PoS\",\"PoW\",\"PoW\",\"PoS\",\"PoW\",\"PoW/PoS\",\"PoS\",\"PoW/PoS\",\"PoW\",\"PoW\",\"PoW\",\"PoW/PoS\",\"PoW/PoS\",\"PoW/PoS\",\"PoW/PoS\",\"PoW/PoS\",\"PoW\",\"PoW\",\"PoW\",\"PoS\",\"PoW/PoS\",\"PoW\",\"PoS\",\"PoW\",\"PoS\",\"PoW/PoS\",\"PoW\",\"PoW\",\"PoW\",\"PoW\",\"PoW/PoS\",\"PoW/PoS\",\"PoW\",\"PoST\",\"PoW\",\"PoW\",\"PoW/PoS\",\"PoS\",\"PoW\",\"PoW/PoS\",\"PoW/PoS\",\"PoW\",\"PoW\",\"PoC\",\"PoS\",\"PoW\",\"PoW/PoS\",\"PoW/PoS\",\"PoW\",\"PoS\",\"PoW\",\"PoW/PoS\",\"PoW\",\"PoS\",\"PoW\",\"PoW/PoS\",\"PoW/PoS\",\"PoW\",\"PoW\",\"PoS\",\"PoW\",\"PoW\",\"PoW\",\"PoW/PoS\",\"PoW\",\"PoW\",\"PoW\",\"PoW\",\"PoW\",\"PoW/PoS\",\"PoW/nPoS\",\"PoW\",\"PoW\",\"PoW\",\"PoW/PoS\",\"PoW\",\"PoS/PoW\",\"PoW\",\"PoW\",\"PoS\",\"PoW\",\"PoW/PoS\",\"PoW\",\"PoW/PoS\",\"PoW/PoS\",\"PoW\",\"PoW\",\"PoW/PoS\",\"PoW\",\"PoW\",\"PoW/PoS\",\"PoW/PoS\",\"PoW\",\"PoW/PoS\",\"PoW\",\"PoW/PoS\",\"PoW/PoS\",\"PoS\",\"PoW\",\"PoW\",\"PoW\",\"PoW\",\"PoW/PoS\",\"PoS\",\"PoW/PoS\",\"PoC\",\"PoS\",\"PoW\",\"PoW\",\"PoW/PoS\",\"PoW/PoS\",\"PoW/PoS\",\"PoW/PoS\",\"PoW/PoS\",\"PoW\",\"PoS\",\"PoW/PoS\",\"PoW/PoS\",\"PoW/PoS\",\"PoS\",\"PoW\",\"PoS\",\"dPoW/PoW\",\"PoW/PoS\",\"PoW/PoS\",\"PoW\",\"PoW/PoS\",\"PoW\",\"PoW/PoS\",\"PoW/PoS\",\"PoW\",\"PoW/PoS\",\"PoW\",\"PoS\",\"PoW\",\"PoW/PoW\",\"PoW\",\"PoW/PoS\",\"PoS\",\"PoW/PoS\",\"PoW/PoS\",\"PoW\",\"PoS\",\"PoS\",\"PoW/PoS\",\"PoS\",\"PoW/PoS\",\"PoW\",\"PoW\",\"DPoS\",\"PoW/PoS\",\"PoW\",\"PoW\",\"PoW/PoS\",\"PoW/PoS\",\"PoS\",\"PoW/PoS\",\"PoW/PoS\",\"PoW\",\"PoS\",\"PoW/PoS\",\"PoW/PoS\",\"PoW/PoS\",\"TPoS\",\"PoW/PoS\",\"PoW/PoS\",\"PoW/PoS\",\"PoW\",\"PoW/PoS\",\"PoS\",\"PoW/PoS\",\"PoW/PoS\",\"PoS\",\"PoW/PoS\",\"PoW\",\"PoW\",\"PoW\",\"PoW/PoS\",\"PoW/PoS\",\"PoW/PoS\",\"PoW/PoS\",\"PoW\",\"PoW/PoS\",\"PoW\",\"PoS\",\"PoW/PoS \",\"PoW\",\"PoS\",\"PoW\",\"PoW\",\"PoW/PoS\",\"PoW\",\"PoW\",\"PoS\",\"PoW\",\"PoW/PoS\",\"PoW/PoS\",\"PoW/PoS\",\"PoW\",\"PoS\",\"PoW/PoS\",\"PoW\",\"PoS\",\"PoW/PoS\",\"PoW/PoS\",\"PoW/PoS\",\"PoW/PoS\",\"PoS\",\"PoW/PoS\",\"PoW\",\"PoS\",\"PoW\",\"PoS\",\"PoW/PoS\",\"PoW/PoS\",\"PoS\",\"PoW\",\"PoS\",\"PoW\",\"PoW/PoS\",\"PoW\",\"PoW\",\"PoW\",\"PoW\",\"PoW/PoS\",\"PoW\",\"PoW/PoS\",\"PoW/PoS\",\"PoW\",\"PoW/PoS\",\"PoW\",\"PoW\",\"PoW\",\"PoW/PoS\",\"PoW\",\"PoW/PoS\",\"PoW\",\"PoW\",\"PoW\",\"PoS\",\"PoW\",\"PoW/PoS\",\"PoW\",\"PoW/PoS\",\"PoS\",\"Proof of Authority\",\"PoW\",\"PoS\",\"PoW\",\"PoW\",\"PoW\",\"PoW\",\"PoW\",\"PoW/PoS\",\"PoW/PoS\",\"PoW\",\"PoS\",\"PoS\",\"PoW/PoS\",\"PoW\",\"PoW/PoS\",\"PoW\",\"PoW/PoS\",\"PoW\",\"PoS\",\"PoW\",\"PoW/PoS\",\"PoW/PoS\",\"PoW/PoS\",\"PoW/PoS\",\"PoW\",\"PoW/PoS\",\"PoW/PoS\",\"PoW\",\"PoS\",\"PoW/PoS\",\"PoS\",\"PoW\",\"PoW\",\"PoW\",\"PoW\",\"PoW/PoS\",\"DPoS\",\"PoW/PoS\",\"PoW/PoS\",\"PoW\",\"PoW/PoS\",\"PoW\",\"PoW\",\"PoW\",\"PoS\",\"PoS\",\"PoW\",\"PoW\",\"PoW/PoS\",\"PoW/PoS\",\"PoW\",\"PoW/PoS\",\"PoW\",\"PoW\",\"PoW\",\"PoS\",\"PoW\",\"PoW\",\"PoW/PoS\",\"PoW/PoS\",\"PoS\",\"PoW\",\"PoW\",\"PoW\",\"PoS\",\"PoS\",\"PoW and PoS\",\"PoW\",\"PoW\",\"PoW/PoS\",\"PoW\",\"PoW\",\"PoW\",\"PoW\",\"PoS\",\"POBh\",\"PoW + Hive\",\"PoW\",\"PoW\",\"PoW\",\"PoW/PoS\",\"PoA\",\"PoW/PoS\",\"PoW/PoS\",\"PoS\",\"PoS\",\"PoW\",\"PoW\",\"PoW\",\"PoW\",\"PoW/PoS\",\"PoW/PoS\",\"PoW/PoS\",\"PoW\",\"PoS\",\"PoW\",\"PoS\",\"PoS\",\"PoW/PoS\",\"DPoS\",\"PoW\",\"PoW/PoS\",\"PoS\",\"PoW\",\"PoS\",\"PoW/PoS\",\"PoW\",\"PoW\",\"PoS/PoW\",\"PoW\",\"PoS\",\"PoW\",\"PoW\",\"PoW\",\"PoW\",\"PoW/PoS\",\"PoS\",\"PoW\",\"PoW/PoS\",\"PoW\",\"PoW/PoS\",\"PoS\",\"HPoW\",\"PoS\",\"PoS\",\"PoS\",\"PoW\",\"PoW\",\"PoW\",\"PoW/PoS\",\"PoS\",\"PoW/PoS\",\"PoS\",\"PoW/PoS\",\"PoS\",\"PoW\",\"PoW/PoS\",\"PoW\",\"PoW\",\"PoW\",\"PoW\",\"PoS\",\"PoW/PoS\",\"PoS\",\"PoS\",\"PoW\",\"PoW/PoS\",\"PoS\",\"PoW\",\"PoW/PoS\",\"Zero-Knowledge Proof\",\"PoW\",\"DPOS\",\"PoW\",\"PoS\",\"PoW\",\"PoW\",\"Pos\",\"PoS\",\"PoW\",\"PoW/PoS\",\"PoW\",\"PoW\",\"PoS\",\"PoW\",\"PoW\",\"PoW/PoS\",\"PoW\",\"PoW/PoS\",\"PoW\",\"PoS\",\"PoW/PoS\",\"PoW\",\"PoS\",\"PoW/PoS\",\"PoW/PoS\",\"PoW/PoS\",\"PoW/PoS\",\"PoW\",\"PoW\",\"PoW\",\"PoW/PoS\",\"DPoS\",\"PoW/PoS\",\"PoW\",\"PoW/PoS\",\"PoW\",\"PoW/PoS\",\"PoW\",\"PoW/PoS\",\"PoS\",\"PoW/PoS\",\"PoW/PoS\",\"PoW\",\"PoW/PoS\",\"PoW/PoS\",\"PoW/PoS\",\"PoW\",\"PoW/PoS\",\"PoW\",\"PoW/PoS\",\"PoW\",\"PoW/PoS\",\"PoW/PoS\",\"PoS\",\"PoW\",\"PoW\",\"Proof of Trust\",\"PoW/PoS\",\"DPoS\",\"PoS\",\"PoW/PoS\",\"PoW/PoS\",\"DPoC\",\"PoW\",\"PoW/PoS\",\"PoW\",\"DPoS\",\"PoW\",\"DPoS\",\"PoS\",\"LPoS\",\"PoS\",\"DPoS\",\"PoS/LPoS\",\"DPoS\",\"PoW/PoS\",\"PoW\",\"PoW\",\"PoS\"],\"TotalCoinSupply\":[\"42\",\"532000000\",\"314159265359\",\"21000000\",\"0\",\"84000000\",\"22000000\",\"0\",\"210000000\",\"21000000\",\"3600570502\",\"21000000000\",\"22000000\",\"12500000\",\"21000000\",\"350000000\",\"20000000\",\"64000000\",\"16768584\",\"0\",\"2000000000\",\"384000000000\",\"169795588\",\"250000000\",\"100000000\",\"0\",\"247000000\",\"84000000\",\"48166000\",\"500000\",\"21000000 \",\"1000000\",\"13140000\",\"18000000\",\"40000000000\",\"4380000\",\"16555000000\",\"21000000000\",\"13500000000\",\"21000000 \",\"299792458\",\"32000000\",\"0\",\"0\",\"11235813\",\"336000000\",\"1420609614\",\"70000000\",\"72245700\",\"120000000\",\"0\",\"90600000000\",\"22000000\",\"21000000\",\"265420800\",\"20000000\",\"1350000\",\"100000000\",\"42000000\",\"200000000\",\"0\",\"10000000\",\"2419200000\",\"16180000\",\"0\",\"15000000000\",\"21000000\",\"337000000\",\"0\",\"3770000\",\"420000000\",\"98000000\",\"0\",\"21000000\",\"250000000\",\"51200000\",\"0\",\"1000\",\"888000000\",\"100000000\",\"47011968\",\"2300000000\",\"10000000\",\"42000000\",\"80000000\",\"250000\",\"0\",\"1600000000\",\"100000000\",\"23000000\",\"0\",\"84000000\",\"265420800\",\"5500000\",\"0\",\"45000000\",\"0\",\"1000000000\",\"184467440735\",\"10000000000\",\"2158812800\",\"500000000\",\"105120000\",\"68000000\",\"0\",\"1680000000\",\"0\",\"166386000\",\"12000000\",\"2628000\",\"500000000\",\"160000000\",\"0\",\"10000000\",\"1000000000\",\"1000000000\",\"20000000\",\"0\",\"0\",\"3371337\",\"20000000\",\"10000000000\",\"1840000000\",\"619478\",\"21000000\",\"92000000000\",\"0\",\"78000000\",\"33000000\",\"65789100\",\"53760000\",\"5060000\",\"21000000\",\"0\",\"210240000\",\"250000000\",\"100000000\",\"16906397\",\"50000000\",\"0\",\"1000000000\",\"26298000\",\"16000000\",\"21000000\",\"21000000\",\"210000000\",\"81962100\",\"22000000\",\"26550000000\",\"84000000\",\"10500000\",\"21626280000 \",\"0\",\"42000000\",\"221052632\",\"84000000\",\"30000000\",\"168351300\",\"24000000\",\"384000000\",\" 99000000000\",\"40000000\",\"2147483647\",\"20000000\",\"20000000\",\"25000000\",\"75000000\",\"222725000\",\"525000000\",\"90000000\",\"139000000\",\"616448\",\"33500000\",\"2000000000\",\"44333333\",\"100000000\",\"200000000\",\"25000000\",\"657000000\",\"200000000\",\"50000000\",\"90000000\",\"10000000\",\"21000000\",\"9736000\",\"3000000\",\"21000000\",\"1200000000\",\"0\",\"200000000\",\"0\",\"10638298\",\"3100000000\",\"30000000\",\"20000000000\",\"74000000\",\"0\",\"1500000000\",\"21400000\",\"39999898\",\"2500124\",\"100000000\",\"301000000\",\"7506000000\",\"26205539\",\"21000000\",\"125000000\",\"30000000\",\"10000000000\",\"500000000\",\"850000000\",\"3853326.77707314\",\"50000000\",\"38540000 \",\"42000000\",\"228000000\",\"20000000\",\"60000000\",\"20000000\",\"33000000\",\"76500000\",\"28000000\",\"650659833\",\"5000000\",\"21000000\",\"144000000\",\"32514916898\",\"13000000\",\"3315789\",\"15000000\",\"78835200\",\"2714286\",\"25000000\",\"9999999\",\"500000000\",\"21000000\",\"9354000\",\"20000000\",\"100000000000\",\"21933333\",\"185000000\",\"55000000\",\"110000000\",\"3360000\",\"14524851.4827\",\"1000000000\",\"17000000\",\"1000000000\",\"100000000 \",\"21000000\",\"34426423\",\"2232901\",\"100000000\",\"36900000\",\"110000000\",\"4000000000\",\"110290030\",\"100000000\",\"48252000\",\"400000000\",\"500000000\",\"21212121\",\"28600000\",\"1000000000\",\"75000000000\",\"40000000\",\"35520400\",\"2000000000\",\"2500000000\",\"30000000\",\"105000000\",\"90000000000\",\"200084200\",\"72000000\",\"100000000\",\"105000000\",\"50000000000\",\"0\",\"340282367\",\"30000000\",\"2000000000\",\"10000000\",\"100000000\",\"120000000\",\"100000000\",\"19276800\",\"30000000\",\" 75000000\",\"60000000\",\"18900000\",\"50000000000\",\"54000000\",\"18898187.6216583\",\"21000000\",\"200000000000\",\"5000000000\",\"137500000\",\"1100000000\",\"100000000\",\"21000000\",\"9507271\",\"17405891.19707116\",\"86712634466\",\"10500000000\",\"61599965\",\"0\",\"20000000\",\"84000000\",\"100000000\",\"100000000\",\"48252000\",\"4200000\",\"88888888\",\"91388946\",\"45000000000\",\"27000000\",\"21000000000\",\"400000000\",\"1800000000\",\"15733333\",\"27000000\",\"24000000\",\"21000000\",\"25000000000\",\"100000000\",\"1200000000\",\"60000000\",\"156306732.71\",\"21000000\",\"200000000\",\"100000000\",\"21000000\",\"14788275.991\",\"9000000000\",\"350000000\",\"45000000\",\"280000000\",\"31800000\",\"144000000\",\"500000000\",\"30000000000\",\"210000000\",\"660000000\",\"210000000\",\"85000000000\",\"12500000\",\"10000000000\",\"27716121\",\"20000000\",\"550000000\",\"999481516\",\"50000000000\",\"150000000\",\"4999999999\",\"50000000\",\" 90000000000\",\"19800000\",\"21000000\",\"120000000\",\"500000000\",\"64000000\",\"900000000\",\"4000000\",\"21000000\",\"23000000\",\"20166000\",\"23000000\",\"25000000\",\"1618033\",\"30000000\",\"1000000000000\",\"16600000\",\"232000000\",\"336000000\",\"10000000000\",\"100000000\",\"1100000000\",\"800000000\",\"5200000000\",\"840000000\",\"40000000\",\"18406979840\",\"500000000\",\"19340594\",\"252460800\",\"25000000\",\"60000000\",\"124000000\",\"1000000000\",\"6500000000\",\"1000000000\",\"21000000\",\"25000000\",\"50000000\",\"3000000\",\"5000000\",\"70000000\",\"500000000\",\"300000000\",\"21000000\",\"88000000\",\"30000000\",\"100000000\",\"100000000\",\"200000000\",\"80000000\",\"18400000\",\"45000000\",\"5121951220\",\"21000000\",\"26280000\",\"21000000\",\"18000000\",\"26000000\",\"10500000\",\"600000518\",\"150000000\",\"184000000000\",\"10200000000\",\"44000000\",\"168000000\",\"100000000\",\"1000000000\",\"84000000\",\"90000000\",\"92000000000\",\"650000000 \",\"100262205\",\"18081806 \",\"22075700\",\"21000000\",\"21000000\",\"82546564\",\"21000000\",\"5151000\",\"16880000000\",\"52500000\",\"100000000\",\"22105263\",\"1000000000\",\"1750000000\",\"88188888\",\"210000000\",\"184470000000\",\"55000000\",\"50000000\",\"260000000\",\"210000000\",\"2100000000\",\"366000000\",\"100000000\",\"25000000\",\"18000000000\",\"1000000000\",\"100000000\",\"1000000000\",\"7600000000\",\"50000000\",\"84000000\",\"21000000\",\"70000000000\",\"0\",\"8080000000\",\"54000000\",\"105120001.44\",\"25228800\",\"105000000\",\"21000000\",\"120000000\",\"21000000\",\"262800000\",\"19035999\",\"30886000\",\"13370000\",\"74800000000\",\"100000000\",\"19700000\",\"84000000\",\"500000000\",\"5000000000\",\"420000000\",\"64000000\",\"2100000\",\"168000000\",\"30000000\",\"1000000000\",\"35000000000\",\"98100000000\",\"0\",\"4000000000\",\"200000000\",\"7000000000\",\"54256119\",\"21000000\",\"0\",\"500000000\",\"1000000000\",\"10500000000\",\"190000000\",\"1000000000\",\"42000000\",\"15000000\",\"50000000000\",\"400000000\",\"105000000\",\"208000000\",\"160000000\",\"9000000\",\"5000000\",\"182000000\",\"16504333\",\"105000000\",\"159918400\",\"10008835635\",\"300000000\",\"60168145\",\"5000000000\",\"2800000\",\"120000\",\"2100000000\",\"0\",\"24487944\",\"0\",\"1000000000\",\"100000000\",\"8634140\",\"990000000000\",\"1000000000\",\"2000000000\",\"250000000\",\"1400222610\",\"21000000\",\"1000000\"],\"TotalCoinsMined\":{\"__ndarray__\":\"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\",\"dtype\":\"float64\",\"order\":\"little\",\"shape\":[533]},\"class\":{\"__ndarray__\":\"AQAAAAEAAAABAAAAAAAAAAAAAAAAAAAAAQAAAAAAAAAAAAAAAAAAAAEAAAAAAAAAAAAAAAAAAAAAAAAAAQAAAAAAAAAAAAAAAQAAAAEAAAAAAAAAAQAAAAAAAAAAAAAAAAAAAAEAAAAAAAAAAAAAAAAAAAABAAAAAAAAAAEAAAAAAAAAAAAAAAAAAAAAAAAAAAAAAAAAAAAAAAAAAAAAAAAAAAAAAAAAAQAAAAAAAAAAAAAAAAAAAAAAAAAAAAAAAAAAAAEAAAAAAAAAAQAAAAEAAAAAAAAAAAAAAAAAAAAAAAAAAQAAAAAAAAAAAAAAAAAAAAAAAAAAAAAAAAAAAAEAAAAAAAAAAAAAAAAAAAABAAAAAAAAAAEAAAABAAAAAQAAAAAAAAAAAAAAAAAAAAAAAAABAAAAAAAAAAAAAAAAAAAAAQAAAAEAAAAAAAAAAAAAAAAAAAAAAAAAAQAAAAEAAAAAAAAAAAAAAAAAAAAAAAAAAQAAAAAAAAAAAAAAAQAAAAEAAAABAAAAAAAAAAAAAAABAAAAAAAAAAAAAAAAAAAAAAAAAAAAAAAAAAAAAQAAAAAAAAAAAAAAAAAAAAEAAAABAAAAAAAAAAAAAAAAAAAAAAAAAAAAAAAAAAAAAQAAAAAAAAAAAAAAAAAAAAAAAAAAAAAAAQAAAAAAAAAAAAAAAAAAAAAAAAABAAAAAAAAAAAAAAAAAAAAAAAAAAAAAAAAAAAAAQAAAAAAAAAAAAAAAQAAAAAAAAAAAAAAAAAAAAAAAAAAAAAAAAAAAAEAAAAAAAAAAAAAAAAAAAABAAAAAQAAAAAAAAAAAAAAAAAAAAAAAAAAAAAAAQAAAAAAAAAAAAAAAAAAAAEAAAAAAAAAAAAAAAEAAAAAAAAAAAAAAAEAAAABAAAAAAAAAAEAAAABAAAAAQAAAAEAAAABAAAAAAAAAAAAAAAAAAAAAQAAAAEAAAAAAAAAAAAAAAAAAAABAAAAAQAAAAAAAAABAAAAAAAAAAAAAAAAAAAAAAAAAAAAAAABAAAAAQAAAAEAAAABAAAAAAAAAAEAAAABAAAAAQAAAAEAAAABAAAAAAAAAAAAAAABAAAAAQAAAAAAAAAAAAAAAQAAAAEAAAABAAAAAQAAAAEAAAAAAAAAAQAAAAEAAAAAAAAAAQAAAAAAAAABAAAAAQAAAAEAAAAAAAAAAQAAAAAAAAABAAAAAQAAAAEAAAAAAAAAAAAAAAAAAAAAAAAAAQAAAAAAAAABAAAAAQAAAAAAAAABAAAAAAAAAAAAAAAAAAAAAAAAAAEAAAAAAAAAAAAAAAEAAAAAAAAAAAAAAAAAAAAAAAAAAQAAAAEAAAABAAAAAAAAAAEAAAABAAAAAAAAAAEAAAABAAAAAQAAAAEAAAABAAAAAAAAAAEAAAAAAAAAAAAAAAAAAAABAAAAAQAAAAEAAAAAAAAAAAAAAAEAAAAAAAAAAQAAAAAAAAAAAAAAAAAAAAAAAAABAAAAAAAAAAEAAAABAAAAAAAAAAEAAAAAAAAAAAAAAAAAAAABAAAAAAAAAAEAAAAAAAAAAQAAAAAAAAABAAAAAAAAAAEAAAAAAAAAAQAAAAAAAAABAAAAAAAAAAEAAAABAAAAAAAAAAAAAAAAAAAAAAAAAAEAAAABAAAAAAAAAAEAAAABAAAAAQAAAAAAAAAAAAAAAAAAAAEAAAAAAAAAAAAAAAAAAAABAAAAAAAAAAEAAAABAAAAAAAAAAEAAAABAAAAAAAAAAEAAAABAAAAAAAAAAAAAAAAAAAAAAAAAAAAAAABAAAAAQAAAAEAAAABAAAAAAAAAAEAAAAAAAAAAAAAAAAAAAABAAAAAQAAAAAAAAAAAAAAAQAAAAEAAAAAAAAAAQAAAAAAAAAAAAAAAAAAAAEAAAAAAAAAAAAAAAEAAAABAAAAAAAAAAAAAAAAAAAAAAAAAAEAAAAAAAAAAAAAAAEAAAAAAAAAAQAAAAAAAAAAAAAAAAAAAAAAAAABAAAAAgAAAAIAAAAAAAAAAAAAAAAAAAAAAAAAAAAAAAEAAAABAAAAAAAAAAEAAAAAAAAAAAAAAAAAAAAAAAAAAQAAAAEAAAABAAAAAAAAAAAAAAAAAAAAAQAAAAEAAAABAAAAAQAAAAAAAAABAAAAAQAAAAAAAAAAAAAAAQAAAAAAAAAAAAAAAAAAAAAAAAAAAAAAAAAAAAAAAAAAAAAAAQAAAAEAAAAAAAAAAAAAAAEAAAAAAAAAAQAAAAEAAAABAAAAAQAAAAAAAAAAAAAAAAAAAAAAAAAAAAAAAAAAAAEAAAABAAAAAAAAAAAAAAABAAAAAAAAAAEAAAAAAAAAAAAAAAAAAAABAAAAAAAAAAEAAAAAAAAAAQAAAAAAAAAAAAAAAAAAAAAAAAABAAAAAQAAAAAAAAACAAAAAAAAAAAAAAAAAAAAAAAAAAAAAAAAAAAAAAAAAAEAAAAAAAAAAAAAAAAAAAAAAAAAAAAAAAEAAAAAAAAAAQAAAAAAAAABAAAAAQAAAAAAAAAAAAAAAQAAAAEAAAABAAAAAQAAAAAAAAAAAAAAAAAAAAEAAAABAAAAAQAAAAAAAAABAAAAAAAAAAEAAAAAAAAAAQAAAAAAAAABAAAAAQAAAAAAAAABAAAAAAAAAAEAAAAAAAAAAQAAAAAAAAABAAAAAAAAAAEAAAABAAAAAQAAAAAAAAAAAAAAAAAAAAAAAAABAAAAAAAAAAEAAAAAAAAAAgAAAAAAAAABAAAAAAAAAAEAAAAAAAAAAQAAAAAAAAACAAAAAQAAAAMAAAABAAAAAQAAAAEAAAAAAAAAAAAAAAAAAAA=\",\"dtype\":\"int32\",\"order\":\"little\",\"shape\":[533]}},\"selected\":{\"id\":\"1164\"},\"selection_policy\":{\"id\":\"1199\"}},\"id\":\"1163\",\"type\":\"ColumnDataSource\"},{\"attributes\":{\"source\":{\"id\":\"1163\"}},\"id\":\"1197\",\"type\":\"CDSView\"},{\"attributes\":{\"editor\":{\"id\":\"1166\"},\"field\":\"CoinName\",\"formatter\":{\"id\":\"1165\"},\"title\":\"CoinName\"},\"id\":\"1167\",\"type\":\"TableColumn\"},{\"attributes\":{},\"id\":\"1170\",\"type\":\"StringFormatter\"},{\"attributes\":{\"children\":[{\"id\":\"1162\"},{\"id\":\"1195\"},{\"id\":\"1202\"}],\"margin\":[0,0,0,0],\"name\":\"Row01965\",\"tags\":[\"embedded\"]},\"id\":\"1161\",\"type\":\"Row\"},{\"attributes\":{},\"id\":\"1175\",\"type\":\"StringFormatter\"},{\"attributes\":{},\"id\":\"1199\",\"type\":\"UnionRenderers\"},{\"attributes\":{},\"id\":\"1171\",\"type\":\"StringEditor\"},{\"attributes\":{},\"id\":\"1164\",\"type\":\"Selection\"},{\"attributes\":{},\"id\":\"1166\",\"type\":\"StringEditor\"},{\"attributes\":{\"editor\":{\"id\":\"1181\"},\"field\":\"TotalCoinSupply\",\"formatter\":{\"id\":\"1180\"},\"title\":\"TotalCoinSupply\"},\"id\":\"1182\",\"type\":\"TableColumn\"}],\"root_ids\":[\"1161\"]},\"title\":\"Bokeh Application\",\"version\":\"2.3.2\"}};\n",
              "    var render_items = [{\"docid\":\"822a4a36-ed51-4599-b433-e2efbd8babc1\",\"root_ids\":[\"1161\"],\"roots\":{\"1161\":\"5e347268-6f6e-477f-bf7e-e23b053d2a94\"}}];\n",
              "    root.Bokeh.embed.embed_items_notebook(docs_json, render_items);\n",
              "  }\n",
              "  if (root.Bokeh !== undefined && root.Bokeh.Panel !== undefined) {\n",
              "    embed_document(root);\n",
              "  } else {\n",
              "    var attempts = 0;\n",
              "    var timer = setInterval(function(root) {\n",
              "      if (root.Bokeh !== undefined && root.Bokeh.Panel !== undefined) {\n",
              "        clearInterval(timer);\n",
              "        embed_document(root);\n",
              "      } else if (document.readyState == \"complete\") {\n",
              "        attempts++;\n",
              "        if (attempts > 100) {\n",
              "          clearInterval(timer);\n",
              "          console.log(\"Bokeh: ERROR: Unable to run BokehJS code because BokehJS library is missing\");\n",
              "        }\n",
              "      }\n",
              "    }, 10, root)\n",
              "  }\n",
              "})(window);</script>"
            ]
          },
          "metadata": {
            "tags": [],
            "application/vnd.holoviews_exec.v0+json": {
              "id": "1161"
            }
          },
          "execution_count": 57
        }
      ]
    },
    {
      "cell_type": "code",
      "metadata": {
        "colab": {
          "base_uri": "https://localhost:8080/"
        },
        "id": "7ZPzTiMi62G7",
        "outputId": "29c3c274-5ae3-4577-8325-c1f10eddba74"
      },
      "source": [
        "# Print the total number of tradable cryptocurrencies\n",
        "print('The total number of tradable cryptocurrencies is', clustered_df['CoinName'].nunique())"
      ],
      "execution_count": 89,
      "outputs": [
        {
          "output_type": "stream",
          "text": [
            "The total number of tradable cryptocurrencies is 532\n"
          ],
          "name": "stdout"
        }
      ]
    },
    {
      "cell_type": "markdown",
      "metadata": {
        "id": "0JiRr0ht62G7"
      },
      "source": [
        "#### Scatter Plot with Tradable Cryptocurrencies"
      ]
    },
    {
      "cell_type": "code",
      "metadata": {
        "id": "iUOgii3R62G8"
      },
      "source": [
        "# Scale data to create the scatter plot\n",
        "plotting_df = clustered_df[['TotalCoinsMined', 'TotalCoinSupply']]\n",
        "scaler = MinMaxScaler()\n",
        "plotting_df = pd.DataFrame(scaler.fit_transform(plotting_df), columns=plotting_df.columns)"
      ],
      "execution_count": 78,
      "outputs": []
    },
    {
      "cell_type": "code",
      "metadata": {
        "colab": {
          "base_uri": "https://localhost:8080/",
          "height": 542
        },
        "id": "hfnIvTNg62G8",
        "outputId": "12a8f4d3-c0b6-4514-d647-4d660fca115d"
      },
      "source": [
        "# Plot the scatter with x=\"TotalCoinsMined\" and y=\"TotalCoinSupply\"\n",
        "import plotly.express as px\n",
        "fig = px.scatter(plotting_df, x='TotalCoinsMined', y='TotalCoinSupply')\n",
        "fig.show()"
      ],
      "execution_count": 82,
      "outputs": [
        {
          "output_type": "display_data",
          "data": {
            "text/html": [
              "<html>\n",
              "<head><meta charset=\"utf-8\" /></head>\n",
              "<body>\n",
              "    <div>\n",
              "            <script src=\"https://cdnjs.cloudflare.com/ajax/libs/mathjax/2.7.5/MathJax.js?config=TeX-AMS-MML_SVG\"></script><script type=\"text/javascript\">if (window.MathJax) {MathJax.Hub.Config({SVG: {font: \"STIX-Web\"}});}</script>\n",
              "                <script type=\"text/javascript\">window.PlotlyConfig = {MathJaxConfig: 'local'};</script>\n",
              "        <script src=\"https://cdn.plot.ly/plotly-latest.min.js\"></script>    \n",
              "            <div id=\"0cc6cbec-76a1-4d7e-ae92-b09086846791\" class=\"plotly-graph-div\" style=\"height:525px; width:100%;\"></div>\n",
              "            <script type=\"text/javascript\">\n",
              "                \n",
              "                    window.PLOTLYENV=window.PLOTLYENV || {};\n",
              "                    \n",
              "                if (document.getElementById(\"0cc6cbec-76a1-4d7e-ae92-b09086846791\")) {\n",
              "                    Plotly.newPlot(\n",
              "                        '0cc6cbec-76a1-4d7e-ae92-b09086846791',\n",
              "                        [{\"hoverlabel\": {\"namelength\": 0}, \"hovertemplate\": \"TotalCoinsMined=%{x}<br>TotalCoinSupply=%{y}\", \"legendgroup\": \"\", \"marker\": {\"color\": \"#636efa\", \"symbol\": \"circle\"}, \"mode\": \"markers\", \"name\": \"\", \"showlegend\": false, \"type\": \"scatter\", \"x\": [0.005942301265291196, 0.007001823075505811, 0.03534206817665419, 0.005960302081193205, 0.006050428042288505, 0.006005599566096402, 0.005951369637315813, 0.00595957306525059, 0.006056126849581256, 0.005949714624712173, 0.008695139440603883, 0.0173954014424662, 0.00594359538251293, 0.00595434586042579, 0.005948093241640231, 0.005967948741926683, 0.0059534967840065185, 0.005954557186006918, 0.00596051086078555, 0.006580336799895258, 0.007637494422720277, 0.005942301311480309, 0.006113205175562256, 0.00607177213876753, 0.005949689259426721, 0.006065869828734405, 0.006202925202517102, 0.005992053459537629, 0.0059758816665945735, 0.005942343977602834, 0.005949550854747361, 0.0059433446106777615, 0.005947024436207566, 0.00594731874760256, 0.04610670383416018, 0.005945619292750301, 0.021937304382825946, 0.02479332177543805, 0.01853285343076305, 0.005963297646775048, 0.006162072712235684, 0.005961878143814788, 0.005948004272461892, 0.006406029310808182, 0.005943448652048927, 0.006151827973863507, 0.006830060899804024, 0.006008243867208846, 0.005984131093704846, 0.0060319350557783615, 0.007627720254801949, 0.09691041484106185, 0.005960024684697976, 0.00596347725214809, 0.0060943713429104755, 0.005961706976005551, 0.005943410106349721, 0.006003999578552965, 0.0059806100329080816, 0.00598289926033022, 0.027323747535503793, 0.005948129284060946, 0.007562770404221907, 0.00595854772507148, 0.006008659946085097, 0.008318092376221976, 0.005957098191683399, 0.0062783861460456985, 0.005957519882123332, 0.0059455350765592755, 0.00616589368216052, 0.00601656448020313, 0.03537835927391578, 0.005943409918774235, 0.005966615932462508, 0.005968000153919176, 0.005993217300104771, 0.005942302404956244, 0.006507953152559235, 0.006022891568036922, 0.005986016965159496, 0.0075712956913197875, 0.00594373895921677, 0.005965330886647894, 0.005944588736618241, 0.005942502960684332, 0.005943513495323358, 0.007045770657097612, 0.0059927429076624995, 0.005965547268533786, 0.005974453942548501, 0.005993685277749163, 0.006062399764560676, 0.005949280623056344, 0.006042712236424324, 0.005981658062184753, 0.005975530968145766, 0.006090899720666186, 0.19076566919493668, 0.012877275827550508, 0.0077627869537667945, 0.005993684695549405, 0.006010776187177289, 0.005981583712486375, 0.005995713687841842, 0.006359039481587814, 0.00596959744538305, 0.006080384093389925, 0.005944332000605379, 0.005942483890074512, 0.006117665155819443, 0.00609519774067253, 0.005943775097140434, 0.005949427226050641, 0.0067380959066687994, 0.006664675112671032, 0.005945002090603836, 0.006007682149453622, 0.005948692670286913, 0.0059524829444935114, 0.005953953642070128, 0.010571590977481083, 0.006653719799187617, 0.005942923247255623, 0.005954815066145057, 0.005942389798685784, 0.005943821148643466, 0.00600622008276286, 0.005974655232899436, 0.005956100445600365, 0.005957109036073037, 0.005950904477255663, 0.005958230263101538, 0.005942631776190877, 0.00597500037083466, 0.006018226508774661, 0.006042712236424324, 0.005952839638107668, 0.005965438535287039, 0.039176636155819206, 0.005985537999409453, 0.0059558873919239065, 0.005958234136456376, 0.005963385002407418, 0.0059527088717688005, 0.006153164351060602, 0.00595379722882237, 0.005945985997885325, 0.016983815652643352, 0.0060124243587818035, 0.005947451318048609, 0.027771627329403727, 0.01605313703037639, 0.005951336952391876, 0.005982944631146994, 0.005987596956552504, 0.005948026707294595, 0.0059429403016242575, 0.0059596355328046784, 0.005952751268170394, 0.04306549396936256, 0.005946696295115974, 0.008098611313645664, 0.005962383425779759, 0.005948899037669155, 0.005956011425713259, 0.006077409202981424, 0.00594350166188544, 0.005959032529525923, 0.006026094618378613, 0.005966789184412359, 0.00594292020480192, 0.00598104964103269, 0.006758735479393517, 0.005946846150912516, 0.006042712236424324, 0.005947321773783903, 0.005943684803540829, 0.00660200158053711, 0.006058675710858092, 0.00595792906570753, 0.005985644139067092, 0.0059501558070823414, 0.005942899099411033, 0.005948570726131804, 0.005942961562436998, 0.005944893805358866, 0.006946411356175685, 0.005944249085320523, 0.00605962670055278, 0.006112596911996671, 0.0059514453669248695, 0.006610235340862456, 0.0059534661245101055, 0.025600555792716077, 0.006016639318710234, 0.005975961963932353, 0.0062080675450881416, 0.005949900611011126, 0.0060916292850202005, 0.005944811622960916, 0.006042712236424324, 0.005960193142438618, 0.007028911691076891, 0.0059686144703707394, 0.00594793784555604, 0.006050948032080909, 0.005960719427520688, 0.00613940600489826, 0.006769687972757641, 0.09851404871441681, 0.005946170387581456, 0.0059925067297714706, 0.005959461063648509, 0.005944760868623059, 0.006003918253665069, 0.005962383425779759, 0.0059483956515747555, 0.005954768810807668, 0.005962628452390119, 0.0060182022785930395, 0.005953427488738913, 0.005953260500828838, 0.005943119242524825, 0.005943283388424716, 0.005950713530291382, 0.039894421565137825, 0.0059457884805408515, 0.005945630640452596, 0.0059528622253032055, 0.005972653213193133, 0.005943198923684434, 0.005951696769995324, 0.005944185080773731, 0.005966365095986299, 0.005944837684112517, 0.005947983579717382, 0.005954171539993661, 0.006481490364892017, 0.005942610668775312, 0.005953315627000246, 0.005945235849415134, 0.0060527533377548945, 0.0059454292852435045, 0.005956885773673545, 0.005972811651731028, 0.005949251325936929, 0.006946411356175685, 0.0060425550011275145, 0.005960923206149586, 0.005978499759915523, 0.00594454330163883, 0.005955518072854559, 0.005954535497710915, 0.006053386316583308, 0.0060066607184207695, 0.00605389384308464, 0.005963911000625556, 0.00595246603081758, 0.006345372519488681, 0.006064466735957197, 0.005947692224151732, 0.0059434542668830494, 0.005942803278185146, 0.006043260224508889, 0.005959543181783411, 0.005962660659730511, 0.006238649735517102, 0.0072654648406792356, 0.005953738264437199, 0.005963747774480592, 0.0467684352052886, 0.005952686847689272, 0.005956030829070925, 0.006042712236424324, 0.006011620987167551, 0.028837902866670106, 0.005962166763565638, 0.0060760971883489145, 0.005960784138491275, 0.007759205516838739, 0.005946489750053669, 0.005977584623981356, 0.006005501998421755, 0.005949133551951805, 0.0059605089479628165, 0.005963656729806607, 0.005947490238361476, 0.005968450625074868, 0.005944934889529071, 0.015024408036029762, 0.005956521233013275, 0.0059643083230282974, 0.005960176256313639, 0.16966757686947678, 0.008192521218126598, 0.006050717771553416, 0.006065280252678391, 0.0059898275656020536, 0.005960370777033415, 0.005954922146995999, 0.005961041229102985, 0.061624962361791026, 0.005942788431412718, 0.005946317663650846, 0.14953674740549208, 0.005952045150022428, 0.005959826709755273, 0.005975082136590201, 0.005976156328526699, 0.0059619211214251774, 0.005946518485677457, 0.0059512846480528625, 0.005967403976445043, 0.03197593547080978, 0.005949593474599974, 0.011175274658458193, 0.006125690291243947, 0.008656265988404532, 0.005943446646607712, 0.005946484313374658, 0.005966399866311986, 0.005959574288200583, 0.054600948556779876, 0.006034730364154627, 0.006505168432539715, 0.005950641136278091, 0.005976427894128625, 0.005944459746622328, 0.005973139002207086, 0.006042702196822598, 0.005954682710678402, 0.005958731020347686, 0.014979292410591125, 0.006118237242612816, 0.0059487026853215445, 0.005955110020484312, 0.005948157501550903, 0.005980656819260189, 0.00623157588117739, 0.034458175717181155, 0.00612658959727122, 0.006426011766411037, 0.006053734330554944, 0.025303373488203093, 0.005946819718717374, 0.00646533393764275, 0.005955602849667176, 0.0059593266784705124, 0.006022947540416026, 0.0063853650536662586, 0.010873988412145716, 0.005950755230303417, 0.009922795866587723, 0.005987661109257211, 0.03615564530727533, 0.005946547645541727, 0.005950180894381571, 0.005969713108435832, 0.006243331385595683, 0.005987971213843063, 0.006535753153252651, 0.005944816003117971, 0.005946726589510753, 0.005950814173595225, 0.0059625501080618456, 0.005954266789975983, 0.005962831119864415, 0.005943925906449538, 0.005951739198195456, 0.05930054823024787, 0.0059471393661224775, 0.006178112738301094, 0.006076784171155938, 0.015983402553689297, 0.006050067610270159, 0.006588743221516738, 0.006173546707343267, 0.007721676305066143, 0.006583307391653789, 0.00595479847824845, 0.020492875641520816, 0.006154467323027981, 0.005953598809819982, 0.006147620698176288, 0.005944477960276443, 0.005942722221776216, 0.005967976332409674, 0.006595824922567377, 0.006190931396247034, 0.006022679318406178, 0.005946388164381423, 0.005967403976445043, 0.005956145747663487, 0.005943150336616023, 0.0059434882354267955, 0.006013949980623438, 0.006210697528446606, 0.0059697540978697295, 0.005952145208956384, 0.00596426772565445, 0.0059522223356698245, 0.0059435374302966, 0.005974233392542288, 0.006082615167960302, 0.00595342199797958, 0.005958383918560814, 0.005946723123322574, 0.007352230026858042, 0.005963457167187399, 0.005947419865012385, 0.005953251007060255, 0.005943099939511627, 0.005981167122722274, 0.005949316337855296, 0.005942385869602834, 0.0059615335790946635, 0.04740654721191624, 0.01618422458030071, 0.005949962583449306, 0.006078722051765894, 0.005975676020198876, 0.006504689203311031, 0.005963989338951417, 0.00597270989156435, 0.08413442553817463, 0.005945028652282021, 0.006000349835025782, 0.005960570942726542, 0.005950460486526033, 0.005950982163056061, 0.0059473147758365074, 0.0059793761026778434, 0.005949412724940561, 0.005948245042777329, 0.00594334751838072, 0.0059556886398937255, 0.006008626590970204, 0.0059437237088583155, 0.005947727235961797, 0.005957945459119581, 0.005947212222356056, 0.005957107984866211, 0.10590458828243918, 0.005961649933308415, 0.005973198822516781, 0.006050508014872178, 0.005951666690467609, 0.008050932502538459, 0.005946992941616552, 0.005946824376784281, 0.005947337720431613, 0.007006611855857974, 0.006946411356175685, 0.0059520950659589355, 0.006946411356175685, 0.010194819598911576, 0.005949116525437157, 0.00595599211416633, 0.005960367689394771, 0.006151674115433019, 0.02322296002787063, 0.00781702994035663, 0.005977758546644283, 0.005943885991378228, 0.00595821307649974, 0.005955832530942884, 0.005942708984135462, 0.005977730965175029, 0.00595713951020696, 0.005978135423574294, 0.005960641305993738, 0.005967555383701732, 0.005944243876675175, 0.03689470899282692, 0.005955280140259818, 0.0059430198240165285, 0.0059629322002894, 0.006142057029725476, 0.0068423465547862855, 0.005957784836873277, 0.005994809994373017, 0.005943476325676508, 0.0060272620942179835, 0.005966174905799846, 0.006946411356175685, 0.021324150968322384, 0.005998094679362243, 0.006185872340191126, 0.00978270619941931, 0.0059458529112757594, 0.005965754012783336, 0.00596296232740299, 0.005946711534130909, 0.005951972008625187, 0.006380448319065518, 0.006725718692908165, 0.0069270646932858585, 0.02395576092539615, 0.0064385732840467795, 0.005965382631541156, 0.006002547831102041, 0.035647884678516, 0.006348279493175738, 0.006015900692376805, 0.006144493184724794, 0.006046348998984339, 0.005946138174688561, 0.005947374545715541, 0.00601227209094118, 0.005959271705206869, 0.006017284216630596, 0.00606280662898248, 0.0159836482370474, 0.00619534256371114, 0.005943426213055083, 0.0, 0.005945647844373561, 0.005942442579487279, 0.006042712236424324, 0.006967040319971305, 0.005966889815922965, 0.007069296647014164, 0.006946411356175685, 0.006042712236424324, 0.005951622515605026, 1.0, 0.006946411356175685, 0.007950521484519059, 0.005957293637859655, 0.006926552663409611, 0.005949627750358598, 0.005942430077555986], \"xaxis\": \"x\", \"y\": [4.2e-11, 0.000532, 0.314159265359, 2.1e-05, 0.0, 8.4e-05, 2.2e-05, 0.0, 0.00021, 2.1e-05, 0.0036005705019999997, 0.021, 2.2e-05, 1.2499999999999999e-05, 2.1e-05, 0.00035, 1.9999999999999998e-05, 6.4e-05, 1.6768584e-05, 0.0, 0.002, 0.384, 0.000169795588, 0.00025, 9.999999999999999e-05, 0.0, 0.000247, 8.4e-05, 4.8166e-05, 5e-07, 2.1e-05, 1e-06, 1.314e-05, 1.8e-05, 0.04, 4.3799999999999996e-06, 0.016555, 0.021, 0.0135, 2.1e-05, 0.000299792458, 3.2e-05, 0.0, 0.0, 1.1235812999999999e-05, 0.000336, 0.001420609614, 7e-05, 7.22457e-05, 0.00012, 0.0, 0.0906, 2.2e-05, 2.1e-05, 0.0002654208, 1.9999999999999998e-05, 1.35e-06, 9.999999999999999e-05, 4.2e-05, 0.00019999999999999998, 0.0, 9.999999999999999e-06, 0.0024192, 1.618e-05, 0.0, 0.015, 2.1e-05, 0.000337, 0.0, 3.77e-06, 0.00042, 9.8e-05, 0.0, 2.1e-05, 0.00025, 5.12e-05, 0.0, 1e-09, 0.000888, 9.999999999999999e-05, 4.7011968e-05, 0.0023, 9.999999999999999e-06, 4.2e-05, 7.999999999999999e-05, 2.5e-07, 0.0, 0.0015999999999999999, 9.999999999999999e-05, 2.3e-05, 0.0, 8.4e-05, 0.0002654208, 5.5e-06, 0.0, 4.4999999999999996e-05, 0.0, 0.001, 0.184467440735, 0.01, 0.0021588128, 0.0005, 0.00010512, 6.8e-05, 0.0, 0.00168, 0.0, 0.000166386, 1.2e-05, 2.628e-06, 0.0005, 0.00015999999999999999, 0.0, 9.999999999999999e-06, 0.001, 0.001, 1.9999999999999998e-05, 0.0, 0.0, 3.3713369999999998e-06, 1.9999999999999998e-05, 0.01, 0.00184, 6.19478e-07, 2.1e-05, 0.092, 0.0, 7.8e-05, 3.3e-05, 6.57891e-05, 5.376e-05, 5.06e-06, 2.1e-05, 0.0, 0.00021024, 0.00025, 9.999999999999999e-05, 1.6906397e-05, 4.9999999999999996e-05, 0.0, 0.001, 2.6297999999999998e-05, 1.6e-05, 2.1e-05, 2.1e-05, 0.00021, 8.196209999999999e-05, 2.2e-05, 0.02655, 8.4e-05, 1.05e-05, 0.02162628, 0.0, 4.2e-05, 0.000221052632, 8.4e-05, 3e-05, 0.0001683513, 2.4e-05, 0.000384, 0.099, 3.9999999999999996e-05, 0.002147483647, 1.9999999999999998e-05, 1.9999999999999998e-05, 2.4999999999999998e-05, 7.5e-05, 0.000222725, 0.000525, 8.999999999999999e-05, 0.000139, 6.16448e-07, 3.35e-05, 0.002, 4.4333333e-05, 9.999999999999999e-05, 0.00019999999999999998, 2.4999999999999998e-05, 0.000657, 0.00019999999999999998, 4.9999999999999996e-05, 8.999999999999999e-05, 9.999999999999999e-06, 2.1e-05, 9.736e-06, 3e-06, 2.1e-05, 0.0012, 0.0, 0.00019999999999999998, 0.0, 1.0638297999999999e-05, 0.0031, 3e-05, 0.02, 7.4e-05, 0.0, 0.0015, 2.14e-05, 3.9999898e-05, 2.500124e-06, 9.999999999999999e-05, 0.000301, 0.007506, 2.6205539e-05, 2.1e-05, 0.000125, 3e-05, 0.01, 0.0005, 0.00085, 3.85332677707314e-06, 4.9999999999999996e-05, 3.854e-05, 4.2e-05, 0.00022799999999999999, 1.9999999999999998e-05, 6e-05, 1.9999999999999998e-05, 3.3e-05, 7.65e-05, 2.8e-05, 0.000650659833, 4.9999999999999996e-06, 2.1e-05, 0.000144, 0.032514916898, 1.3e-05, 3.315789e-06, 1.5e-05, 7.88352e-05, 2.714286e-06, 2.4999999999999998e-05, 9.999999e-06, 0.0005, 2.1e-05, 9.354e-06, 1.9999999999999998e-05, 0.09999999999999999, 2.1933333e-05, 0.000185, 5.5e-05, 0.00011, 3.36e-06, 1.4524851482699999e-05, 0.001, 1.7e-05, 0.001, 9.999999999999999e-05, 2.1e-05, 3.4426423e-05, 2.232901e-06, 9.999999999999999e-05, 3.69e-05, 0.00011, 0.004, 0.00011029002999999999, 9.999999999999999e-05, 4.8252e-05, 0.00039999999999999996, 0.0005, 2.1212121e-05, 2.86e-05, 0.001, 0.075, 3.9999999999999996e-05, 3.55204e-05, 0.002, 0.0025, 3e-05, 0.000105, 0.09, 0.0002000842, 7.2e-05, 9.999999999999999e-05, 0.000105, 0.049999999999999996, 0.0, 0.000340282367, 3e-05, 0.002, 9.999999999999999e-06, 9.999999999999999e-05, 0.00012, 9.999999999999999e-05, 1.9276799999999998e-05, 3e-05, 7.5e-05, 6e-05, 1.89e-05, 0.049999999999999996, 5.4e-05, 1.88981876216583e-05, 2.1e-05, 0.19999999999999998, 0.005, 0.0001375, 0.0011, 9.999999999999999e-05, 2.1e-05, 9.507271e-06, 1.740589119707116e-05, 0.086712634466, 0.0105, 6.1599965e-05, 0.0, 1.9999999999999998e-05, 8.4e-05, 9.999999999999999e-05, 9.999999999999999e-05, 4.8252e-05, 4.2e-06, 8.8888888e-05, 9.1388946e-05, 0.045, 2.7e-05, 0.021, 0.00039999999999999996, 0.0018, 1.5733333e-05, 2.7e-05, 2.4e-05, 2.1e-05, 0.024999999999999998, 9.999999999999999e-05, 0.0012, 6e-05, 0.00015630673271, 2.1e-05, 0.00019999999999999998, 9.999999999999999e-05, 2.1e-05, 1.4788275991e-05, 0.009, 0.00035, 4.4999999999999996e-05, 0.00028, 3.18e-05, 0.000144, 0.0005, 0.03, 0.00021, 0.00066, 0.00021, 0.08499999999999999, 1.2499999999999999e-05, 0.01, 2.7716120999999998e-05, 1.9999999999999998e-05, 0.00055, 0.000999481516, 0.049999999999999996, 0.00015, 0.004999999999, 4.9999999999999996e-05, 0.09, 1.98e-05, 2.1e-05, 0.00012, 0.0005, 6.4e-05, 0.0009, 4e-06, 2.1e-05, 2.3e-05, 2.0166e-05, 2.3e-05, 2.4999999999999998e-05, 1.618033e-06, 3e-05, 1.0, 1.66e-05, 0.000232, 0.000336, 0.01, 9.999999999999999e-05, 0.0011, 0.0007999999999999999, 0.0052, 0.00084, 3.9999999999999996e-05, 0.01840697984, 0.0005, 1.9340594e-05, 0.0002524608, 2.4999999999999998e-05, 6e-05, 0.000124, 0.001, 0.0065, 0.001, 2.1e-05, 2.4999999999999998e-05, 4.9999999999999996e-05, 3e-06, 4.9999999999999996e-06, 7e-05, 0.0005, 0.0003, 2.1e-05, 8.8e-05, 3e-05, 9.999999999999999e-05, 9.999999999999999e-05, 0.00019999999999999998, 7.999999999999999e-05, 1.84e-05, 4.4999999999999996e-05, 0.00512195122, 2.1e-05, 2.628e-05, 2.1e-05, 1.8e-05, 2.6e-05, 1.05e-05, 0.0006000005179999999, 0.00015, 0.184, 0.010199999999999999, 4.4e-05, 0.000168, 9.999999999999999e-05, 0.001, 8.4e-05, 8.999999999999999e-05, 0.092, 0.00065, 0.000100262205, 1.8081806e-05, 2.20757e-05, 2.1e-05, 2.1e-05, 8.2546564e-05, 2.1e-05, 5.151e-06, 0.01688, 5.25e-05, 9.999999999999999e-05, 2.2105263e-05, 0.001, 0.00175, 8.818888799999999e-05, 0.00021, 0.18447, 5.5e-05, 4.9999999999999996e-05, 0.00026, 0.00021, 0.0021, 0.000366, 9.999999999999999e-05, 2.4999999999999998e-05, 0.018, 0.001, 9.999999999999999e-05, 0.001, 0.0076, 4.9999999999999996e-05, 8.4e-05, 2.1e-05, 0.06999999999999999, 0.0, 0.00808, 5.4e-05, 0.00010512000144, 2.5228799999999998e-05, 0.000105, 2.1e-05, 0.00012, 2.1e-05, 0.0002628, 1.9035999e-05, 3.0886e-05, 1.3369999999999999e-05, 0.0748, 9.999999999999999e-05, 1.97e-05, 8.4e-05, 0.0005, 0.005, 0.00042, 6.4e-05, 2.1e-06, 0.000168, 3e-05, 0.001, 0.034999999999999996, 0.09809999999999999, 0.0, 0.004, 0.00019999999999999998, 0.007, 5.4256118999999996e-05, 2.1e-05, 0.0, 0.0005, 0.001, 0.0105, 0.00018999999999999998, 0.001, 4.2e-05, 1.5e-05, 0.049999999999999996, 0.00039999999999999996, 0.000105, 0.000208, 0.00015999999999999999, 9e-06, 4.9999999999999996e-06, 0.000182, 1.6504333e-05, 0.000105, 0.0001599184, 0.010008835635, 0.0003, 6.0168145e-05, 0.005, 2.8e-06, 1.2e-07, 0.0021, 0.0, 2.4487944e-05, 0.0, 0.001, 9.999999999999999e-05, 8.63414e-06, 0.99, 0.001, 0.002, 0.00025, 0.00140022261, 2.1e-05, 1e-06], \"yaxis\": \"y\"}],\n",
              "                        {\"legend\": {\"tracegroupgap\": 0}, \"margin\": {\"t\": 60}, \"template\": {\"data\": {\"bar\": [{\"error_x\": {\"color\": \"#2a3f5f\"}, \"error_y\": {\"color\": \"#2a3f5f\"}, \"marker\": {\"line\": {\"color\": \"#E5ECF6\", \"width\": 0.5}}, \"type\": \"bar\"}], \"barpolar\": [{\"marker\": {\"line\": {\"color\": \"#E5ECF6\", \"width\": 0.5}}, \"type\": \"barpolar\"}], \"carpet\": [{\"aaxis\": {\"endlinecolor\": \"#2a3f5f\", \"gridcolor\": \"white\", \"linecolor\": \"white\", \"minorgridcolor\": \"white\", \"startlinecolor\": \"#2a3f5f\"}, \"baxis\": {\"endlinecolor\": \"#2a3f5f\", \"gridcolor\": \"white\", \"linecolor\": \"white\", \"minorgridcolor\": \"white\", \"startlinecolor\": \"#2a3f5f\"}, \"type\": \"carpet\"}], \"choropleth\": [{\"colorbar\": {\"outlinewidth\": 0, \"ticks\": \"\"}, \"type\": \"choropleth\"}], \"contour\": [{\"colorbar\": {\"outlinewidth\": 0, \"ticks\": \"\"}, \"colorscale\": [[0.0, \"#0d0887\"], [0.1111111111111111, \"#46039f\"], [0.2222222222222222, \"#7201a8\"], [0.3333333333333333, \"#9c179e\"], [0.4444444444444444, \"#bd3786\"], [0.5555555555555556, \"#d8576b\"], [0.6666666666666666, \"#ed7953\"], [0.7777777777777778, \"#fb9f3a\"], [0.8888888888888888, \"#fdca26\"], [1.0, \"#f0f921\"]], \"type\": \"contour\"}], \"contourcarpet\": [{\"colorbar\": {\"outlinewidth\": 0, \"ticks\": \"\"}, \"type\": \"contourcarpet\"}], \"heatmap\": [{\"colorbar\": {\"outlinewidth\": 0, \"ticks\": \"\"}, \"colorscale\": [[0.0, \"#0d0887\"], [0.1111111111111111, \"#46039f\"], [0.2222222222222222, \"#7201a8\"], [0.3333333333333333, \"#9c179e\"], [0.4444444444444444, \"#bd3786\"], [0.5555555555555556, \"#d8576b\"], [0.6666666666666666, \"#ed7953\"], [0.7777777777777778, \"#fb9f3a\"], [0.8888888888888888, \"#fdca26\"], [1.0, \"#f0f921\"]], \"type\": \"heatmap\"}], \"heatmapgl\": [{\"colorbar\": {\"outlinewidth\": 0, \"ticks\": \"\"}, \"colorscale\": [[0.0, \"#0d0887\"], [0.1111111111111111, \"#46039f\"], [0.2222222222222222, \"#7201a8\"], [0.3333333333333333, \"#9c179e\"], [0.4444444444444444, \"#bd3786\"], [0.5555555555555556, \"#d8576b\"], [0.6666666666666666, \"#ed7953\"], [0.7777777777777778, \"#fb9f3a\"], [0.8888888888888888, \"#fdca26\"], [1.0, \"#f0f921\"]], \"type\": \"heatmapgl\"}], \"histogram\": [{\"marker\": {\"colorbar\": {\"outlinewidth\": 0, \"ticks\": \"\"}}, \"type\": \"histogram\"}], \"histogram2d\": [{\"colorbar\": {\"outlinewidth\": 0, \"ticks\": \"\"}, \"colorscale\": [[0.0, \"#0d0887\"], [0.1111111111111111, \"#46039f\"], [0.2222222222222222, \"#7201a8\"], [0.3333333333333333, \"#9c179e\"], [0.4444444444444444, \"#bd3786\"], [0.5555555555555556, \"#d8576b\"], [0.6666666666666666, \"#ed7953\"], [0.7777777777777778, \"#fb9f3a\"], [0.8888888888888888, \"#fdca26\"], [1.0, \"#f0f921\"]], \"type\": \"histogram2d\"}], \"histogram2dcontour\": [{\"colorbar\": {\"outlinewidth\": 0, \"ticks\": \"\"}, \"colorscale\": [[0.0, \"#0d0887\"], [0.1111111111111111, \"#46039f\"], [0.2222222222222222, \"#7201a8\"], [0.3333333333333333, \"#9c179e\"], [0.4444444444444444, \"#bd3786\"], [0.5555555555555556, \"#d8576b\"], [0.6666666666666666, \"#ed7953\"], [0.7777777777777778, \"#fb9f3a\"], [0.8888888888888888, \"#fdca26\"], [1.0, \"#f0f921\"]], \"type\": \"histogram2dcontour\"}], \"mesh3d\": [{\"colorbar\": {\"outlinewidth\": 0, \"ticks\": \"\"}, \"type\": \"mesh3d\"}], \"parcoords\": [{\"line\": {\"colorbar\": {\"outlinewidth\": 0, \"ticks\": \"\"}}, \"type\": \"parcoords\"}], \"pie\": [{\"automargin\": true, \"type\": \"pie\"}], \"scatter\": [{\"marker\": {\"colorbar\": {\"outlinewidth\": 0, \"ticks\": \"\"}}, \"type\": \"scatter\"}], \"scatter3d\": [{\"line\": {\"colorbar\": {\"outlinewidth\": 0, \"ticks\": \"\"}}, \"marker\": {\"colorbar\": {\"outlinewidth\": 0, \"ticks\": \"\"}}, \"type\": \"scatter3d\"}], \"scattercarpet\": [{\"marker\": {\"colorbar\": {\"outlinewidth\": 0, \"ticks\": \"\"}}, \"type\": \"scattercarpet\"}], \"scattergeo\": [{\"marker\": {\"colorbar\": {\"outlinewidth\": 0, \"ticks\": \"\"}}, \"type\": \"scattergeo\"}], \"scattergl\": [{\"marker\": {\"colorbar\": {\"outlinewidth\": 0, \"ticks\": \"\"}}, \"type\": \"scattergl\"}], \"scattermapbox\": [{\"marker\": {\"colorbar\": {\"outlinewidth\": 0, \"ticks\": \"\"}}, \"type\": \"scattermapbox\"}], \"scatterpolar\": [{\"marker\": {\"colorbar\": {\"outlinewidth\": 0, \"ticks\": \"\"}}, \"type\": \"scatterpolar\"}], \"scatterpolargl\": [{\"marker\": {\"colorbar\": {\"outlinewidth\": 0, \"ticks\": \"\"}}, \"type\": \"scatterpolargl\"}], \"scatterternary\": [{\"marker\": {\"colorbar\": {\"outlinewidth\": 0, \"ticks\": \"\"}}, \"type\": \"scatterternary\"}], \"surface\": [{\"colorbar\": {\"outlinewidth\": 0, \"ticks\": \"\"}, \"colorscale\": [[0.0, \"#0d0887\"], [0.1111111111111111, \"#46039f\"], [0.2222222222222222, \"#7201a8\"], [0.3333333333333333, \"#9c179e\"], [0.4444444444444444, \"#bd3786\"], [0.5555555555555556, \"#d8576b\"], [0.6666666666666666, \"#ed7953\"], [0.7777777777777778, \"#fb9f3a\"], [0.8888888888888888, \"#fdca26\"], [1.0, \"#f0f921\"]], \"type\": \"surface\"}], \"table\": [{\"cells\": {\"fill\": {\"color\": \"#EBF0F8\"}, \"line\": {\"color\": \"white\"}}, \"header\": {\"fill\": {\"color\": \"#C8D4E3\"}, \"line\": {\"color\": \"white\"}}, \"type\": \"table\"}]}, \"layout\": {\"annotationdefaults\": {\"arrowcolor\": \"#2a3f5f\", \"arrowhead\": 0, \"arrowwidth\": 1}, \"coloraxis\": {\"colorbar\": {\"outlinewidth\": 0, \"ticks\": \"\"}}, \"colorscale\": {\"diverging\": [[0, \"#8e0152\"], [0.1, \"#c51b7d\"], [0.2, \"#de77ae\"], [0.3, \"#f1b6da\"], [0.4, \"#fde0ef\"], [0.5, \"#f7f7f7\"], [0.6, \"#e6f5d0\"], [0.7, \"#b8e186\"], [0.8, \"#7fbc41\"], [0.9, \"#4d9221\"], [1, \"#276419\"]], \"sequential\": [[0.0, \"#0d0887\"], [0.1111111111111111, \"#46039f\"], [0.2222222222222222, \"#7201a8\"], [0.3333333333333333, \"#9c179e\"], [0.4444444444444444, \"#bd3786\"], [0.5555555555555556, \"#d8576b\"], [0.6666666666666666, \"#ed7953\"], [0.7777777777777778, \"#fb9f3a\"], [0.8888888888888888, \"#fdca26\"], [1.0, \"#f0f921\"]], \"sequentialminus\": [[0.0, \"#0d0887\"], [0.1111111111111111, \"#46039f\"], [0.2222222222222222, \"#7201a8\"], [0.3333333333333333, \"#9c179e\"], [0.4444444444444444, \"#bd3786\"], [0.5555555555555556, \"#d8576b\"], [0.6666666666666666, \"#ed7953\"], [0.7777777777777778, \"#fb9f3a\"], [0.8888888888888888, \"#fdca26\"], [1.0, \"#f0f921\"]]}, \"colorway\": [\"#636efa\", \"#EF553B\", \"#00cc96\", \"#ab63fa\", \"#FFA15A\", \"#19d3f3\", \"#FF6692\", \"#B6E880\", \"#FF97FF\", \"#FECB52\"], \"font\": {\"color\": \"#2a3f5f\"}, \"geo\": {\"bgcolor\": \"white\", \"lakecolor\": \"white\", \"landcolor\": \"#E5ECF6\", \"showlakes\": true, \"showland\": true, \"subunitcolor\": \"white\"}, \"hoverlabel\": {\"align\": \"left\"}, \"hovermode\": \"closest\", \"mapbox\": {\"style\": \"light\"}, \"paper_bgcolor\": \"white\", \"plot_bgcolor\": \"#E5ECF6\", \"polar\": {\"angularaxis\": {\"gridcolor\": \"white\", \"linecolor\": \"white\", \"ticks\": \"\"}, \"bgcolor\": \"#E5ECF6\", \"radialaxis\": {\"gridcolor\": \"white\", \"linecolor\": \"white\", \"ticks\": \"\"}}, \"scene\": {\"xaxis\": {\"backgroundcolor\": \"#E5ECF6\", \"gridcolor\": \"white\", \"gridwidth\": 2, \"linecolor\": \"white\", \"showbackground\": true, \"ticks\": \"\", \"zerolinecolor\": \"white\"}, \"yaxis\": {\"backgroundcolor\": \"#E5ECF6\", \"gridcolor\": \"white\", \"gridwidth\": 2, \"linecolor\": \"white\", \"showbackground\": true, \"ticks\": \"\", \"zerolinecolor\": \"white\"}, \"zaxis\": {\"backgroundcolor\": \"#E5ECF6\", \"gridcolor\": \"white\", \"gridwidth\": 2, \"linecolor\": \"white\", \"showbackground\": true, \"ticks\": \"\", \"zerolinecolor\": \"white\"}}, \"shapedefaults\": {\"line\": {\"color\": \"#2a3f5f\"}}, \"ternary\": {\"aaxis\": {\"gridcolor\": \"white\", \"linecolor\": \"white\", \"ticks\": \"\"}, \"baxis\": {\"gridcolor\": \"white\", \"linecolor\": \"white\", \"ticks\": \"\"}, \"bgcolor\": \"#E5ECF6\", \"caxis\": {\"gridcolor\": \"white\", \"linecolor\": \"white\", \"ticks\": \"\"}}, \"title\": {\"x\": 0.05}, \"xaxis\": {\"automargin\": true, \"gridcolor\": \"white\", \"linecolor\": \"white\", \"ticks\": \"\", \"title\": {\"standoff\": 15}, \"zerolinecolor\": \"white\", \"zerolinewidth\": 2}, \"yaxis\": {\"automargin\": true, \"gridcolor\": \"white\", \"linecolor\": \"white\", \"ticks\": \"\", \"title\": {\"standoff\": 15}, \"zerolinecolor\": \"white\", \"zerolinewidth\": 2}}}, \"xaxis\": {\"anchor\": \"y\", \"domain\": [0.0, 1.0], \"title\": {\"text\": \"TotalCoinsMined\"}}, \"yaxis\": {\"anchor\": \"x\", \"domain\": [0.0, 1.0], \"title\": {\"text\": \"TotalCoinSupply\"}}},\n",
              "                        {\"responsive\": true}\n",
              "                    ).then(function(){\n",
              "                            \n",
              "var gd = document.getElementById('0cc6cbec-76a1-4d7e-ae92-b09086846791');\n",
              "var x = new MutationObserver(function (mutations, observer) {{\n",
              "        var display = window.getComputedStyle(gd).display;\n",
              "        if (!display || display === 'none') {{\n",
              "            console.log([gd, 'removed!']);\n",
              "            Plotly.purge(gd);\n",
              "            observer.disconnect();\n",
              "        }}\n",
              "}});\n",
              "\n",
              "// Listen for the removal of the full notebook cells\n",
              "var notebookContainer = gd.closest('#notebook-container');\n",
              "if (notebookContainer) {{\n",
              "    x.observe(notebookContainer, {childList: true});\n",
              "}}\n",
              "\n",
              "// Listen for the clearing of the current output cell\n",
              "var outputEl = gd.closest('.output');\n",
              "if (outputEl) {{\n",
              "    x.observe(outputEl, {childList: true});\n",
              "}}\n",
              "\n",
              "                        })\n",
              "                };\n",
              "                \n",
              "            </script>\n",
              "        </div>\n",
              "</body>\n",
              "</html>"
            ]
          },
          "metadata": {
            "tags": []
          }
        }
      ]
    }
  ]
}